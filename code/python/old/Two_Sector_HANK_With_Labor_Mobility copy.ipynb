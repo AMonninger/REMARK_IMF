{
 "cells": [
  {
   "cell_type": "markdown",
   "metadata": {},
   "source": [
    "# Two Sector Hank (Formal and Informal with Labor Mobility)\n",
    "\n",
    "### Option 1:\n",
    "There is a continuum of ex-ante identical households. They can either work in Sector $f$ or $i$. Given a markov transition matrix.\n",
    "\n",
    "\\begin{align}\n",
    "    \\begin{pmatrix}\n",
    "        p(f \\to f) & p(f \\to i) \\\\\n",
    "        p(i \\to f) & p(i \\to i)\n",
    "    \\end{pmatrix}\n",
    "\\end{align}\n",
    "\n",
    "Given this matrix, the agent can have two different transitory or permanent shocks.\n",
    "We can also include taxes only for the formal sector by calculating z = (1 - tax) * psi_f \n",
    "\n",
    "### To Do:\n",
    "- Borrowing Constraint for different Markov States\n",
    "- Transition Matrices\n",
    "- Jacobians"
   ]
  },
  {
   "cell_type": "code",
   "execution_count": 1,
   "metadata": {},
   "outputs": [],
   "source": [
    "from HARK.ConsumptionSaving.ConsMarkovModel import MarkovConsumerType\n",
    "from HARK.ConsumptionSaving.ConsIndShockModel import init_idiosyncratic_shocks\n",
    "from HARK.distribution import DiscreteDistributionLabeled\n",
    "import matplotlib.pyplot as plt\n",
    "from ConsIndShockModel_HANK import HANKIncShkDstn\n",
    "# from HARK.utilities import jump_to_grid_1D, jump_to_grid_2D\n",
    "import numba\n",
    "\n",
    "from TwoSectorModel_HANK import TwoSectorMarkovConsumerType\n",
    "import numpy as np\n",
    "from copy import copy, deepcopy"
   ]
  },
  {
   "cell_type": "markdown",
   "metadata": {},
   "source": [
    "### TEST with two identical markov states"
   ]
  },
  {
   "cell_type": "code",
   "execution_count": 2,
   "metadata": {},
   "outputs": [],
   "source": [
    "# Define the Markov transition matrix for sector f(ormal) to i(nformal)\n",
    "p_f_to_i = 0.5 #0.2\n",
    "p_i_to_f = 0.5 #0.2\n",
    "p_f_to_f = 1 - p_f_to_i\n",
    "p_i_to_i = 1 - p_i_to_f\n",
    "\n",
    "MrkvArray = np.array(\n",
    "    [\n",
    "        [\n",
    "            p_f_to_f\n",
    "        ,\n",
    "            p_f_to_i\n",
    "        ],\n",
    "        [\n",
    "           p_i_to_f\n",
    "        ,\n",
    "            p_i_to_i\n",
    "        ]\n",
    "    ]\n",
    ")\n",
    "\n",
    "NSectors = 2"
   ]
  },
  {
   "cell_type": "code",
   "execution_count": 3,
   "metadata": {},
   "outputs": [],
   "source": [
    "r_ss = 1.03 - 1\n",
    "G_ss = .2\n",
    "B_ss = 0.25 # this is lower than the tutorial by Straub et al. because need Higher MPC\n",
    "Y_ss = 1.0\n",
    "\n",
    "init_twosector = {\n",
    "    # Parameters shared with the perfect foresight model\n",
    "    \"DiscFac\": 0.97,\n",
    "    \"Rfree\": 1.0 + r_ss,                    # Interest factor on assets\n",
    "    \"LivPrb\" : [.99375],                   # Survival probability\n",
    "\n",
    "    # Parameters that specify the income distribution over the lifecycle\n",
    "    \"PermShkStd\" : [.06],                  # Standard deviation of log permanent shocks to income\n",
    "    \"PermShkCount\" : 5,                    # Number of points in discrete approximation to permanent income shocks\n",
    "    \"TranShkStd\" : [0.2],                  # Standard deviation of log transitory shocks to income\n",
    "    \"TranShkCount\" : 5,    \n",
    "    \n",
    "    # HANK params\n",
    "    \"taxrate\" : [0.0], # set to 0.0 because we are going to assume that labor here is actually after tax income\n",
    "    \"labor\": [1.0],\n",
    "    \"wage\": [1.0],    \n",
    "    \n",
    "    # Number of points in discrete approximation to transitory income shocks\n",
    "    \"UnempPrb\" : 0.05,                      # Probability of unemployment while working\n",
    "    \"IncUnemp\" :  0.0,                     # Unemployment benefits replacement rate\n",
    "  \n",
    "    # Parameters for constructing the \"assets above minimum\" grid\n",
    "    \"aXtraMax\" : 500,                      # Maximum end-of-period \"assets above minimum\" value\n",
    "    \"aXtraCount\" : 100,                     # Number of points in the base grid of \"assets above minimum\"\n",
    "    \"BoroCnstArt\": 0.0,\n",
    "    \n",
    "    # Transition Matrix simulation parameters\n",
    "    \"mCount\": 200,\n",
    "    \"mMax\": 500,\n",
    "    \"mMin\": 1e-5,\n",
    "    \"mFac\": 3,\n",
    "\n",
    "    # Hank model bool\n",
    "    \"HANK\":True,     \n",
    "}\n",
    "\n",
    "# to add taxes, labor, and wage. This ensures that we can shock each variable.\n",
    "def function(taxrate, labor, wage):\n",
    "    \n",
    "    z = (1- taxrate)*labor*wage\n",
    "    return z\n",
    "\n",
    "init_twosector['TranShkMean_Func'] = [function]"
   ]
  },
  {
   "cell_type": "code",
   "execution_count": 4,
   "metadata": {},
   "outputs": [],
   "source": [
    "# Make a consumer with serially correlated unemployment, subject to boom and bust cycles\n",
    "# init_twosector = copy(init_idiosyncratic_shocks)\n",
    "init_twosector[\"MrkvArray\"] = [MrkvArray]\n",
    "# init_twosector[\"UnempPrb\"] = 0.0  # to make income distribution when employed\n",
    "init_twosector[\"global_markov\"] = False\n",
    "TwoSectorExample = MarkovConsumerType(**init_twosector)\n",
    "TwoSectorExample.cycles = 0\n",
    "TwoSectorExample.vFuncBool = False  # for easy toggling here"
   ]
  },
  {
   "cell_type": "code",
   "execution_count": 5,
   "metadata": {},
   "outputs": [],
   "source": [
    "# # Replace the default (lognormal) income distribution with a custom one\n",
    "# formal_income_dist = DiscreteDistributionLabeled(\n",
    "#     pmv=np.ones(1), atoms=np.array([[0.6], [0.2]]), var_names=[\"PermShk\", \"TranShk\"]\n",
    "# )  # Definitely get income\n",
    "# informal_income_dist = DiscreteDistributionLabeled(\n",
    "#     pmv=np.ones(1), atoms=np.array([[0.6], [0.6]]), var_names=[\"PermShk\", \"TranShk\"]\n",
    "# )  # Definitely don't\n",
    "# TwoSectorExample.IncShkDstn = [\n",
    "#     [\n",
    "#         formal_income_dist,\n",
    "#         informal_income_dist,\n",
    "#     ]\n",
    "# ]"
   ]
  },
  {
   "cell_type": "code",
   "execution_count": 6,
   "metadata": {},
   "outputs": [],
   "source": [
    "### Use the HARK one and add a different wage rate and tax process\n",
    "def function(taxrate, labor, wage):\n",
    "    \n",
    "    z = (1- taxrate)*labor*wage\n",
    "    return z\n",
    "\n",
    "sigma_Perm = 0.06\n",
    "sigma_Tran = 0.2\n",
    "n_approx_Perm = 7\n",
    "n_approx_Tran = 7\n",
    "IncUnemp = 0.0\n",
    "TranShkMean_Func = function\n",
    "labor = 1.0\n",
    "\n",
    "# Sector specific ones\n",
    "wage_f = 1.0\n",
    "taxrate_f = 0.0 #0.1\n",
    "UnempPrb_f = 0.05\n",
    "\n",
    "formal_income_dist_HANK = HANKIncShkDstn(sigma_Perm, sigma_Tran, n_approx_Perm, n_approx_Tran, UnempPrb_f, IncUnemp, taxrate_f, TranShkMean_Func, labor, wage_f)\n",
    "\n",
    "wage_i = 1.0 #0.5\n",
    "taxrate_i = 0.0\n",
    "UnempPrb_i = 0.05 #0.1\n",
    "informal_income_dist_HANK = HANKIncShkDstn(sigma_Perm, sigma_Tran, n_approx_Perm, n_approx_Tran, UnempPrb_i, IncUnemp, taxrate_i, TranShkMean_Func, labor, wage_i)\n"
   ]
  },
  {
   "cell_type": "code",
   "execution_count": 7,
   "metadata": {},
   "outputs": [],
   "source": [
    "TwoSectorExample.IncShkDstn = [\n",
    "    [\n",
    "        formal_income_dist_HANK,\n",
    "        informal_income_dist_HANK,\n",
    "    ]\n",
    "]"
   ]
  },
  {
   "cell_type": "code",
   "execution_count": 8,
   "metadata": {},
   "outputs": [
    {
     "data": {
      "text/plain": [
       "[[<ConsIndShockModel_HANK.HANKIncShkDstn at 0x1da39749040>,\n",
       "  <ConsIndShockModel_HANK.HANKIncShkDstn at 0x1da39749130>]]"
      ]
     },
     "execution_count": 8,
     "metadata": {},
     "output_type": "execute_result"
    }
   ],
   "source": [
    "TwoSectorExample.IncShkDstn"
   ]
  },
  {
   "cell_type": "code",
   "execution_count": 9,
   "metadata": {},
   "outputs": [
    {
     "data": {
      "text/plain": [
       "[array([[0.5, 0.5],\n",
       "        [0.5, 0.5]])]"
      ]
     },
     "execution_count": 9,
     "metadata": {},
     "output_type": "execute_result"
    }
   ],
   "source": [
    "TwoSectorExample.MrkvArray"
   ]
  },
  {
   "cell_type": "code",
   "execution_count": 10,
   "metadata": {},
   "outputs": [],
   "source": [
    "### Two different Borrowing Constraints depending in State\n",
    "# TwoSectorExample.assign_parameters(\n",
    "    \n",
    "#     BoroCnstArt = np.array(NSectors * [TwoSectorExample.BoroCnstArt])#[np.array([-1.0, 0.0])]\n",
    "# )\n",
    "TwoSectorExample.BoroCnstArt = None\n",
    "# Time varying shape\n",
    "TwoSectorExample.assign_parameters(\n",
    "    Rfree=np.array(NSectors * [TwoSectorExample.Rfree])\n",
    ")\n",
    "\n",
    "TwoSectorExample.PermGroFac = [\n",
    "    np.array(NSectors * TwoSectorExample.PermGroFac)\n",
    "]\n",
    "TwoSectorExample.LivPrb = [TwoSectorExample.LivPrb * np.ones(NSectors)]\n",
    "\n",
    "\n",
    "# TwoSectorExample.assign_parameters(\n",
    "#     Rfree=np.array(2 * [TwoSectorExample.Rfree])\n",
    "# )\n",
    "# shape = (TwoSectorExample.T_cycle, 2)\n",
    "# TwoSectorExample.Rfree = np.ones(shape) * 1.03"
   ]
  },
  {
   "cell_type": "code",
   "execution_count": 11,
   "metadata": {},
   "outputs": [
    {
     "data": {
      "text/plain": [
       "[array([0.99375, 0.99375])]"
      ]
     },
     "execution_count": 11,
     "metadata": {},
     "output_type": "execute_result"
    }
   ],
   "source": [
    "TwoSectorExample.LivPrb "
   ]
  },
  {
   "cell_type": "code",
   "execution_count": 12,
   "metadata": {},
   "outputs": [
    {
     "data": {
      "text/plain": [
       "[array([1.01, 1.01])]"
      ]
     },
     "execution_count": 12,
     "metadata": {},
     "output_type": "execute_result"
    }
   ],
   "source": [
    "TwoSectorExample.PermGroFac"
   ]
  },
  {
   "cell_type": "code",
   "execution_count": 13,
   "metadata": {},
   "outputs": [],
   "source": [
    "TwoSectorExample.BoroCnstArt"
   ]
  },
  {
   "cell_type": "code",
   "execution_count": 14,
   "metadata": {},
   "outputs": [],
   "source": [
    "# TwoSectorExample.update()\n"
   ]
  },
  {
   "cell_type": "code",
   "execution_count": 15,
   "metadata": {},
   "outputs": [
    {
     "data": {
      "text/plain": [
       "<HARK.ConsumptionSaving.ConsMarkovModel.MarkovConsumerType object at 0x1da397671c0.\n",
       "Parameters:\n",
       "cycles: 1\n",
       "CRRA: 2.0\n",
       "Rfree: [1.03 1.03]\n",
       "DiscFac: 0.97\n",
       "LivPrb: [0.99375]\n",
       "PermGroFac: [1.01]\n",
       "BoroCnstArt: 0.0\n",
       "MaxKinks: 400\n",
       "AgentCount: 10000\n",
       "aNrmInitMean: 0.0\n",
       "aNrmInitStd: 1.0\n",
       "pLvlInitMean: 0.0\n",
       "pLvlInitStd: 0.0\n",
       "PermGroFacAgg: 1.0\n",
       "T_age: None\n",
       "T_cycle: 1\n",
       "PerfMITShk: False\n",
       "aXtraMin: 0.001\n",
       "aXtraMax: 500\n",
       "aXtraNestFac: 3\n",
       "aXtraCount: 100\n",
       "aXtraExtra: [None]\n",
       "PermShkStd: [0.06]\n",
       "PermShkCount: 5\n",
       "TranShkStd: [0.2]\n",
       "TranShkCount: 5\n",
       "UnempPrb: 0.05\n",
       "UnempPrbRet: 0.005\n",
       "IncUnemp: 0.0\n",
       "IncUnempRet: 0.0\n",
       "tax_rate: 0.0\n",
       "T_retire: 0\n",
       "vFuncBool: False\n",
       "CubicBool: False\n",
       "neutral_measure: False\n",
       "NewbornTransShk: False\n",
       "taxrate: [0.0]\n",
       "labor: [1.0]\n",
       "wage: [1.0]\n",
       "mCount: 200\n",
       "mMax: 500\n",
       "mMin: 1e-05\n",
       "mFac: 3\n",
       "HANK: True\n",
       "TranShkMean_Func: [<function function at 0x000001DA3973C5E0>]\n",
       "MrkvArray: [array([[0.5, 0.5],\n",
       "       [0.5, 0.5]])]\n",
       "global_markov: False>"
      ]
     },
     "execution_count": 15,
     "metadata": {},
     "output_type": "execute_result"
    }
   ],
   "source": [
    "TwoSectorExample"
   ]
  },
  {
   "cell_type": "code",
   "execution_count": 16,
   "metadata": {},
   "outputs": [],
   "source": [
    "TwoSectorExample.solve()"
   ]
  },
  {
   "cell_type": "code",
   "execution_count": 17,
   "metadata": {},
   "outputs": [
    {
     "data": {
      "text/plain": [
       "<HARK.interpolation.LowerEnvelope at 0x1da39deef10>"
      ]
     },
     "execution_count": 17,
     "metadata": {},
     "output_type": "execute_result"
    }
   ],
   "source": [
    "TwoSectorExample.solution[0].cFunc[0]"
   ]
  },
  {
   "cell_type": "code",
   "execution_count": 18,
   "metadata": {},
   "outputs": [],
   "source": [
    "### Plot Consumption Functions\n",
    "mGrid = np.linspace(0, 10, 200)\n",
    "mGrid = mGrid - 2"
   ]
  },
  {
   "cell_type": "code",
   "execution_count": 19,
   "metadata": {},
   "outputs": [
    {
     "name": "stderr",
     "output_type": "stream",
     "text": [
      "c:\\Users\\adria\\anaconda3\\envs\\python390\\lib\\site-packages\\HARK\\interpolation.py:2187: RuntimeWarning: All-NaN slice encountered\n",
      "  y = self.compare(fx, axis=1)\n"
     ]
    },
    {
     "data": {
      "text/plain": [
       "<matplotlib.legend.Legend at 0x1da397fb970>"
      ]
     },
     "execution_count": 19,
     "metadata": {},
     "output_type": "execute_result"
    },
    {
     "data": {
      "image/png": "[encoded data removed]",
      "text/plain": [
       "<Figure size 640x480 with 1 Axes>"
      ]
     },
     "metadata": {},
     "output_type": "display_data"
    }
   ],
   "source": [
    "plt.plot(mGrid, TwoSectorExample.solution[0].cFunc[0](mGrid), label = 'formal')\n",
    "plt.plot(mGrid, TwoSectorExample.solution[0].cFunc[1](mGrid), label = 'informal')\n",
    "plt.legend()"
   ]
  },
  {
   "cell_type": "code",
   "execution_count": 20,
   "metadata": {},
   "outputs": [],
   "source": [
    "### Try new Type\n",
    "TwoSectorExampleHANK = TwoSectorMarkovConsumerType(**init_twosector)\n",
    "# TwoSectorExampleHANK = MarkovConsumerType(**init_twosector)\n",
    "TwoSectorExampleHANK.IncShkDstn = [\n",
    "    [\n",
    "        formal_income_dist_HANK,\n",
    "        informal_income_dist_HANK,\n",
    "    ]\n",
    "]\n",
    "\n",
    "# Time varying shape\n",
    "TwoSectorExampleHANK.assign_parameters(\n",
    "    Rfree=np.array(NSectors * [TwoSectorExampleHANK.Rfree])\n",
    ")\n",
    "\n",
    "TwoSectorExampleHANK.PermGroFac = [\n",
    "    np.array(NSectors * TwoSectorExampleHANK.PermGroFac)\n",
    "]\n",
    "TwoSectorExampleHANK.LivPrb = [TwoSectorExampleHANK.LivPrb * np.ones(NSectors)]\n",
    "\n",
    "TwoSectorExampleHANK.BoroCnstArt = np.array([-10.0, -1.0])\n",
    "\n",
    "TwoSectorExampleHANK.cycles = 0\n",
    "TwoSectorExampleHANK.vFuncBool = False "
   ]
  },
  {
   "cell_type": "code",
   "execution_count": 47,
   "metadata": {},
   "outputs": [
    {
     "data": {
      "text/plain": [
       "list"
      ]
     },
     "execution_count": 47,
     "metadata": {},
     "output_type": "execute_result"
    }
   ],
   "source": [
    "type(TwoSectorExampleHANK.IncShkDstn)"
   ]
  },
  {
   "cell_type": "code",
   "execution_count": 48,
   "metadata": {},
   "outputs": [
    {
     "data": {
      "text/plain": [
       "[[<ConsIndShockModel_HANK.HANKIncShkDstn at 0x1da39749040>,\n",
       "  <ConsIndShockModel_HANK.HANKIncShkDstn at 0x1da39749130>]]"
      ]
     },
     "execution_count": 48,
     "metadata": {},
     "output_type": "execute_result"
    }
   ],
   "source": [
    "TwoSectorExampleHANK.IncShkDstn"
   ]
  },
  {
   "cell_type": "code",
   "execution_count": 21,
   "metadata": {},
   "outputs": [
    {
     "data": {
      "text/plain": [
       "[array([[0.5, 0.5],\n",
       "        [0.5, 0.5]])]"
      ]
     },
     "execution_count": 21,
     "metadata": {},
     "output_type": "execute_result"
    }
   ],
   "source": [
    "TwoSectorExampleHANK.MrkvArray"
   ]
  },
  {
   "cell_type": "code",
   "execution_count": 22,
   "metadata": {},
   "outputs": [
    {
     "data": {
      "text/plain": [
       "array([-10.,  -1.])"
      ]
     },
     "execution_count": 22,
     "metadata": {},
     "output_type": "execute_result"
    }
   ],
   "source": [
    "TwoSectorExampleHANK.BoroCnstArt"
   ]
  },
  {
   "cell_type": "code",
   "execution_count": 23,
   "metadata": {},
   "outputs": [
    {
     "data": {
      "text/plain": [
       "array([1.03, 1.03])"
      ]
     },
     "execution_count": 23,
     "metadata": {},
     "output_type": "execute_result"
    }
   ],
   "source": [
    "TwoSectorExampleHANK.Rfree"
   ]
  },
  {
   "cell_type": "code",
   "execution_count": 24,
   "metadata": {},
   "outputs": [],
   "source": [
    "TwoSectorExampleHANK.solve()"
   ]
  },
  {
   "cell_type": "code",
   "execution_count": 25,
   "metadata": {},
   "outputs": [
    {
     "data": {
      "text/plain": [
       "<matplotlib.legend.Legend at 0x1da398d6340>"
      ]
     },
     "execution_count": 25,
     "metadata": {},
     "output_type": "execute_result"
    },
    {
     "data": {
      "image/png": "[encoded data removed]",
      "text/plain": [
       "<Figure size 640x480 with 1 Axes>"
      ]
     },
     "metadata": {},
     "output_type": "display_data"
    }
   ],
   "source": [
    "plt.plot(mGrid, TwoSectorExample.solution[0].cFunc[0](mGrid), label = 'formal')\n",
    "plt.plot(mGrid, TwoSectorExample.solution[0].cFunc[1](mGrid), label = 'informal')\n",
    "plt.plot(mGrid, TwoSectorExampleHANK.solution[0].cFunc[0](mGrid), '--', label = 'formal')\n",
    "plt.plot(mGrid, TwoSectorExampleHANK.solution[0].cFunc[1](mGrid), '--', label = 'informal')\n",
    "plt.legend()"
   ]
  },
  {
   "cell_type": "markdown",
   "metadata": {},
   "source": [
    "### Two Borrowing Constraints don't make a difference\n",
    "- The reason is that even with a small probability risk to transition to the informal sector and becoming uneployed, the potential income is 0. Note that the agent could become unemployed all the time. If the agent would have debt prior to transitioning to the informal sector, the agent would need to repay it, but could not.\n"
   ]
  },
  {
   "cell_type": "code",
   "execution_count": 26,
   "metadata": {},
   "outputs": [
    {
     "name": "stderr",
     "output_type": "stream",
     "text": [
      "C:\\Users\\adria\\AppData\\Local\\Temp\\ipykernel_10260\\2658075394.py:5: RuntimeWarning: divide by zero encountered in log\n",
      "  TwoSectorExampleHANK.aNrmInitMean = np.log(0.0)\n"
     ]
    },
    {
     "data": {
      "text/plain": [
       "{'mNrm': array([[1.        , 1.        , 1.        , ..., 1.        , 1.        ,\n",
       "         1.        ],\n",
       "        [1.35343507, 1.37676757, 1.54722419, ..., 1.75669261, 1.34521649,\n",
       "         1.34521649],\n",
       "        [1.55423191, 1.64865084, 1.89971854, ..., 1.58805923, 1.70688194,\n",
       "         1.42184801],\n",
       "        ...,\n",
       "        [1.90326363, 2.13599238, 2.18563139, ..., 0.70876787, 1.79355543,\n",
       "         2.39633205],\n",
       "        [1.92989786, 2.07345754, 1.15380451, ..., 1.16314311, 1.82078168,\n",
       "         2.64409699],\n",
       "        [1.78274709, 2.02069568, 1.35634053, ..., 1.62492741, 1.93540037,\n",
       "         1.65253263]]),\n",
       " 'cNrm': array([[0.67834465, 0.67834465, 0.67834465, ..., 0.67834465, 0.67834465,\n",
       "         0.67834465],\n",
       "        [0.817126  , 0.8245617 , 0.87334636, ..., 0.9231205 , 0.81446812,\n",
       "         0.81446812],\n",
       "        [0.87518126, 0.89867587, 0.95198762, ..., 0.88386781, 0.9121351 ,\n",
       "         0.83836127],\n",
       "        ...,\n",
       "        [0.95265758, 0.99296556, 1.00070245, ..., 0.51806197, 0.93089626,\n",
       "         1.03088246],\n",
       "        [0.95769099, 0.98285529, 0.7454787 , ..., 0.74919111, 0.93650887,\n",
       "         1.06189073],\n",
       "        [0.92861637, 0.97392729, 0.81806563, ..., 0.89301992, 0.95873087,\n",
       "         0.89958861]])}"
      ]
     },
     "execution_count": 26,
     "metadata": {},
     "output_type": "execute_result"
    }
   ],
   "source": [
    "### Simulate\n",
    "TwoSectorExampleHANK.T_sim = 10\n",
    "TwoSectorExampleHANK.MrkvPrbsInit = [0.5, 0.5]\n",
    "TwoSectorExampleHANK.track_vars = [\"mNrm\", \"cNrm\"]\n",
    "TwoSectorExampleHANK.aNrmInitMean = np.log(0.0) \n",
    "TwoSectorExampleHANK.make_shock_history()  # This is optional\n",
    "TwoSectorExampleHANK.initialize_sim()\n",
    "TwoSectorExampleHANK.simulate()"
   ]
  },
  {
   "cell_type": "code",
   "execution_count": 27,
   "metadata": {},
   "outputs": [
    {
     "data": {
      "text/plain": [
       "0.8944979780346947"
      ]
     },
     "execution_count": 27,
     "metadata": {},
     "output_type": "execute_result"
    }
   ],
   "source": [
    "np.mean(TwoSectorExampleHANK.history['cNrm'])"
   ]
  },
  {
   "cell_type": "code",
   "execution_count": 28,
   "metadata": {},
   "outputs": [
    {
     "data": {
      "text/plain": [
       "1.7720454458422548"
      ]
     },
     "execution_count": 28,
     "metadata": {},
     "output_type": "execute_result"
    }
   ],
   "source": [
    "np.mean(TwoSectorExampleHANK.history['mNrm'])"
   ]
  },
  {
   "cell_type": "code",
   "execution_count": 29,
   "metadata": {},
   "outputs": [
    {
     "data": {
      "text/plain": [
       "array([1.03, 1.03])"
      ]
     },
     "execution_count": 29,
     "metadata": {},
     "output_type": "execute_result"
    }
   ],
   "source": [
    "TwoSectorExampleHANK.Rfree"
   ]
  },
  {
   "cell_type": "markdown",
   "metadata": {},
   "source": [
    "### Transitionmatrix test"
   ]
  },
  {
   "cell_type": "code",
   "execution_count": 30,
   "metadata": {},
   "outputs": [],
   "source": [
    "# TwoSectorExampleHANK.mCount = 100\n",
    "# TwoSectorExampleHANK.mFac = 3\n",
    "# TwoSectorExampleHANK.mMin = 0.001\n",
    "# TwoSectorExampleHANK.mMax = 1000\n",
    "TwoSectorExampleHANK.neutral_measure = True"
   ]
  },
  {
   "cell_type": "code",
   "execution_count": 31,
   "metadata": {},
   "outputs": [],
   "source": [
    "TwoSectorExampleHANK.define_distribution_grid()"
   ]
  },
  {
   "cell_type": "code",
   "execution_count": 32,
   "metadata": {},
   "outputs": [
    {
     "data": {
      "text/plain": [
       "[0.5, 0.5]"
      ]
     },
     "execution_count": 32,
     "metadata": {},
     "output_type": "execute_result"
    }
   ],
   "source": [
    "TwoSectorExampleHANK.cycles\n",
    "TwoSectorExampleHANK.MrkvPrbsInit"
   ]
  },
  {
   "cell_type": "code",
   "execution_count": 33,
   "metadata": {},
   "outputs": [],
   "source": [
    "TwoSectorExampleHANK.calc_transition_matrix_Markov()"
   ]
  },
  {
   "cell_type": "code",
   "execution_count": 34,
   "metadata": {},
   "outputs": [
    {
     "data": {
      "text/plain": [
       "array([[0.0448886 , 0.04135698, 0.03262414, ..., 0.        , 0.        ,\n",
       "        0.        ],\n",
       "       [0.0548457 , 0.05048988, 0.04394748, ..., 0.        , 0.        ,\n",
       "        0.        ],\n",
       "       [0.05077648, 0.05295836, 0.04864464, ..., 0.        , 0.        ,\n",
       "        0.        ],\n",
       "       ...,\n",
       "       [0.        , 0.        , 0.        , ..., 0.28801117, 0.1125563 ,\n",
       "        0.        ],\n",
       "       [0.        , 0.        , 0.        , ..., 0.09367684, 0.2924583 ,\n",
       "        0.11000231],\n",
       "       [0.        , 0.        , 0.        , ..., 0.        , 0.0918604 ,\n",
       "        0.38687269]])"
      ]
     },
     "execution_count": 34,
     "metadata": {},
     "output_type": "execute_result"
    }
   ],
   "source": [
    "TwoSectorExampleHANK.tran_matrix[100:, 100:]"
   ]
  },
  {
   "cell_type": "code",
   "execution_count": 35,
   "metadata": {},
   "outputs": [],
   "source": [
    "TwoSectorExampleHANK.calc_ergodic_dist_Markov()"
   ]
  },
  {
   "cell_type": "code",
   "execution_count": 36,
   "metadata": {},
   "outputs": [
    {
     "data": {
      "text/plain": [
       "(1.6536506854393915, 1.04685542160192)"
      ]
     },
     "execution_count": 36,
     "metadata": {},
     "output_type": "execute_result"
    }
   ],
   "source": [
    "TwoSectorExampleHANK.compute_steady_state()"
   ]
  },
  {
   "cell_type": "markdown",
   "metadata": {},
   "source": [
    "### TEST WITH INDSHOCKCONSUMER"
   ]
  },
  {
   "cell_type": "code",
   "execution_count": 37,
   "metadata": {},
   "outputs": [],
   "source": [
    "from ConsIndShockModel_HANK import IndShockConsumerType \n"
   ]
  },
  {
   "cell_type": "code",
   "execution_count": 38,
   "metadata": {},
   "outputs": [],
   "source": [
    "OneSector_HANK = IndShockConsumerType(**init_twosector, verbose = False)"
   ]
  },
  {
   "cell_type": "code",
   "execution_count": 39,
   "metadata": {},
   "outputs": [],
   "source": [
    "OneSector_HANK.cycles = 0\n",
    "OneSector_HANK.solve()\n",
    "\n",
    "# Use Harmenberg Measure\n",
    "OneSector_HANK.neutral_measure = True\n",
    "# self.update_income_process()\n",
    "\n",
    "# Non stochastic simuation\n",
    "OneSector_HANK.define_distribution_grid()\n",
    "OneSector_HANK.calc_transition_matrix()\n",
    "\n"
   ]
  },
  {
   "cell_type": "code",
   "execution_count": 40,
   "metadata": {},
   "outputs": [
    {
     "data": {
      "text/plain": [
       "array([[0.0559375 , 0.04489708, 0.03358322, ..., 0.00625   , 0.00625   ,\n",
       "        0.00625   ],\n",
       "       [0.        , 0.01104042, 0.02235428, ..., 0.        , 0.        ,\n",
       "        0.        ],\n",
       "       [0.        , 0.        , 0.        , ..., 0.        , 0.        ,\n",
       "        0.        ],\n",
       "       ...,\n",
       "       [0.        , 0.        , 0.        , ..., 0.58081148, 0.22316936,\n",
       "        0.        ],\n",
       "       [0.        , 0.        , 0.        , ..., 0.18450198, 0.58967822,\n",
       "        0.21806048],\n",
       "       [0.        , 0.        , 0.        , ..., 0.        , 0.18090243,\n",
       "        0.77568952]])"
      ]
     },
     "execution_count": 40,
     "metadata": {},
     "output_type": "execute_result"
    }
   ],
   "source": [
    "OneSector_HANK.tran_matrix"
   ]
  },
  {
   "cell_type": "code",
   "execution_count": 43,
   "metadata": {},
   "outputs": [
    {
     "data": {
      "text/plain": [
       "array([[0.0528125 , 0.04177056, 0.03045507, ..., 0.003125  , 0.003125  ,\n",
       "        0.003125  ],\n",
       "       [0.        , 0.01104194, 0.02235743, ..., 0.        , 0.        ,\n",
       "        0.        ],\n",
       "       [0.        , 0.        , 0.        , ..., 0.        , 0.        ,\n",
       "        0.        ],\n",
       "       ...,\n",
       "       [0.        , 0.        , 0.        , ..., 0.57602233, 0.22511259,\n",
       "        0.        ],\n",
       "       [0.        , 0.        , 0.        , ..., 0.18735368, 0.58491661,\n",
       "        0.22000463],\n",
       "       [0.        , 0.        , 0.        , ..., 0.        , 0.1837208 ,\n",
       "        0.77374537]])"
      ]
     },
     "execution_count": 43,
     "metadata": {},
     "output_type": "execute_result"
    }
   ],
   "source": [
    "TwoSectorExampleHANK.tran_matrix "
   ]
  },
  {
   "cell_type": "code",
   "execution_count": 45,
   "metadata": {},
   "outputs": [
    {
     "data": {
      "text/plain": [
       "[array([1.01, 1.01])]"
      ]
     },
     "execution_count": 45,
     "metadata": {},
     "output_type": "execute_result"
    }
   ],
   "source": [
    "TwoSectorExampleHANK.PermGroFac "
   ]
  },
  {
   "cell_type": "code",
   "execution_count": 41,
   "metadata": {},
   "outputs": [
    {
     "ename": "NameError",
     "evalue": "name 'stop' is not defined",
     "output_type": "error",
     "traceback": [
      "\u001b[1;31m---------------------------------------------------------------------------\u001b[0m",
      "\u001b[1;31mNameError\u001b[0m                                 Traceback (most recent call last)",
      "Cell \u001b[1;32mIn[41], line 1\u001b[0m\n\u001b[1;32m----> 1\u001b[0m \u001b[43mstop\u001b[49m\n",
      "\u001b[1;31mNameError\u001b[0m: name 'stop' is not defined"
     ]
    }
   ],
   "source": [
    "stop"
   ]
  },
  {
   "cell_type": "code",
   "execution_count": null,
   "metadata": {},
   "outputs": [],
   "source": [
    "# Stack consumption and asset policy grids for each Markov State\n",
    "c_ss = OneSector_HANK.cPol_Grid #np.vstack(self.cPol_Grid)  # Normalized Consumption Policy grid\n",
    "a_ss = OneSector_HANK.aPol_Grid  # Normalized Asset Policy grid\n",
    "\n",
    "OneSector_HANK.calc_ergodic_dist()  # Calculate ergodic distribution\n",
    "# Steady State Distribution as a vector (m*p x 1) where m is the number of gridpoints on the market resources grid\n",
    "ss_dstn = OneSector_HANK.vec_erg_dstn\n",
    "\n",
    "A_ss = np.dot(a_ss, ss_dstn)[0]\n",
    "C_ss = np.dot(c_ss, ss_dstn)[0]"
   ]
  },
  {
   "cell_type": "code",
   "execution_count": null,
   "metadata": {},
   "outputs": [
    {
     "data": {
      "text/plain": [
       "array([[ 6.57683426e-03],\n",
       "       [ 2.73566679e-07],\n",
       "       [ 6.21965702e-07],\n",
       "       [ 9.60848378e-07],\n",
       "       [ 1.21628984e-06],\n",
       "       [ 1.46221363e-06],\n",
       "       [ 1.69678383e-06],\n",
       "       [ 1.98942123e-06],\n",
       "       [ 3.03271621e-06],\n",
       "       [ 3.76380693e-06],\n",
       "       [ 3.71209771e-06],\n",
       "       [ 4.43135695e-06],\n",
       "       [ 5.00417722e-06],\n",
       "       [ 5.43918738e-06],\n",
       "       [ 5.91852820e-06],\n",
       "       [ 6.50141514e-06],\n",
       "       [ 6.94511310e-06],\n",
       "       [ 7.17021245e-06],\n",
       "       [ 7.44484762e-06],\n",
       "       [ 8.30482351e-06],\n",
       "       [ 8.65125709e-06],\n",
       "       [ 9.98311321e-06],\n",
       "       [ 1.00187882e-05],\n",
       "       [ 1.13315303e-05],\n",
       "       [ 1.08821907e-05],\n",
       "       [ 1.16165674e-05],\n",
       "       [ 1.26365189e-05],\n",
       "       [ 1.30952736e-05],\n",
       "       [ 1.54566913e-05],\n",
       "       [ 2.14944735e-05],\n",
       "       [ 2.69746082e-05],\n",
       "       [ 3.15425992e-05],\n",
       "       [ 2.99895135e-05],\n",
       "       [ 2.65813327e-05],\n",
       "       [ 2.51162473e-05],\n",
       "       [ 2.59908808e-05],\n",
       "       [ 3.48236669e-05],\n",
       "       [ 3.70930897e-05],\n",
       "       [ 3.94621399e-05],\n",
       "       [ 4.33917035e-05],\n",
       "       [ 4.20620738e-05],\n",
       "       [ 5.17176398e-05],\n",
       "       [ 5.01289344e-05],\n",
       "       [ 5.44010345e-05],\n",
       "       [ 5.20881912e-05],\n",
       "       [ 6.80349876e-05],\n",
       "       [ 6.13849315e-05],\n",
       "       [ 6.77454761e-05],\n",
       "       [ 8.14026933e-05],\n",
       "       [ 7.40146395e-05],\n",
       "       [ 8.18398952e-05],\n",
       "       [ 8.96755247e-05],\n",
       "       [ 8.29267698e-05],\n",
       "       [ 9.54446059e-05],\n",
       "       [ 1.10626663e-04],\n",
       "       [ 1.07969931e-04],\n",
       "       [ 1.39073083e-04],\n",
       "       [ 1.32742474e-04],\n",
       "       [ 1.50661492e-04],\n",
       "       [ 1.65408710e-04],\n",
       "       [ 1.56663886e-04],\n",
       "       [ 1.87015915e-04],\n",
       "       [ 1.80761819e-04],\n",
       "       [ 2.04901832e-04],\n",
       "       [ 2.32456254e-04],\n",
       "       [ 2.13695709e-04],\n",
       "       [ 2.73687650e-04],\n",
       "       [ 2.66873364e-04],\n",
       "       [ 8.07537074e-04],\n",
       "       [ 1.06868034e-03],\n",
       "       [ 3.47877465e-04],\n",
       "       [ 4.68890667e-04],\n",
       "       [ 4.48333397e-04],\n",
       "       [ 5.29954240e-04],\n",
       "       [ 1.13158553e-03],\n",
       "       [ 1.32171070e-03],\n",
       "       [ 7.85233313e-04],\n",
       "       [ 8.84368076e-04],\n",
       "       [ 1.92456533e-03],\n",
       "       [ 1.51156468e-03],\n",
       "       [ 1.32839680e-03],\n",
       "       [ 1.59428530e-03],\n",
       "       [ 2.97511951e-03],\n",
       "       [ 2.13873208e-03],\n",
       "       [ 2.39685240e-03],\n",
       "       [ 2.73029924e-03],\n",
       "       [ 3.14691754e-03],\n",
       "       [ 3.62416311e-03],\n",
       "       [ 5.08546835e-03],\n",
       "       [ 5.08133802e-03],\n",
       "       [ 5.38557215e-03],\n",
       "       [ 6.30832539e-03],\n",
       "       [ 7.06925568e-03],\n",
       "       [ 8.05791026e-03],\n",
       "       [ 9.39383472e-03],\n",
       "       [ 1.06789528e-02],\n",
       "       [ 1.21186766e-02],\n",
       "       [ 1.39496048e-02],\n",
       "       [ 1.55316202e-02],\n",
       "       [ 1.78530591e-02],\n",
       "       [ 2.01849773e-02],\n",
       "       [ 2.25301417e-02],\n",
       "       [ 2.55444156e-02],\n",
       "       [ 2.82424520e-02],\n",
       "       [ 3.10623636e-02],\n",
       "       [ 3.43138048e-02],\n",
       "       [ 3.74104488e-02],\n",
       "       [ 4.00432665e-02],\n",
       "       [ 4.24773315e-02],\n",
       "       [ 4.48260864e-02],\n",
       "       [ 4.62333854e-02],\n",
       "       [ 4.74441519e-02],\n",
       "       [ 4.71507954e-02],\n",
       "       [ 4.66823711e-02],\n",
       "       [ 4.52854277e-02],\n",
       "       [ 4.28751366e-02],\n",
       "       [ 3.94961269e-02],\n",
       "       [ 3.61898824e-02],\n",
       "       [ 3.20951117e-02],\n",
       "       [ 2.78257555e-02],\n",
       "       [ 2.34031719e-02],\n",
       "       [ 1.93840467e-02],\n",
       "       [ 1.58267995e-02],\n",
       "       [ 1.24150808e-02],\n",
       "       [ 9.52287028e-03],\n",
       "       [ 7.09625848e-03],\n",
       "       [ 5.19197231e-03],\n",
       "       [ 3.66421528e-03],\n",
       "       [ 2.54761031e-03],\n",
       "       [ 1.73781979e-03],\n",
       "       [ 1.15049893e-03],\n",
       "       [ 7.36006579e-04],\n",
       "       [ 4.62052881e-04],\n",
       "       [ 2.84519749e-04],\n",
       "       [ 1.71276378e-04],\n",
       "       [ 1.01865127e-04],\n",
       "       [ 5.95904388e-05],\n",
       "       [ 3.43439894e-05],\n",
       "       [ 1.94990676e-05],\n",
       "       [ 1.09228334e-05],\n",
       "       [ 6.04753108e-06],\n",
       "       [ 3.31310248e-06],\n",
       "       [ 1.79723355e-06],\n",
       "       [ 9.65980473e-07],\n",
       "       [ 5.13817607e-07],\n",
       "       [ 2.68499490e-07],\n",
       "       [ 1.40027301e-07],\n",
       "       [ 7.28552452e-08],\n",
       "       [ 3.79639631e-08],\n",
       "       [ 1.98246399e-08],\n",
       "       [ 1.03669929e-08],\n",
       "       [ 5.43450688e-09],\n",
       "       [ 2.86042914e-09],\n",
       "       [ 1.51309489e-09],\n",
       "       [ 8.05374615e-10],\n",
       "       [ 4.31154172e-10],\n",
       "       [ 2.32345435e-10],\n",
       "       [ 1.25824392e-10],\n",
       "       [ 6.88189065e-11],\n",
       "       [ 3.79213387e-11],\n",
       "       [ 2.11401770e-11],\n",
       "       [ 1.19069416e-11],\n",
       "       [ 6.77713531e-12],\n",
       "       [ 3.89799229e-12],\n",
       "       [ 2.26972503e-12],\n",
       "       [ 1.33725238e-12],\n",
       "       [ 7.97018454e-13],\n",
       "       [ 4.80253603e-13],\n",
       "       [ 2.92488239e-13],\n",
       "       [ 1.80047906e-13],\n",
       "       [ 1.11947465e-13],\n",
       "       [ 7.02340562e-14],\n",
       "       [ 4.44169780e-14],\n",
       "       [ 2.82638538e-14],\n",
       "       [ 1.80713826e-14],\n",
       "       [ 1.15853429e-14],\n",
       "       [ 7.40555058e-15],\n",
       "       [ 4.69256697e-15],\n",
       "       [ 2.90442931e-15],\n",
       "       [ 1.72171778e-15],\n",
       "       [ 9.36121993e-16],\n",
       "       [ 4.00457628e-16],\n",
       "       [ 3.61218403e-17],\n",
       "       [-2.17589424e-16],\n",
       "       [-3.98245989e-16],\n",
       "       [-5.26653560e-16],\n",
       "       [-6.08924610e-16],\n",
       "       [-6.60008008e-16],\n",
       "       [-6.99594012e-16],\n",
       "       [-7.23588018e-16],\n",
       "       [-7.38077713e-16],\n",
       "       [-7.46092826e-16],\n",
       "       [-7.48190553e-16],\n",
       "       [-7.48229130e-16],\n",
       "       [-7.37389143e-16],\n",
       "       [-7.18891728e-16],\n",
       "       [-6.83304938e-16],\n",
       "       [-6.38286202e-16],\n",
       "       [-5.77643998e-16],\n",
       "       [-5.06875472e-16]])"
      ]
     },
     "execution_count": 57,
     "metadata": {},
     "output_type": "execute_result"
    }
   ],
   "source": [
    "OneSector_HANK.vec_erg_dstn"
   ]
  },
  {
   "cell_type": "code",
   "execution_count": null,
   "metadata": {},
   "outputs": [
    {
     "data": {
      "text/plain": [
       "array([[3.29928235e-03],\n",
       "       [2.32798947e-07],\n",
       "       [4.95168795e-07],\n",
       "       [7.72196197e-07],\n",
       "       [1.02020532e-06],\n",
       "       [1.25209688e-06],\n",
       "       [1.48054386e-06],\n",
       "       [1.80760641e-06],\n",
       "       [2.40648846e-06],\n",
       "       [2.67891562e-06],\n",
       "       [3.03103375e-06],\n",
       "       [3.52253576e-06],\n",
       "       [3.92733821e-06],\n",
       "       [4.41049359e-06],\n",
       "       [4.80023977e-06],\n",
       "       [5.20843961e-06],\n",
       "       [5.66260423e-06],\n",
       "       [6.20527837e-06],\n",
       "       [6.72393522e-06],\n",
       "       [6.85897935e-06],\n",
       "       [7.78736496e-06],\n",
       "       [7.96176999e-06],\n",
       "       [9.03103208e-06],\n",
       "       [9.16235696e-06],\n",
       "       [1.00051462e-05],\n",
       "       [1.07085052e-05],\n",
       "       [1.09127788e-05],\n",
       "       [1.27223922e-05],\n",
       "       [1.46998601e-05],\n",
       "       [1.81094029e-05],\n",
       "       [1.99629290e-05],\n",
       "       [1.87075598e-05],\n",
       "       [1.98130630e-05],\n",
       "       [1.94288033e-05],\n",
       "       [2.19489747e-05],\n",
       "       [2.44676251e-05],\n",
       "       [2.69548795e-05],\n",
       "       [3.13120156e-05],\n",
       "       [3.00412002e-05],\n",
       "       [3.26543201e-05],\n",
       "       [3.44178814e-05],\n",
       "       [3.66377349e-05],\n",
       "       [4.52782961e-05],\n",
       "       [4.15352052e-05],\n",
       "       [4.35200018e-05],\n",
       "       [5.30282331e-05],\n",
       "       [5.27404104e-05],\n",
       "       [5.47164019e-05],\n",
       "       [5.91236507e-05],\n",
       "       [6.94808689e-05],\n",
       "       [6.66932382e-05],\n",
       "       [7.61467966e-05],\n",
       "       [8.44348567e-05],\n",
       "       [7.49688469e-05],\n",
       "       [1.04053356e-04],\n",
       "       [9.34923437e-05],\n",
       "       [8.91627305e-05],\n",
       "       [1.45043861e-04],\n",
       "       [1.08394097e-04],\n",
       "       [1.39835480e-04],\n",
       "       [1.53807812e-04],\n",
       "       [1.28435064e-04],\n",
       "       [2.17588977e-04],\n",
       "       [1.52702989e-04],\n",
       "       [2.03249041e-04],\n",
       "       [2.19824228e-04],\n",
       "       [1.87973466e-04],\n",
       "       [6.20060278e-04],\n",
       "       [3.74312661e-04],\n",
       "       [3.40468368e-04],\n",
       "       [3.37767334e-04],\n",
       "       [3.45423972e-04],\n",
       "       [6.48712162e-04],\n",
       "       [6.89039305e-04],\n",
       "       [6.31482513e-04],\n",
       "       [6.85925510e-04],\n",
       "       [1.00328952e-03],\n",
       "       [8.37311837e-04],\n",
       "       [1.08611954e-03],\n",
       "       [1.37458322e-03],\n",
       "       [1.12712041e-03],\n",
       "       [1.80140623e-03],\n",
       "       [1.59374053e-03],\n",
       "       [1.68781478e-03],\n",
       "       [2.77573619e-03],\n",
       "       [2.24228367e-03],\n",
       "       [2.83906630e-03],\n",
       "       [3.20466389e-03],\n",
       "       [3.43568430e-03],\n",
       "       [4.75938060e-03],\n",
       "       [4.89021785e-03],\n",
       "       [5.49810148e-03],\n",
       "       [6.47911041e-03],\n",
       "       [7.06609093e-03],\n",
       "       [8.69503046e-03],\n",
       "       [9.64167393e-03],\n",
       "       [1.09938404e-02],\n",
       "       [1.29195664e-02],\n",
       "       [1.44727234e-02],\n",
       "       [1.65206192e-02],\n",
       "       [1.89599733e-02],\n",
       "       [2.15208040e-02],\n",
       "       [2.38424342e-02],\n",
       "       [2.71560213e-02],\n",
       "       [2.97483415e-02],\n",
       "       [3.32788572e-02],\n",
       "       [3.61519621e-02],\n",
       "       [3.89983962e-02],\n",
       "       [4.16552907e-02],\n",
       "       [4.41733009e-02],\n",
       "       [4.57972544e-02],\n",
       "       [4.69478774e-02],\n",
       "       [4.76910688e-02],\n",
       "       [4.81137918e-02],\n",
       "       [4.64145025e-02],\n",
       "       [4.39914800e-02],\n",
       "       [4.16741179e-02],\n",
       "       [3.83100039e-02],\n",
       "       [3.43594622e-02],\n",
       "       [3.01434762e-02],\n",
       "       [2.62847244e-02],\n",
       "       [2.22632362e-02],\n",
       "       [1.81019586e-02],\n",
       "       [1.45877511e-02],\n",
       "       [1.13734630e-02],\n",
       "       [8.72863462e-03],\n",
       "       [6.61626406e-03],\n",
       "       [4.78020226e-03],\n",
       "       [3.37707507e-03],\n",
       "       [2.35318007e-03],\n",
       "       [1.60608777e-03],\n",
       "       [1.06587797e-03],\n",
       "       [6.96765036e-04],\n",
       "       [4.48114225e-04],\n",
       "       [2.83050125e-04],\n",
       "       [1.76358716e-04],\n",
       "       [1.06506448e-04],\n",
       "       [6.30021041e-05],\n",
       "       [3.70189737e-05],\n",
       "       [2.14511326e-05],\n",
       "       [1.22739708e-05],\n",
       "       [6.95623246e-06],\n",
       "       [3.91681778e-06],\n",
       "       [2.18655959e-06],\n",
       "       [1.21220075e-06],\n",
       "       [6.70282449e-07],\n",
       "       [3.69161614e-07],\n",
       "       [2.03205708e-07],\n",
       "       [1.11616002e-07],\n",
       "       [6.13803825e-08],\n",
       "       [3.37240211e-08],\n",
       "       [1.85959065e-08],\n",
       "       [1.02222642e-08],\n",
       "       [5.65604553e-09],\n",
       "       [3.14691811e-09],\n",
       "       [1.76132330e-09],\n",
       "       [9.91816414e-10],\n",
       "       [5.63925048e-10],\n",
       "       [3.23127995e-10],\n",
       "       [1.87106324e-10],\n",
       "       [1.09404049e-10],\n",
       "       [6.46449522e-11],\n",
       "       [3.86098201e-11],\n",
       "       [2.32813180e-11],\n",
       "       [1.41973351e-11],\n",
       "       [8.75812707e-12],\n",
       "       [5.46134263e-12],\n",
       "       [3.44354245e-12],\n",
       "       [2.19179638e-12],\n",
       "       [1.41154565e-12],\n",
       "       [9.18786449e-13],\n",
       "       [6.05382677e-13],\n",
       "       [4.03491729e-13],\n",
       "       [2.72007938e-13],\n",
       "       [1.85395687e-13],\n",
       "       [1.27746316e-13],\n",
       "       [8.89324049e-14],\n",
       "       [6.25558171e-14],\n",
       "       [4.44663934e-14],\n",
       "       [3.19418402e-14],\n",
       "       [2.31825609e-14],\n",
       "       [1.70065577e-14],\n",
       "       [1.26193089e-14],\n",
       "       [9.47427745e-15],\n",
       "       [7.19601935e-15],\n",
       "       [5.52726731e-15],\n",
       "       [4.29406572e-15],\n",
       "       [3.37631808e-15],\n",
       "       [2.69134096e-15],\n",
       "       [2.19356250e-15],\n",
       "       [1.80920451e-15],\n",
       "       [1.51462213e-15],\n",
       "       [1.28575773e-15],\n",
       "       [1.10941997e-15],\n",
       "       [9.73218161e-16],\n",
       "       [8.57735204e-16],\n",
       "       [7.53755391e-16],\n",
       "       [6.64129145e-16],\n",
       "       [5.74328672e-16],\n",
       "       [4.89185469e-16]])"
      ]
     },
     "execution_count": 59,
     "metadata": {},
     "output_type": "execute_result"
    }
   ],
   "source": [
    "TwoSectorExampleHANK.vec_erg_dstn[:200] + TwoSectorExampleHANK.vec_erg_dstn[200:]"
   ]
  },
  {
   "cell_type": "code",
   "execution_count": null,
   "metadata": {},
   "outputs": [
    {
     "data": {
      "text/plain": [
       "1.0365198432724492"
      ]
     },
     "execution_count": 53,
     "metadata": {},
     "output_type": "execute_result"
    }
   ],
   "source": [
    "C_ss"
   ]
  },
  {
   "cell_type": "code",
   "execution_count": null,
   "metadata": {},
   "outputs": [
    {
     "data": {
      "text/plain": [
       "1.591588754312272"
      ]
     },
     "execution_count": 45,
     "metadata": {},
     "output_type": "execute_result"
    }
   ],
   "source": [
    "A_ss"
   ]
  },
  {
   "cell_type": "code",
   "execution_count": null,
   "metadata": {},
   "outputs": [
    {
     "ename": "NameError",
     "evalue": "name 'stop' is not defined",
     "output_type": "error",
     "traceback": [
      "\u001b[1;31m---------------------------------------------------------------------------\u001b[0m",
      "\u001b[1;31mNameError\u001b[0m                                 Traceback (most recent call last)",
      "Cell \u001b[1;32mIn[72], line 1\u001b[0m\n\u001b[1;32m----> 1\u001b[0m \u001b[43mstop\u001b[49m\n",
      "\u001b[1;31mNameError\u001b[0m: name 'stop' is not defined"
     ]
    }
   ],
   "source": [
    "stop"
   ]
  },
  {
   "cell_type": "code",
   "execution_count": null,
   "metadata": {},
   "outputs": [
    {
     "ename": "AttributeError",
     "evalue": "'TwoSectorMarkovConsumerType' object has no attribute 'tran_matrix'",
     "output_type": "error",
     "traceback": [
      "\u001b[1;31m---------------------------------------------------------------------------\u001b[0m",
      "\u001b[1;31mAttributeError\u001b[0m                            Traceback (most recent call last)",
      "Cell \u001b[1;32mIn[40], line 1\u001b[0m\n\u001b[1;32m----> 1\u001b[0m tran_matrix \u001b[38;5;241m=\u001b[39m \u001b[43mTwoSectorExampleHANK\u001b[49m\u001b[38;5;241;43m.\u001b[39;49m\u001b[43mtran_matrix\u001b[49m\n",
      "\u001b[1;31mAttributeError\u001b[0m: 'TwoSectorMarkovConsumerType' object has no attribute 'tran_matrix'"
     ]
    }
   ],
   "source": [
    "tran_matrix = TwoSectorExampleHANK.tran_matrix"
   ]
  },
  {
   "cell_type": "code",
   "execution_count": null,
   "metadata": {},
   "outputs": [
    {
     "ename": "AttributeError",
     "evalue": "'TwoSectorMarkovConsumerType' object has no attribute 'tran_matrix'",
     "output_type": "error",
     "traceback": [
      "\u001b[1;31m---------------------------------------------------------------------------\u001b[0m",
      "\u001b[1;31mAttributeError\u001b[0m                            Traceback (most recent call last)",
      "Cell \u001b[1;32mIn[38], line 1\u001b[0m\n\u001b[1;32m----> 1\u001b[0m \u001b[43mTwoSectorExampleHANK\u001b[49m\u001b[38;5;241;43m.\u001b[39;49m\u001b[43mcalc_ergodic_dist\u001b[49m\u001b[43m(\u001b[49m\u001b[43m)\u001b[49m\n",
      "File \u001b[1;32mc:\\Users\\adria\\OneDrive - Johns Hopkins\\Github\\AMonninger\\REMARK_IMF_latest\\code\\python\\TwoSectorModel_HANK.py:499\u001b[0m, in \u001b[0;36mTwoSectorMarkovConsumerType.calc_ergodic_dist\u001b[1;34m(self, transition_matrix)\u001b[0m\n\u001b[0;32m    482\u001b[0m \u001b[38;5;250m\u001b[39m\u001b[38;5;124;03m\"\"\"\u001b[39;00m\n\u001b[0;32m    483\u001b[0m \u001b[38;5;124;03mCalculates the ergodic distribution across normalized market resources and\u001b[39;00m\n\u001b[0;32m    484\u001b[0m \u001b[38;5;124;03mpermanent income as the eigenvector associated with the eigenvalue 1.\u001b[39;00m\n\u001b[1;32m   (...)\u001b[0m\n\u001b[0;32m    495\u001b[0m \u001b[38;5;124;03mNone\u001b[39;00m\n\u001b[0;32m    496\u001b[0m \u001b[38;5;124;03m\"\"\"\u001b[39;00m\n\u001b[0;32m    498\u001b[0m \u001b[38;5;28;01mif\u001b[39;00m \u001b[38;5;129;01mnot\u001b[39;00m \u001b[38;5;28misinstance\u001b[39m(transition_matrix, \u001b[38;5;28mlist\u001b[39m):\n\u001b[1;32m--> 499\u001b[0m     transition_matrix \u001b[38;5;241m=\u001b[39m [\u001b[38;5;28;43mself\u001b[39;49m\u001b[38;5;241;43m.\u001b[39;49m\u001b[43mtran_matrix\u001b[49m]\n\u001b[0;32m    501\u001b[0m eigen, ergodic_distr \u001b[38;5;241m=\u001b[39m sp\u001b[38;5;241m.\u001b[39mlinalg\u001b[38;5;241m.\u001b[39meigs(\n\u001b[0;32m    502\u001b[0m     transition_matrix[\u001b[38;5;241m0\u001b[39m], v0\u001b[38;5;241m=\u001b[39mnp\u001b[38;5;241m.\u001b[39mones(\u001b[38;5;28mlen\u001b[39m(transition_matrix[\u001b[38;5;241m0\u001b[39m])), k\u001b[38;5;241m=\u001b[39m\u001b[38;5;241m1\u001b[39m, which\u001b[38;5;241m=\u001b[39m\u001b[38;5;124m\"\u001b[39m\u001b[38;5;124mLM\u001b[39m\u001b[38;5;124m\"\u001b[39m\n\u001b[0;32m    503\u001b[0m )  \u001b[38;5;66;03m# Solve for ergodic distribution\u001b[39;00m\n\u001b[0;32m    504\u001b[0m ergodic_distr \u001b[38;5;241m=\u001b[39m ergodic_distr\u001b[38;5;241m.\u001b[39mreal \u001b[38;5;241m/\u001b[39m np\u001b[38;5;241m.\u001b[39msum(ergodic_distr\u001b[38;5;241m.\u001b[39mreal)\n",
      "\u001b[1;31mAttributeError\u001b[0m: 'TwoSectorMarkovConsumerType' object has no attribute 'tran_matrix'"
     ]
    }
   ],
   "source": [
    "TwoSectorExampleHANK.calc_ergodic_dist()"
   ]
  },
  {
   "cell_type": "code",
   "execution_count": null,
   "metadata": {},
   "outputs": [],
   "source": [
    "def gen_tran_matrix_1D_Markov(\n",
    "    dist_mGrid, MrkvPrbs, bNext_Grid, shk_prbs, perm_shks, tran_shks, LivPrb, NewBornDist\n",
    "):\n",
    "    \"\"\"\n",
    "    Computes Transition Matrix across normalized market resources.\n",
    "    This function is built to non-stochastic simulate the IndShockConsumerType.\n",
    "    This function is used exclusively when Harmenberg Neutral Measure is applied and/or if permanent income is not a state variable\n",
    "    For more information, see https://econ-ark.org/materials/harmenberg-aggregation?launch\n",
    "\n",
    "    Parameters\n",
    "    ----------\n",
    "    dist_mGrid : np.array\n",
    "        Grid over normalized market resources\n",
    "\n",
    "    MrkvPrbs : np.array\n",
    "        Probabilities of transitioning between different states of the Markov process\n",
    "\n",
    "    bNext_Grid : Lif of np.array\n",
    "        Grid over bank balances\n",
    "\n",
    "    shk_prbs : np.array\n",
    "        Array of shock probabilities over combinations of permanent and transitory shocks\n",
    "\n",
    "    perm_shks : np.array\n",
    "        Array of shocks to permanent income. Shocks should follow Harmenberg neutral measure\n",
    "\n",
    "    tran_shks : np.array\n",
    "        Array of shocks to transitory\n",
    "\n",
    "    LivPrb : float\n",
    "        Probability of not dying\n",
    "\n",
    "    NewBornDist : np.array\n",
    "        array representing distribution of newborns across grid of normalized market resources and grid of permanent income.\n",
    "\n",
    "    Returns\n",
    "    -------\n",
    "    TranMatrix : np.array\n",
    "        Transition Matrix over normalized market resources grid.\n",
    "\n",
    "\n",
    "    \"\"\"\n",
    "\n",
    "    TranMatrix = np.zeros((len(MrkvPrbs) * len(dist_mGrid), len(MrkvPrbs) * len(dist_mGrid)))\n",
    "    TranMatrix_NoMrkv_List = []\n",
    "\n",
    "    for Mrkv in numba.prange(len(MrkvPrbs)): #For each state of the Markov process (formal and informal sector)\n",
    "        TranMatrix_NoMrkv_array = np.zeros((len(dist_mGrid), len(dist_mGrid)))\n",
    "        for i in numba.prange(len(dist_mGrid)):\n",
    "            mNext_ij = (\n",
    "                bNext_Grid[Mrkv][i] / perm_shks[Mrkv] + tran_shks[Mrkv]\n",
    "            )  # Compute next period's market resources given todays bank balances bnext[i]\n",
    "\n",
    "            TranMatrix_NoMrkv_array[:, i] += (\n",
    "                LivPrb[Mrkv] * jump_to_grid_1D(mNext_ij, shk_prbs[Mrkv], dist_mGrid)\n",
    "                + (1.0 - LivPrb[Mrkv]) * NewBornDist[Mrkv]) # Given state of the Markov Process\n",
    "\n",
    "        TranMatrix_NoMrkv_List.append(TranMatrix_NoMrkv_array)\n",
    "\n",
    "    # Fill the upper left corner of TranMatrix\n",
    "    TranMatrix[:100, :100] = TranMatrix_NoMrkv_List[0] * MrkvPrbs[0, 0]\n",
    "\n",
    "    # Fill the upper right corner of TranMatrix\n",
    "    TranMatrix[:100, 100:] = TranMatrix_NoMrkv_List[0] * MrkvPrbs[0, 1]\n",
    "\n",
    "    # Fill the lower left corner of TranMatrix\n",
    "    TranMatrix[100:, :100] = TranMatrix_NoMrkv_List[1] * MrkvPrbs[1, 0]\n",
    "\n",
    "    # Fill the lower right corner of TranMatrix\n",
    "    TranMatrix[100:, 100:] = TranMatrix_NoMrkv_List[1] * MrkvPrbs[1, 1]\n",
    "\n",
    "    return TranMatrix"
   ]
  },
  {
   "cell_type": "code",
   "execution_count": null,
   "metadata": {},
   "outputs": [],
   "source": [
    "def calc_transition_matrix_Markov(self, shk_dstn=None):\n",
    "    \"\"\"\n",
    "    Calculates how the distribution of agents across market resources\n",
    "    transitions from one period to the next. If finite horizon problem, then calculates\n",
    "    a list of transition matrices, consumption and asset policy grids for each period of the problem.\n",
    "    The transition matrix/matrices and consumption and asset policy grid(s) are stored as attributes of self.\n",
    "\n",
    "\n",
    "    Parameters\n",
    "    ----------\n",
    "        shk_dstn: list\n",
    "            list of income shock distributions. Each Income Shock Distribution should be a DiscreteDistribution Object (see Distribution.py)\n",
    "    Returns\n",
    "    -------\n",
    "    None\n",
    "\n",
    "    \"\"\"\n",
    "\n",
    "    if self.cycles == 0:  # Infinite Horizon Problem\n",
    "        if not hasattr(shk_dstn, \"pmv\"):\n",
    "            shk_dstn = self.IncShkDstn\n",
    "\n",
    "        dist_mGrid = self.dist_mGrid  # Grid of market resources\n",
    "        dist_pGrid = self.dist_pGrid  # Grid of permanent incomes\n",
    "\n",
    "        MrkvPrbs = self.MrkvArray  # Transition Matrix for Markov Process\n",
    "        MrkvPrbsInit = self.MrkvPrbsInit # Initial Markov State Probabilities\n",
    "\n",
    "        # Loop over Markov States\n",
    "        self.cPol_Grid = []  # List of consumption policy grids for each Markov state\n",
    "        self.aPol_Grid = []  # List of asset policy grids for each Markov state\n",
    "        bNext_Grid = []  # List of bank balance grids for each period in T_cycle\n",
    "\n",
    "        shk_prbs = []\n",
    "        tran_shks = []\n",
    "        perm_shks = []\n",
    "        LivPrb = []\n",
    "        for i in range(len(MrkvPrbs)):\n",
    "            Cnow = self.solution[0].cFunc[i](dist_mGrid)\n",
    "            self.cPol_Grid.append(Cnow)  # Add to list\n",
    "            aNext = dist_mGrid - Cnow  # Asset policy grid in period k\n",
    "            self.aPol_Grid.append(aNext)  # Add to list\n",
    "                    \n",
    "            if type(TwoSectorExampleHANK.Rfree) == list:\n",
    "                bNext = TwoSectorExampleHANK.Rfree[0][i] * aNext\n",
    "            else:\n",
    "                bNext = TwoSectorExampleHANK.Rfree[i] * aNext\n",
    "            bNext_Grid.append(bNext)\n",
    "\n",
    "            # Obtain shocks and shock probabilities from income distribution this period\n",
    "            shk_prbs.append(shk_dstn[0][i].pmv)   # Probability of shocks this period\n",
    "            # Transitory shocks this period\n",
    "            tran_shks.append(shk_dstn[0][i].atoms[1])\n",
    "            # Permanent shocks this period\n",
    "            perm_shks.append(shk_dstn[0][i].atoms[0])\n",
    "\n",
    "            # Update probability of staying alive this period\n",
    "            LivPrb.append(self.LivPrb[0][i])\n",
    "      \n",
    "        if len(dist_pGrid) == 1:\n",
    "            # New borns have this distribution (assumes start with no assets and permanent income=1)\n",
    "            NewBornDist_list = []  # To store modified NewBornDist arrays\n",
    "\n",
    "            # Iterate over each element in MrkvPrbsInit and modify NewBornDist\n",
    "            for Mrkv, prob in enumerate(MrkvPrbsInit):\n",
    "                NewBornDist_array = jump_to_grid_1D(\n",
    "                                    np.zeros_like(tran_shks[Mrkv]), # No shocks at the beginning. Therefore, does not matter which shocks I take\n",
    "                                    shk_prbs[Mrkv],\n",
    "                                    dist_mGrid,) * prob\n",
    "                NewBornDist_list.append(NewBornDist_array)\n",
    "\n",
    "            # Stack all modified arrays\n",
    "            NewBornDist = np.vstack(NewBornDist_list)\n",
    "\n",
    "            # Compute Transition Matrix given shocks and grids.\n",
    "            TranMatrix_M = gen_tran_matrix_1D_Markov(\n",
    "                dist_mGrid,\n",
    "                MrkvPrbs,\n",
    "                bNext_Grid,\n",
    "                shk_prbs,\n",
    "                perm_shks,\n",
    "                tran_shks,\n",
    "                LivPrb,\n",
    "                NewBornDist,\n",
    "            )\n",
    "            \n",
    "            self.tran_matrix.append(TranMatrix_M)   \n",
    "            \n",
    "                     \n"
   ]
  },
  {
   "cell_type": "code",
   "execution_count": null,
   "metadata": {},
   "outputs": [],
   "source": [
    "TwoSectorExampleHANK.mCount = 100\n",
    "TwoSectorExampleHANK.mFac = 3\n",
    "TwoSectorExampleHANK.mMin = 0.001\n",
    "TwoSectorExampleHANK.mMax = 1000"
   ]
  },
  {
   "cell_type": "code",
   "execution_count": null,
   "metadata": {},
   "outputs": [],
   "source": [
    "TwoSectorExampleHANK.define_distribution_grid()"
   ]
  },
  {
   "cell_type": "code",
   "execution_count": null,
   "metadata": {},
   "outputs": [],
   "source": [
    "dist_mGrid = TwoSectorExampleHANK.dist_mGrid\n",
    "MrkvPrbsInit = TwoSectorExampleHANK.MrkvPrbsInit\n",
    "MrkvPrbs = MrkvArray\n",
    "shk_dstn = TwoSectorExampleHANK.IncShkDstn"
   ]
  },
  {
   "cell_type": "code",
   "execution_count": null,
   "metadata": {},
   "outputs": [],
   "source": [
    "cPol_Grid = []\n",
    "aPol_Grid = []\n",
    "bNext_Grid = []"
   ]
  },
  {
   "cell_type": "code",
   "execution_count": null,
   "metadata": {},
   "outputs": [],
   "source": [
    "shk_prbs = []\n",
    "tran_shks = []\n",
    "perm_shks = []\n",
    "LivPrb = []\n",
    "for i in range(len(MrkvPrbs)):\n",
    "    Cnow = TwoSectorExampleHANK.solution[0].cFunc[i](dist_mGrid)\n",
    "    cPol_Grid.append(Cnow)  # Add to list\n",
    "    aNext = dist_mGrid - Cnow  # Asset policy grid in period k\n",
    "    aPol_Grid.append(aNext)  # Add to list\n",
    "            \n",
    "    if type(TwoSectorExampleHANK.Rfree) == list:\n",
    "        bNext = TwoSectorExampleHANK.Rfree[0][i] * aNext\n",
    "    else:\n",
    "        bNext = TwoSectorExampleHANK.Rfree[i] * aNext\n",
    "    bNext_Grid.append(bNext)\n",
    "    # Obtain shocks and shock probabilities from income distribution this period\n",
    "    shk_prbs.append(shk_dstn[0][i].pmv)   # Probability of shocks this period\n",
    "    # Transitory shocks this period\n",
    "    tran_shks.append(shk_dstn[0][i].atoms[1])\n",
    "    # Permanent shocks this period\n",
    "    perm_shks.append(shk_dstn[0][i].atoms[0])\n",
    "\n",
    "    # Update probability of staying alive this period\n",
    "    LivPrb.append(TwoSectorExampleHANK.LivPrb[0][i])\n"
   ]
  },
  {
   "cell_type": "code",
   "execution_count": null,
   "metadata": {},
   "outputs": [],
   "source": [
    "def jump_to_grid_1D(m_vals, probs, Dist_mGrid):\n",
    "    \"\"\"\n",
    "    Distributes values onto a predefined grid, maintaining the means.\n",
    "\n",
    "\n",
    "    Parameters\n",
    "    ----------\n",
    "    m_vals: np.array\n",
    "            Market resource values\n",
    "\n",
    "    probs: np.array\n",
    "            Shock probabilities associated with combinations of m_vals.\n",
    "            Can be thought of as the probability mass function  of (m_vals).\n",
    "\n",
    "    dist_mGrid : np.array\n",
    "            Grid over normalized market resources\n",
    "\n",
    "    Returns\n",
    "    -------\n",
    "    probGrid.flatten(): np.array\n",
    "             Probabilities of each gridpoint on the combined grid of market resources\n",
    "\n",
    "    \"\"\"\n",
    "\n",
    "    probGrid = np.zeros(len(Dist_mGrid))\n",
    "    mIndex = np.digitize(m_vals, Dist_mGrid) - 1\n",
    "    mIndex[m_vals <= Dist_mGrid[0]] = -1\n",
    "    mIndex[m_vals >= Dist_mGrid[-1]] = len(Dist_mGrid) - 1\n",
    "\n",
    "    for i in range(len(m_vals)):\n",
    "        if mIndex[i] == -1:\n",
    "            mlowerIndex = 0\n",
    "            mupperIndex = 0\n",
    "            mlowerWeight = 1.0\n",
    "            mupperWeight = 0.0\n",
    "        elif mIndex[i] == len(Dist_mGrid) - 1:\n",
    "            mlowerIndex = -1\n",
    "            mupperIndex = -1\n",
    "            mlowerWeight = 1.0\n",
    "            mupperWeight = 0.0\n",
    "        else:\n",
    "            mlowerIndex = mIndex[i]\n",
    "            mupperIndex = mIndex[i] + 1\n",
    "            mlowerWeight = (Dist_mGrid[mupperIndex] - m_vals[i]) / (\n",
    "                Dist_mGrid[mupperIndex] - Dist_mGrid[mlowerIndex]\n",
    "            )\n",
    "            mupperWeight = 1.0 - mlowerWeight\n",
    "\n",
    "        probGrid[mlowerIndex] += probs[i] * mlowerWeight\n",
    "        probGrid[mupperIndex] += probs[i] * mupperWeight\n",
    "\n",
    "    return probGrid.flatten()\n"
   ]
  },
  {
   "cell_type": "code",
   "execution_count": null,
   "metadata": {},
   "outputs": [
    {
     "data": {
      "text/plain": [
       "[array([0.        , 0.67957557, 0.79166261, 0.86286617, 0.92880902,\n",
       "        0.99985475, 1.09014463, 1.2786662 , 0.        , 0.67957557,\n",
       "        0.79166261, 0.86286617, 0.92880902, 0.99985475, 1.09014463,\n",
       "        1.2786662 , 0.        , 0.67957557, 0.79166261, 0.86286617,\n",
       "        0.92880902, 0.99985475, 1.09014463, 1.2786662 , 0.        ,\n",
       "        0.67957557, 0.79166261, 0.86286617, 0.92880902, 0.99985475,\n",
       "        1.09014463, 1.2786662 , 0.        , 0.67957557, 0.79166261,\n",
       "        0.86286617, 0.92880902, 0.99985475, 1.09014463, 1.2786662 ,\n",
       "        0.        , 0.67957557, 0.79166261, 0.86286617, 0.92880902,\n",
       "        0.99985475, 1.09014463, 1.2786662 , 0.        , 0.67957557,\n",
       "        0.79166261, 0.86286617, 0.92880902, 0.99985475, 1.09014463,\n",
       "        1.2786662 ]),\n",
       " array([0.        , 0.39851654, 0.46424659, 0.50600176, 0.54467196,\n",
       "        0.58633457, 0.63928234, 0.74983512, 0.        , 0.39851654,\n",
       "        0.46424659, 0.50600176, 0.54467196, 0.58633457, 0.63928234,\n",
       "        0.74983512, 0.        , 0.39851654, 0.46424659, 0.50600176,\n",
       "        0.54467196, 0.58633457, 0.63928234, 0.74983512, 0.        ,\n",
       "        0.39851654, 0.46424659, 0.50600176, 0.54467196, 0.58633457,\n",
       "        0.63928234, 0.74983512, 0.        , 0.39851654, 0.46424659,\n",
       "        0.50600176, 0.54467196, 0.58633457, 0.63928234, 0.74983512,\n",
       "        0.        , 0.39851654, 0.46424659, 0.50600176, 0.54467196,\n",
       "        0.58633457, 0.63928234, 0.74983512, 0.        , 0.39851654,\n",
       "        0.46424659, 0.50600176, 0.54467196, 0.58633457, 0.63928234,\n",
       "        0.74983512])]"
      ]
     },
     "execution_count": 40,
     "metadata": {},
     "output_type": "execute_result"
    }
   ],
   "source": [
    "tran_shks"
   ]
  },
  {
   "cell_type": "code",
   "execution_count": null,
   "metadata": {},
   "outputs": [
    {
     "ename": "NameError",
     "evalue": "name 'MrkvPrbsInit' is not defined",
     "output_type": "error",
     "traceback": [
      "\u001b[1;31m---------------------------------------------------------------------------\u001b[0m",
      "\u001b[1;31mNameError\u001b[0m                                 Traceback (most recent call last)",
      "Cell \u001b[1;32mIn[36], line 5\u001b[0m\n\u001b[0;32m      2\u001b[0m NewBornDist_list \u001b[38;5;241m=\u001b[39m []  \u001b[38;5;66;03m# To store modified NewBornDist arrays\u001b[39;00m\n\u001b[0;32m      4\u001b[0m \u001b[38;5;66;03m# Iterate over each element in MrkvPrbsInit and modify NewBornDist\u001b[39;00m\n\u001b[1;32m----> 5\u001b[0m \u001b[38;5;28;01mfor\u001b[39;00m Mrkv, prob \u001b[38;5;129;01min\u001b[39;00m \u001b[38;5;28menumerate\u001b[39m(\u001b[43mMrkvPrbsInit\u001b[49m):\n\u001b[0;32m      6\u001b[0m     NewBornDist_array \u001b[38;5;241m=\u001b[39m jump_to_grid_1D(\n\u001b[0;32m      7\u001b[0m                         np\u001b[38;5;241m.\u001b[39mzeros_like(tran_shks[Mrkv]), \u001b[38;5;66;03m# No shocks at the beginning. Therefore, does not matter which shocks I take\u001b[39;00m\n\u001b[0;32m      8\u001b[0m                         shk_prbs[Mrkv],\n\u001b[0;32m      9\u001b[0m                         dist_mGrid,) \u001b[38;5;241m*\u001b[39m prob\n\u001b[0;32m     10\u001b[0m     NewBornDist_list\u001b[38;5;241m.\u001b[39mappend(NewBornDist_array)\n",
      "\u001b[1;31mNameError\u001b[0m: name 'MrkvPrbsInit' is not defined"
     ]
    }
   ],
   "source": [
    "# New borns have this distribution (assumes start with no assets and permanent income=1)\n",
    "NewBornDist_list = []  # To store modified NewBornDist arrays\n",
    "\n",
    "# Iterate over each element in MrkvPrbsInit and modify NewBornDist\n",
    "for Mrkv, prob in enumerate(MrkvPrbsInit):\n",
    "    NewBornDist_array = jump_to_grid_1D(\n",
    "                        np.zeros_like(tran_shks[Mrkv]), # No shocks at the beginning. Therefore, does not matter which shocks I take\n",
    "                        shk_prbs[Mrkv],\n",
    "                        dist_mGrid,) * prob\n",
    "    NewBornDist_list.append(NewBornDist_array)\n",
    "\n",
    "# Stack all modified arrays\n",
    "NewBornDist = np.vstack(NewBornDist_list)"
   ]
  },
  {
   "cell_type": "code",
   "execution_count": null,
   "metadata": {},
   "outputs": [
    {
     "data": {
      "text/plain": [
       "array([[0.8, 0. , 0. , 0. , 0. , 0. , 0. , 0. , 0. , 0. , 0. , 0. , 0. ,\n",
       "        0. , 0. , 0. , 0. , 0. , 0. , 0. , 0. , 0. , 0. , 0. , 0. , 0. ,\n",
       "        0. , 0. , 0. , 0. , 0. , 0. , 0. , 0. , 0. , 0. , 0. , 0. , 0. ,\n",
       "        0. , 0. , 0. , 0. , 0. , 0. , 0. , 0. , 0. , 0. , 0. , 0. , 0. ,\n",
       "        0. , 0. , 0. , 0. , 0. , 0. , 0. , 0. , 0. , 0. , 0. , 0. , 0. ,\n",
       "        0. , 0. , 0. , 0. , 0. , 0. , 0. , 0. , 0. , 0. , 0. , 0. , 0. ,\n",
       "        0. , 0. , 0. , 0. , 0. , 0. , 0. , 0. , 0. , 0. , 0. , 0. , 0. ,\n",
       "        0. , 0. , 0. , 0. , 0. , 0. , 0. , 0. , 0. ],\n",
       "       [0.2, 0. , 0. , 0. , 0. , 0. , 0. , 0. , 0. , 0. , 0. , 0. , 0. ,\n",
       "        0. , 0. , 0. , 0. , 0. , 0. , 0. , 0. , 0. , 0. , 0. , 0. , 0. ,\n",
       "        0. , 0. , 0. , 0. , 0. , 0. , 0. , 0. , 0. , 0. , 0. , 0. , 0. ,\n",
       "        0. , 0. , 0. , 0. , 0. , 0. , 0. , 0. , 0. , 0. , 0. , 0. , 0. ,\n",
       "        0. , 0. , 0. , 0. , 0. , 0. , 0. , 0. , 0. , 0. , 0. , 0. , 0. ,\n",
       "        0. , 0. , 0. , 0. , 0. , 0. , 0. , 0. , 0. , 0. , 0. , 0. , 0. ,\n",
       "        0. , 0. , 0. , 0. , 0. , 0. , 0. , 0. , 0. , 0. , 0. , 0. , 0. ,\n",
       "        0. , 0. , 0. , 0. , 0. , 0. , 0. , 0. , 0. ]])"
      ]
     },
     "execution_count": 42,
     "metadata": {},
     "output_type": "execute_result"
    }
   ],
   "source": [
    "NewBornDist"
   ]
  },
  {
   "cell_type": "code",
   "execution_count": null,
   "metadata": {},
   "outputs": [
    {
     "data": {
      "text/plain": [
       "0.00029353015605122084"
      ]
     },
     "execution_count": 57,
     "metadata": {},
     "output_type": "execute_result"
    }
   ],
   "source": [
    "bNext[0]"
   ]
  },
  {
   "cell_type": "code",
   "execution_count": null,
   "metadata": {},
   "outputs": [
    {
     "data": {
      "text/plain": [
       "array([0.00714286, 0.01938776, 0.01938776, 0.01938776, 0.01938776,\n",
       "       0.01938776, 0.01938776, 0.01938776, 0.00714286, 0.01938776,\n",
       "       0.01938776, 0.01938776, 0.01938776, 0.01938776, 0.01938776,\n",
       "       0.01938776, 0.00714286, 0.01938776, 0.01938776, 0.01938776,\n",
       "       0.01938776, 0.01938776, 0.01938776, 0.01938776, 0.00714286,\n",
       "       0.01938776, 0.01938776, 0.01938776, 0.01938776, 0.01938776,\n",
       "       0.01938776, 0.01938776, 0.00714286, 0.01938776, 0.01938776,\n",
       "       0.01938776, 0.01938776, 0.01938776, 0.01938776, 0.01938776,\n",
       "       0.00714286, 0.01938776, 0.01938776, 0.01938776, 0.01938776,\n",
       "       0.01938776, 0.01938776, 0.01938776, 0.00714286, 0.01938776,\n",
       "       0.01938776, 0.01938776, 0.01938776, 0.01938776, 0.01938776,\n",
       "       0.01938776])"
      ]
     },
     "execution_count": 60,
     "metadata": {},
     "output_type": "execute_result"
    }
   ],
   "source": [
    "shk_prbs[0]"
   ]
  },
  {
   "cell_type": "code",
   "execution_count": null,
   "metadata": {},
   "outputs": [
    {
     "data": {
      "text/plain": [
       "[0.98, 0.98]"
      ]
     },
     "execution_count": 61,
     "metadata": {},
     "output_type": "execute_result"
    }
   ],
   "source": [
    "LivPrb"
   ]
  },
  {
   "cell_type": "code",
   "execution_count": null,
   "metadata": {},
   "outputs": [
    {
     "data": {
      "text/plain": [
       "(100,)"
      ]
     },
     "execution_count": 52,
     "metadata": {},
     "output_type": "execute_result"
    }
   ],
   "source": [
    "bNext_Grid[0].shape"
   ]
  },
  {
   "cell_type": "code",
   "execution_count": null,
   "metadata": {},
   "outputs": [
    {
     "data": {
      "text/plain": [
       "(100, 100)"
      ]
     },
     "execution_count": 46,
     "metadata": {},
     "output_type": "execute_result"
    }
   ],
   "source": [
    "TranMatrix_NoMrkv_array.shape"
   ]
  },
  {
   "cell_type": "code",
   "execution_count": null,
   "metadata": {},
   "outputs": [
    {
     "data": {
      "text/plain": [
       "(56,)"
      ]
     },
     "execution_count": 47,
     "metadata": {},
     "output_type": "execute_result"
    }
   ],
   "source": [
    "mNext_ij.shape"
   ]
  },
  {
   "cell_type": "code",
   "execution_count": null,
   "metadata": {},
   "outputs": [
    {
     "data": {
      "text/plain": [
       "(56,)"
      ]
     },
     "execution_count": 49,
     "metadata": {},
     "output_type": "execute_result"
    }
   ],
   "source": [
    "shk_prbs[0].shape"
   ]
  },
  {
   "cell_type": "code",
   "execution_count": null,
   "metadata": {},
   "outputs": [
    {
     "data": {
      "text/plain": [
       "(100,)"
      ]
     },
     "execution_count": 50,
     "metadata": {},
     "output_type": "execute_result"
    }
   ],
   "source": [
    "dist_mGrid.shape"
   ]
  },
  {
   "cell_type": "code",
   "execution_count": null,
   "metadata": {},
   "outputs": [],
   "source": [
    "TranMatrix = np.zeros((len(MrkvPrbs) * len(dist_mGrid), len(MrkvPrbs) * len(dist_mGrid)))\n",
    "TranMatrix_NoMrkv_List = []\n",
    "\n",
    "for Mrkv in numba.prange(len(MrkvPrbs)): #For each state of the Markov process (formal and informal sector)\n",
    "    TranMatrix_NoMrkv_array = np.zeros((len(dist_mGrid), len(dist_mGrid)))\n",
    "    for i in numba.prange(len(dist_mGrid)):\n",
    "        mNext_ij = (\n",
    "            bNext_Grid[Mrkv][i] / perm_shks[Mrkv] + tran_shks[Mrkv]\n",
    "        )  # Compute next period's market resources given todays bank balances bnext[i]\n",
    "\n",
    "        TranMatrix_NoMrkv_array[:, i] += (\n",
    "            LivPrb[Mrkv] * jump_to_grid_1D(mNext_ij, shk_prbs[Mrkv], dist_mGrid)\n",
    "            + (1.0 - LivPrb[Mrkv]) * NewBornDist[Mrkv]) # Given state of the Markov Process\n",
    "\n",
    "    TranMatrix_NoMrkv_List.append(TranMatrix_NoMrkv_array)\n",
    "\n",
    "# Fill the upper left corner of TranMatrix\n",
    "TranMatrix[:100, :100] = TranMatrix_NoMrkv_List[0] * MrkvPrbs[0, 0]\n",
    "\n",
    "# Fill the upper right corner of TranMatrix\n",
    "TranMatrix[:100, 100:] = TranMatrix_NoMrkv_List[0] * MrkvPrbs[0, 1]\n",
    "\n",
    "# Fill the lower left corner of TranMatrix\n",
    "TranMatrix[100:, :100] = TranMatrix_NoMrkv_List[1] * MrkvPrbs[1, 0]\n",
    "\n",
    "# Fill the lower right corner of TranMatrix\n",
    "TranMatrix[100:, 100:] = TranMatrix_NoMrkv_List[1] * MrkvPrbs[1, 1]"
   ]
  },
  {
   "cell_type": "code",
   "execution_count": null,
   "metadata": {},
   "outputs": [],
   "source": []
  },
  {
   "cell_type": "code",
   "execution_count": null,
   "metadata": {},
   "outputs": [
    {
     "ename": "IndexError",
     "evalue": "invalid index to scalar variable.",
     "output_type": "error",
     "traceback": [
      "\u001b[1;31m---------------------------------------------------------------------------\u001b[0m",
      "\u001b[1;31mIndexError\u001b[0m                                Traceback (most recent call last)",
      "Cell \u001b[1;32mIn[48], line 2\u001b[0m\n\u001b[0;32m      1\u001b[0m \u001b[38;5;66;03m# Compute Transition Matrix given shocks and grids.\u001b[39;00m\n\u001b[1;32m----> 2\u001b[0m TranMatrix_M \u001b[38;5;241m=\u001b[39m \u001b[43mgen_tran_matrix_1D_Markov\u001b[49m\u001b[43m(\u001b[49m\n\u001b[0;32m      3\u001b[0m \u001b[43m    \u001b[49m\u001b[43mdist_mGrid\u001b[49m\u001b[43m,\u001b[49m\n\u001b[0;32m      4\u001b[0m \u001b[43m    \u001b[49m\u001b[43mMrkvPrbs\u001b[49m\u001b[43m,\u001b[49m\n\u001b[0;32m      5\u001b[0m \u001b[43m    \u001b[49m\u001b[43mbNext\u001b[49m\u001b[43m,\u001b[49m\n\u001b[0;32m      6\u001b[0m \u001b[43m    \u001b[49m\u001b[43mshk_prbs\u001b[49m\u001b[43m,\u001b[49m\n\u001b[0;32m      7\u001b[0m \u001b[43m    \u001b[49m\u001b[43mperm_shks\u001b[49m\u001b[43m,\u001b[49m\n\u001b[0;32m      8\u001b[0m \u001b[43m    \u001b[49m\u001b[43mtran_shks\u001b[49m\u001b[43m,\u001b[49m\n\u001b[0;32m      9\u001b[0m \u001b[43m    \u001b[49m\u001b[43mLivPrb\u001b[49m\u001b[43m,\u001b[49m\n\u001b[0;32m     10\u001b[0m \u001b[43m    \u001b[49m\u001b[43mNewBornDist\u001b[49m\u001b[43m,\u001b[49m\n\u001b[0;32m     11\u001b[0m \u001b[43m)\u001b[49m\n",
      "Cell \u001b[1;32mIn[31], line 49\u001b[0m, in \u001b[0;36mgen_tran_matrix_1D_Markov\u001b[1;34m(dist_mGrid, MrkvPrbs, bNext, shk_prbs, perm_shks, tran_shks, LivPrb, NewBornDist)\u001b[0m\n\u001b[0;32m     46\u001b[0m \u001b[38;5;28;01mfor\u001b[39;00m Mrkv \u001b[38;5;129;01min\u001b[39;00m numba\u001b[38;5;241m.\u001b[39mprange(\u001b[38;5;28mlen\u001b[39m(MrkvPrbs)): \u001b[38;5;66;03m#For each state of the Markov process (formal and informal sector)\u001b[39;00m\n\u001b[0;32m     47\u001b[0m     \u001b[38;5;28;01mfor\u001b[39;00m i \u001b[38;5;129;01min\u001b[39;00m numba\u001b[38;5;241m.\u001b[39mprange(\u001b[38;5;28mlen\u001b[39m(dist_mGrid)):\n\u001b[0;32m     48\u001b[0m         mNext_ij \u001b[38;5;241m=\u001b[39m (\n\u001b[1;32m---> 49\u001b[0m             \u001b[43mbNext\u001b[49m\u001b[43m[\u001b[49m\u001b[43mMrkv\u001b[49m\u001b[43m]\u001b[49m\u001b[43m[\u001b[49m\u001b[43mi\u001b[49m\u001b[43m]\u001b[49m \u001b[38;5;241m/\u001b[39m perm_shks[Mrkv] \u001b[38;5;241m+\u001b[39m tran_shks[Mrkv]\n\u001b[0;32m     50\u001b[0m         )  \u001b[38;5;66;03m# Compute next period's market resources given todays bank balances bnext[i]\u001b[39;00m\n\u001b[0;32m     52\u001b[0m         TranMatrix_aux \u001b[38;5;241m+\u001b[39m\u001b[38;5;241m=\u001b[39m (\n\u001b[0;32m     53\u001b[0m             LivPrb \u001b[38;5;241m*\u001b[39m jump_to_grid_1D(mNext_ij, shk_prbs, dist_mGrid)\n\u001b[0;32m     54\u001b[0m             \u001b[38;5;241m+\u001b[39m (\u001b[38;5;241m1.0\u001b[39m \u001b[38;5;241m-\u001b[39m LivPrb) \u001b[38;5;241m*\u001b[39m NewBornDist) \u001b[38;5;66;03m# Given state of the Markov Process\u001b[39;00m\n\u001b[0;32m     55\u001b[0m     TranMatrix_states\u001b[38;5;241m.\u001b[39mappend(TranMatrix_aux)\n",
      "\u001b[1;31mIndexError\u001b[0m: invalid index to scalar variable."
     ]
    }
   ],
   "source": [
    "# Compute Transition Matrix given shocks and grids.\n",
    "TranMatrix_M = gen_tran_matrix_1D_Markov(\n",
    "    dist_mGrid,\n",
    "    MrkvPrbs,\n",
    "    bNext,\n",
    "    shk_prbs,\n",
    "    perm_shks,\n",
    "    tran_shks,\n",
    "    LivPrb,\n",
    "    NewBornDist,\n",
    ")"
   ]
  },
  {
   "cell_type": "code",
   "execution_count": null,
   "metadata": {},
   "outputs": [],
   "source": []
  },
  {
   "cell_type": "code",
   "execution_count": null,
   "metadata": {},
   "outputs": [],
   "source": []
  },
  {
   "cell_type": "code",
   "execution_count": null,
   "metadata": {},
   "outputs": [],
   "source": []
  },
  {
   "cell_type": "code",
   "execution_count": null,
   "metadata": {},
   "outputs": [],
   "source": [
    "TwoSectorExampleHANK.MrkvPrbs"
   ]
  },
  {
   "cell_type": "code",
   "execution_count": null,
   "metadata": {},
   "outputs": [
    {
     "ename": "AttributeError",
     "evalue": "'TwoSectorMarkovConsumerType' object has no attribute 'MrkvPrbs'",
     "output_type": "error",
     "traceback": [
      "\u001b[1;31m---------------------------------------------------------------------------\u001b[0m",
      "\u001b[1;31mAttributeError\u001b[0m                            Traceback (most recent call last)",
      "Cell \u001b[1;32mIn[41], line 1\u001b[0m\n\u001b[1;32m----> 1\u001b[0m \u001b[43mTwoSectorExampleHANK\u001b[49m\u001b[38;5;241;43m.\u001b[39;49m\u001b[43mcalc_transition_matrix_Markov\u001b[49m\u001b[43m(\u001b[49m\u001b[43m)\u001b[49m\n",
      "File \u001b[1;32mc:\\Users\\adria\\OneDrive - Johns Hopkins\\Github\\AMonninger\\REMARK_IMF_latest\\code\\python\\TwoSectorModel_HANK.py:413\u001b[0m, in \u001b[0;36mTwoSectorMarkovConsumerType.calc_transition_matrix_Markov\u001b[1;34m(self, shk_dstn)\u001b[0m\n\u001b[0;32m    410\u001b[0m dist_mGrid \u001b[38;5;241m=\u001b[39m \u001b[38;5;28mself\u001b[39m\u001b[38;5;241m.\u001b[39mdist_mGrid  \u001b[38;5;66;03m# Grid of market resources\u001b[39;00m\n\u001b[0;32m    411\u001b[0m dist_pGrid \u001b[38;5;241m=\u001b[39m \u001b[38;5;28mself\u001b[39m\u001b[38;5;241m.\u001b[39mdist_pGrid  \u001b[38;5;66;03m# Grid of permanent incomes\u001b[39;00m\n\u001b[1;32m--> 413\u001b[0m MrkvPrbs \u001b[38;5;241m=\u001b[39m \u001b[38;5;28;43mself\u001b[39;49m\u001b[38;5;241;43m.\u001b[39;49m\u001b[43mMrkvPrbs\u001b[49m  \u001b[38;5;66;03m# Initial Markov State Probabilities\u001b[39;00m\n\u001b[0;32m    415\u001b[0m \u001b[38;5;66;03m# Loop over Markov States\u001b[39;00m\n\u001b[0;32m    416\u001b[0m \u001b[38;5;28mself\u001b[39m\u001b[38;5;241m.\u001b[39mcPol_Grid \u001b[38;5;241m=\u001b[39m []  \u001b[38;5;66;03m# List of consumption policy grids for each period in T_cycle\u001b[39;00m\n",
      "\u001b[1;31mAttributeError\u001b[0m: 'TwoSectorMarkovConsumerType' object has no attribute 'MrkvPrbs'"
     ]
    }
   ],
   "source": [
    "TwoSectorExampleHANK.calc_transition_matrix_Markov()"
   ]
  }
 ],
 "metadata": {
  "kernelspec": {
   "display_name": "python390",
   "language": "python",
   "name": "python3"
  },
  "language_info": {
   "codemirror_mode": {
    "name": "ipython",
    "version": 3
   },
   "file_extension": ".py",
   "mimetype": "text/x-python",
   "name": "python",
   "nbconvert_exporter": "python",
   "pygments_lexer": "ipython3",
   "version": "3.9.0"
  }
 },
 "nbformat": 4,
 "nbformat_minor": 2
}
