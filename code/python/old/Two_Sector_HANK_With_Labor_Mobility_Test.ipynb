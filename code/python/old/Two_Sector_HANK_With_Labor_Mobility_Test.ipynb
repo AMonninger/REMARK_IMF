{
 "cells": [
  {
   "cell_type": "markdown",
   "metadata": {},
   "source": [
    "# Two Sector Hank (Formal and Informal with Labor Mobility)\n",
    "\n",
    "## Test: No labor Mobility and equal Sectors\n",
    "\n",
    "### Option 1:\n",
    "There is a continuum of ex-ante identical households. They can either work in Sector $f$ or $i$. Given a markov transition matrix.\n",
    "\n",
    "\\begin{align}\n",
    "    \\begin{pmatrix}\n",
    "        p(f \\to f) & p(f \\to i) \\\\\n",
    "        p(i \\to f) & p(i \\to i)\n",
    "    \\end{pmatrix}\n",
    "\\end{align}\n",
    "\n",
    "Given this matrix, the agent can have two different transitory or permanent shocks.\n",
    "We can also include taxes only for the formal sector by calculating z = (1 - tax) * psi_f \n",
    "\n",
    "### To Do:\n",
    "- Borrowing Constraint for different Markov States\n",
    "- Transition Matrices\n",
    "- Jacobians"
   ]
  },
  {
   "cell_type": "code",
   "execution_count": null,
   "metadata": {},
   "outputs": [],
   "source": []
  },
  {
   "cell_type": "code",
   "execution_count": 117,
   "metadata": {},
   "outputs": [],
   "source": [
    "from HARK.ConsumptionSaving.ConsMarkovModel import MarkovConsumerType\n",
    "from HARK.ConsumptionSaving.ConsIndShockModel import init_idiosyncratic_shocks\n",
    "from HARK.distribution import DiscreteDistributionLabeled\n",
    "import matplotlib.pyplot as plt\n",
    "from ConsIndShockModel_HANK import HANKIncShkDstn\n",
    "\n",
    "from TwoSectorModel_HANK import TwoSectorMarkovConsumerType\n",
    "import numpy as np\n",
    "from copy import copy, deepcopy\n",
    "### TESTING LIFECYCLE MODEL\n",
    "\n",
    "# Define the Markov transition matrix for sector f(ormal) to i(nformal)\n",
    "p_f_to_i = 0.0 #0.2\n",
    "p_i_to_f = 0.0 #0.2\n",
    "p_f_to_f = 1 - p_f_to_i\n",
    "p_i_to_i = 1 - p_i_to_f\n",
    "\n",
    "MrkvArray = np.array(\n",
    "    [\n",
    "        [\n",
    "            p_f_to_f\n",
    "        ,\n",
    "            p_f_to_i\n",
    "        ],\n",
    "        [\n",
    "           p_i_to_f\n",
    "        ,\n",
    "            p_i_to_i\n",
    "        ]\n",
    "    ]\n",
    ")\n",
    "\n",
    "NSectors = 2\n",
    "\n",
    "r_ss = 1.03 - 1\n",
    "G_ss = .2\n",
    "B_ss = 0.25 # this is lower than the tutorial by Straub et al. because need Higher MPC\n",
    "Y_ss = 1.0\n",
    "\n",
    "T_cycles = 1\n",
    "cycles = 0\n",
    "LivPrb = 0.99375\n",
    "init_twosector = {\n",
    "    \"cycles\" : cycles,\n",
    "    \"T_cycle\" : T_cycles,\n",
    "    # Parameters shared with the perfect foresight model\n",
    "    \"DiscFac\": 0.97,\n",
    "    \"Rfree\": np.array(2 * [1.0 + r_ss]),                   # Interest factor on assets\n",
    "    # \"LivPrb\" : [np.array([0.06, 0.06])] * T_cycles,                   # Survival probability\n",
    "\n",
    "    ### Two Sector Model Parameters\n",
    "    # \"MrkvPermShkStd\": [np.array([0.06, 0.06])] * T_cycles,  # Standard deviation of log permanent shocks to income for each sector\n",
    "    # \"MrkvTranShkStd\": [np.array([0.2, 0.2])] * T_cycles,  # Standard deviation of log transitory shocks to income for each sector\n",
    "    # \"MrkvUnempPrb\": [np.array([0.0, 0.0])] * T_cycles,  # Probability of unemployment while working for each sector\n",
    "    # \"MrkvIncUnemp\": [np.array([0.0, 0.0])] * T_cycles,  # Unemployment benefits replacement rate for each sector\n",
    "    # \"Mrkvtaxrate\": [np.array([0.0, 0.0])] * T_cycles,  # Tax Rate for each sector\n",
    "    # \"Mrkvlabor\": [np.array([1.0, 1.0])] * T_cycles,  # Labor for each sector\n",
    "    # \"Mrkvwage\": [np.array([1.0, 1.0])] * T_cycles,  # Wage for each sector\n",
    "    # \"BoroCnstArt\": [None, 0.0],  # Borrowing constraint for the minimum allowable assets to end the period with  \n",
    "    \"PermShkStd\": [np.array([0.06, 0.06])] * T_cycles,  # Standard deviation of log permanent shocks to income for each sector\n",
    "    \"TranShkStd\": [np.array([0.2, 0.2])] * T_cycles,  # Standard deviation of log transitory shocks to income for each sector\n",
    "    \"UnempPrb\": [np.array([0.0, 0.0])] * T_cycles,  # Probability of unemployment while working for each sector\n",
    "    \"IncUnemp\": [np.array([0.0, 0.0])] * T_cycles,  # Unemployment benefits replacement rate for each sector\n",
    "    \"taxrate\": [np.array([0.0, 0.0])] * T_cycles,  # Tax Rate for each sector\n",
    "    \"labor\": [np.array([1.0, 1.0])] * T_cycles,  # Labor for each sector\n",
    "    \"wage\": [np.array([1.0, 1.0])] * T_cycles,  # Wage for each sector\n",
    "    \"BoroCnstArt\": [None, 0.0],  # Borrowing constraint for the minimum allowable assets to end the period with  \n",
    "    \"LivPrb\": [LivPrb * np.ones(2)] * T_cycles,\n",
    "    \"PermGroFac\": [1.0 * np.ones(2)] * T_cycles,\n",
    "    # Parameters that specify the income distribution over the lifecycle\n",
    "    # \"PermShkStd\" : [.06] * T_cycles,                  # Standard deviation of log permanent shocks to income\n",
    "    \"PermShkCount\" : 5,                    # Number of points in discrete approximation to permanent income shocks\n",
    "    # \"TranShkStd\" : [0.2]* T_cycles,                  # Standard deviation of log transitory shocks to income\n",
    "    \"TranShkCount\" : 5,    \n",
    "    \n",
    "    # HANK params\n",
    "    # \"taxrate\" : [0.0] * T_cycles, # set to 0.0 because we are going to assume that labor here is actually after tax income\n",
    "    # \"labor\": [1.0] * T_cycles,\n",
    "    # \"wage\": [1.0] * T_cycles,    \n",
    "    \n",
    "    # Number of points in discrete approximation to transitory income shocks\n",
    "    # \"UnempPrb\" : 0.0,                      # Probability of unemployment while working\n",
    "    # \"IncUnemp\" :  0.0,                     # Unemployment benefits replacement rate\n",
    "  \n",
    "    # Parameters for constructing the \"assets above minimum\" grid\n",
    "    \"aXtraMax\" : 500,                      # Maximum end-of-period \"assets above minimum\" value\n",
    "    \"aXtraCount\" : 100,                     # Number of points in the base grid of \"assets above minimum\"\n",
    "    # \"BoroCnstArt\": 0.0,\n",
    "    \n",
    "    # Transition Matrix simulation parameters\n",
    "    \"mCount\": 200,\n",
    "    \"mMax\": 500,\n",
    "    \"mMin\": 1e-5,\n",
    "    \"mFac\": 3,\n",
    "\n",
    "    # Hank model bool\n",
    "    \"HANK\":True,     \n",
    "    \n",
    "     ### Markov Parameters\n",
    "    \"MrkvArray\": [MrkvArray] * T_cycles,  # Transition Matrix for Markov Process\n",
    "    \"global_markov\": False,  # If True, then the Markov Process is the same for all agents\n",
    "    \"MrkvPrbsInit\": [0.8, 0.2],\n",
    "\n",
    "    \n",
    "}\n",
    "\n",
    "# to add taxes, labor, and wage. This ensures that we can shock each variable.\n",
    "def function(taxrate, labor, wage):\n",
    "    \n",
    "    z = (1- taxrate)*labor*wage\n",
    "    return z\n",
    "\n",
    "init_twosector['TranShkMean_Func'] = [function]\n",
    "\n",
    "# Make a consumer with serially correlated unemployment, subject to boom and bust cycles\n",
    "# init_twosector = copy(init_idiosyncratic_shocks)\n",
    "# init_twosector[\"MrkvArray\"] = [MrkvArray]\n",
    "# init_twosector[\"UnempPrb\"] = 0.0  # to make income distribution when employed\n",
    "init_twosector[\"global_markov\"] = False\n",
    "\n",
    "### Use the HARK one and add a different wage rate and tax process\n",
    "def function(taxrate, labor, wage):\n",
    "    \n",
    "    z = (1- taxrate)*labor*wage\n",
    "    return z\n"
   ]
  },
  {
   "cell_type": "code",
   "execution_count": 118,
   "metadata": {},
   "outputs": [],
   "source": [
    "TwoSectorExampleHANK = TwoSectorMarkovConsumerType(**init_twosector)\n"
   ]
  },
  {
   "cell_type": "code",
   "execution_count": 119,
   "metadata": {},
   "outputs": [],
   "source": [
    "### RFREE WITH TIME VARYING\n",
    "TwoSectorExampleHANK.assign_parameters(\n",
    "    Rfree=[np.array(2 * [1.03])] * T_cycles\n",
    ")"
   ]
  },
  {
   "cell_type": "code",
   "execution_count": 120,
   "metadata": {},
   "outputs": [
    {
     "name": "stderr",
     "output_type": "stream",
     "text": [
      "c:\\Users\\adria\\anaconda3\\envs\\python390\\lib\\site-packages\\HARK\\interpolation.py:2187: RuntimeWarning: All-NaN slice encountered\n",
      "  y = self.compare(fx, axis=1)\n"
     ]
    },
    {
     "name": "stdout",
     "output_type": "stream",
     "text": [
      "158\n"
     ]
    }
   ],
   "source": [
    "TwoSectorExampleHANK.solve()\n",
    "print(TwoSectorExampleHANK.completed_cycles)\n"
   ]
  },
  {
   "cell_type": "code",
   "execution_count": 121,
   "metadata": {},
   "outputs": [],
   "source": [
    "### Plot Consumption Functions\n",
    "mGrid = np.linspace(0, 10, 200)\n",
    "mGrid = mGrid - 2"
   ]
  },
  {
   "cell_type": "code",
   "execution_count": 122,
   "metadata": {},
   "outputs": [
    {
     "data": {
      "text/plain": [
       "<matplotlib.legend.Legend at 0x25cc80efd60>"
      ]
     },
     "execution_count": 122,
     "metadata": {},
     "output_type": "execute_result"
    },
    {
     "data": {
      "image/png": "[encoded data removed]",
      "text/plain": [
       "<Figure size 640x480 with 1 Axes>"
      ]
     },
     "metadata": {},
     "output_type": "display_data"
    }
   ],
   "source": [
    "plt.plot(mGrid, TwoSectorExampleHANK.solution[0].cFunc[0](mGrid), label = 'formal')\n",
    "plt.plot(mGrid, TwoSectorExampleHANK.solution[0].cFunc[1](mGrid), '--', label = 'informal')\n",
    "plt.legend()"
   ]
  },
  {
   "cell_type": "code",
   "execution_count": null,
   "metadata": {},
   "outputs": [],
   "source": []
  },
  {
   "cell_type": "code",
   "execution_count": null,
   "metadata": {},
   "outputs": [],
   "source": []
  },
  {
   "cell_type": "code",
   "execution_count": 123,
   "metadata": {},
   "outputs": [
    {
     "data": {
      "text/plain": [
       "(3.40918909335442, 1.0927798351110725)"
      ]
     },
     "execution_count": 123,
     "metadata": {},
     "output_type": "execute_result"
    }
   ],
   "source": [
    "TwoSectorExampleHANK.compute_steady_state()\n"
   ]
  },
  {
   "cell_type": "code",
   "execution_count": 124,
   "metadata": {},
   "outputs": [
    {
     "data": {
      "image/png": "[encoded data removed]",
      "text/plain": [
       "<Figure size 640x480 with 1 Axes>"
      ]
     },
     "metadata": {},
     "output_type": "display_data"
    },
    {
     "data": {
      "image/png": "[encoded data removed]",
      "text/plain": [
       "<Figure size 640x480 with 1 Axes>"
      ]
     },
     "metadata": {},
     "output_type": "display_data"
    }
   ],
   "source": [
    "CJACR, AJACR = TwoSectorExampleHANK.calc_jacobian(\"Rfree\", 300)\n",
    "plt.plot(CJACR[0])\n",
    "plt.plot(CJACR[10])\n",
    "plt.plot(CJACR[-1])\n",
    "plt.show()\n",
    "\n",
    "plt.plot(AJACR[0])\n",
    "plt.plot(AJACR[10])\n",
    "plt.plot(AJACR[-1])\n",
    "\n",
    "plt.show()"
   ]
  },
  {
   "cell_type": "code",
   "execution_count": 125,
   "metadata": {},
   "outputs": [
    {
     "ename": "NameError",
     "evalue": "name 'STOP' is not defined",
     "output_type": "error",
     "traceback": [
      "\u001b[1;31m---------------------------------------------------------------------------\u001b[0m",
      "\u001b[1;31mNameError\u001b[0m                                 Traceback (most recent call last)",
      "Cell \u001b[1;32mIn[125], line 1\u001b[0m\n\u001b[1;32m----> 1\u001b[0m \u001b[43mSTOP\u001b[49m\n",
      "\u001b[1;31mNameError\u001b[0m: name 'STOP' is not defined"
     ]
    }
   ],
   "source": [
    "STOP"
   ]
  },
  {
   "cell_type": "code",
   "execution_count": null,
   "metadata": {},
   "outputs": [],
   "source": []
  },
  {
   "cell_type": "code",
   "execution_count": null,
   "metadata": {},
   "outputs": [],
   "source": [
    "from HARK.ConsumptionSaving.ConsMarkovModel import MarkovConsumerType\n",
    "from HARK.ConsumptionSaving.ConsIndShockModel import init_idiosyncratic_shocks\n",
    "from HARK.distribution import DiscreteDistributionLabeled\n",
    "import matplotlib.pyplot as plt\n",
    "from ConsIndShockModel_HANK import HANKIncShkDstn\n",
    "# from HARK.utilities import jump_to_grid_1D, jump_to_grid_2D\n",
    "import numba\n",
    "\n",
    "from TwoSectorModel_HANK import TwoSectorMarkovConsumerType\n",
    "import numpy as np\n",
    "from copy import copy, deepcopy"
   ]
  },
  {
   "cell_type": "code",
   "execution_count": null,
   "metadata": {},
   "outputs": [],
   "source": [
    "# Define the Markov transition matrix for sector f(ormal) to i(nformal)\n",
    "p_f_to_i = 0\n",
    "p_i_to_f = 0\n",
    "p_f_to_f = 1 - p_f_to_i\n",
    "p_i_to_i = 1 - p_i_to_f\n",
    "\n",
    "MrkvArray = np.array(\n",
    "    [\n",
    "        [\n",
    "            p_f_to_f\n",
    "        ,\n",
    "            p_f_to_i\n",
    "        ],\n",
    "        [\n",
    "           p_i_to_f\n",
    "        ,\n",
    "            p_i_to_i\n",
    "        ]\n",
    "    ]\n",
    ")\n",
    "\n",
    "NSectors = 2"
   ]
  },
  {
   "cell_type": "code",
   "execution_count": null,
   "metadata": {},
   "outputs": [],
   "source": [
    "\n",
    "r_ss = 1.03 - 1\n",
    "G_ss = .2\n",
    "B_ss = 0.25 # this is lower than the tutorial by Straub et al. because need Higher MPC\n",
    "Y_ss = 1.0\n",
    "T_cycles = 1\n",
    "cycles = 0\n",
    "LivPrb = .99375\n",
    "\n",
    "init_twosector = {\n",
    "    \"cycles\" : cycles,\n",
    "    # \"T_cycle\" : T_cycles,\n",
    "    # Parameters shared with the perfect foresight model\n",
    "    \"DiscFac\": 0.97,\n",
    "    \"Rfree\": np.array(2 * [1.0 + r_ss]),                   # Interest factor on assets\n",
    "\n",
    "    ### Two Sector Model Parameters\n",
    "    \"PermShkStd\": [np.array([0.06, 0.06])] * T_cycles,  # Standard deviation of log permanent shocks to income for each sector\n",
    "    \"TranShkStd\": [np.array([0.2, 0.2])] * T_cycles,  # Standard deviation of log transitory shocks to income for each sector\n",
    "    \"UnempPrb\": [np.array([0.0, 0.0])] * T_cycles,  # Probability of unemployment while working for each sector\n",
    "    \"IncUnemp\": [np.array([0.0, 0.0])] * T_cycles,  # Unemployment benefits replacement rate for each sector\n",
    "    \"taxrate\": [np.array([0.0, 0.0])] * T_cycles,  # Tax Rate for each sector\n",
    "    \"labor\": [np.array([1.0, 1.0])] * T_cycles,  # Labor for each sector\n",
    "    \"wage\": [np.array([1.0, 1.0])] * T_cycles,  # Wage for each sector\n",
    "    \"BoroCnstArt\": [0.0, 0.0],  # Borrowing constraint for the minimum allowable assets to end the period with  \n",
    "    \"LivPrb\": [LivPrb * np.ones(2)] * T_cycles,\n",
    "    \"PermGroFac\": [1.0 * np.ones(2)] * T_cycles,\n",
    "    # Parameters that specify the income distribution over the lifecycle\n",
    "    \"PermShkCount\" : 5,                    # Number of points in discrete approximation to permanent income shocks\n",
    "    \"TranShkCount\" : 5,    \n",
    "    \n",
    "    # Parameters for constructing the \"assets above minimum\" grid\n",
    "    \"aXtraMax\" : 500,                      # Maximum end-of-period \"assets above minimum\" value\n",
    "    \"aXtraCount\" : 100,                     # Number of points in the base grid of \"assets above minimum\"\n",
    "    \n",
    "    # Transition Matrix simulation parameters\n",
    "    \"mCount\": 200,\n",
    "    \"mMax\": 500,\n",
    "    \"mMin\": 1e-5,\n",
    "    \"mFac\": 3,\n",
    "\n",
    "    # Hank model bool\n",
    "    \"HANK\":True,     \n",
    "    \n",
    "     ### Markov Parameters\n",
    "    \"MrkvArray\": [MrkvArray] * T_cycles,  # Transition Matrix for Markov Process\n",
    "    \"global_markov\": False,  # If True, then the Markov Process is the same for all agents\n",
    "    \"MrkvPrbsInit\": [0.5, 0.5],\n",
    "}\n",
    "\n",
    "\n",
    "# to add taxes, labor, and wage. This ensures that we can shock each variable.\n",
    "def function(taxrate, labor, wage):\n",
    "    \n",
    "    z = (1- taxrate)*labor*wage\n",
    "    return z\n",
    "\n",
    "init_twosector['TranShkMean_Func'] = [function]"
   ]
  },
  {
   "cell_type": "code",
   "execution_count": null,
   "metadata": {},
   "outputs": [],
   "source": [
    "# Make a consumer with serially correlated unemployment, subject to boom and bust cycles\n",
    "init_twosector[\"global_markov\"] = False\n",
    "TwoSectorExample = TwoSectorMarkovConsumerType(**init_twosector)\n"
   ]
  },
  {
   "cell_type": "code",
   "execution_count": null,
   "metadata": {},
   "outputs": [],
   "source": [
    "### RFREE WITH TIME VARYING\n",
    "TwoSectorExample.assign_parameters(\n",
    "    Rfree=[np.array(2 * [1.0 + r_ss])] * T_cycles\n",
    ")"
   ]
  },
  {
   "cell_type": "code",
   "execution_count": null,
   "metadata": {},
   "outputs": [
    {
     "name": "stderr",
     "output_type": "stream",
     "text": [
      "c:\\Users\\adria\\anaconda3\\envs\\python390\\lib\\site-packages\\HARK\\interpolation.py:2187: RuntimeWarning: All-NaN slice encountered\n",
      "  y = self.compare(fx, axis=1)\n"
     ]
    }
   ],
   "source": [
    "TwoSectorExample.solve()\n"
   ]
  },
  {
   "cell_type": "code",
   "execution_count": null,
   "metadata": {},
   "outputs": [
    {
     "data": {
      "text/plain": [
       "0"
      ]
     },
     "execution_count": 89,
     "metadata": {},
     "output_type": "execute_result"
    }
   ],
   "source": [
    "TwoSectorExample.cycles"
   ]
  },
  {
   "cell_type": "code",
   "execution_count": null,
   "metadata": {},
   "outputs": [],
   "source": [
    "# TwoSectorExample.completed_cycles"
   ]
  },
  {
   "cell_type": "code",
   "execution_count": null,
   "metadata": {},
   "outputs": [
    {
     "data": {
      "text/plain": [
       "{'cFunc': [<HARK.interpolation.LowerEnvelope at 0x25cc41dc5e0>,\n",
       "  <HARK.interpolation.LowerEnvelope at 0x25cc41dc2b0>],\n",
       " 'vFunc': [<HARK.utilities.NullFunc at 0x25cc41dc3d0>,\n",
       "  <HARK.utilities.NullFunc at 0x25cc41dc310>],\n",
       " 'vPfunc': [<HARK.interpolation.MargValueFuncCRRA at 0x25cc41dc4c0>,\n",
       "  <HARK.interpolation.MargValueFuncCRRA at 0x25cc41dc430>],\n",
       " 'vPPfunc': [<HARK.utilities.NullFunc at 0x25cc41dcf10>,\n",
       "  <HARK.utilities.NullFunc at 0x25cc41dc880>],\n",
       " 'mNrmMin': array([0., 0.]),\n",
       " 'hNrm': array([1.9134697, 1.9134697]),\n",
       " 'MPCmin': array([0.34444026, 0.34444026]),\n",
       " 'MPCmax': array([1., 1.])}"
      ]
     },
     "execution_count": 91,
     "metadata": {},
     "output_type": "execute_result"
    }
   ],
   "source": [
    "vars(TwoSectorExample.solution[0])"
   ]
  },
  {
   "cell_type": "code",
   "execution_count": null,
   "metadata": {},
   "outputs": [],
   "source": [
    "### Plot Consumption Functions\n",
    "mGrid = np.linspace(0, 10, 200)\n",
    "mGrid = mGrid - 2"
   ]
  },
  {
   "cell_type": "code",
   "execution_count": null,
   "metadata": {},
   "outputs": [
    {
     "data": {
      "text/plain": [
       "<matplotlib.legend.Legend at 0x25cc3d0f430>"
      ]
     },
     "execution_count": 93,
     "metadata": {},
     "output_type": "execute_result"
    },
    {
     "data": {
      "image/png": "[encoded data removed]",
      "text/plain": [
       "<Figure size 640x480 with 1 Axes>"
      ]
     },
     "metadata": {},
     "output_type": "display_data"
    }
   ],
   "source": [
    "plt.plot(mGrid, TwoSectorExample.solution[0].cFunc[0](mGrid), label = 'formal')\n",
    "plt.plot(mGrid, TwoSectorExample.solution[0].cFunc[1](mGrid), '--', label = 'informal')\n",
    "plt.legend()"
   ]
  },
  {
   "cell_type": "code",
   "execution_count": null,
   "metadata": {},
   "outputs": [
    {
     "data": {
      "text/plain": [
       "<matplotlib.legend.Legend at 0x25cc4844460>"
      ]
     },
     "execution_count": 94,
     "metadata": {},
     "output_type": "execute_result"
    },
    {
     "data": {
      "image/png": "[encoded data removed]",
      "text/plain": [
       "<Figure size 640x480 with 1 Axes>"
      ]
     },
     "metadata": {},
     "output_type": "display_data"
    }
   ],
   "source": [
    "plt.plot(mGrid, TwoSectorExample.solution[0].vPfunc[0](mGrid), label = 'formal')\n",
    "plt.plot(mGrid, TwoSectorExample.solution[0].vPfunc[1](mGrid), '--', label = 'informal')\n",
    "plt.legend()"
   ]
  },
  {
   "cell_type": "code",
   "execution_count": null,
   "metadata": {},
   "outputs": [],
   "source": [
    "stop"
   ]
  },
  {
   "cell_type": "code",
   "execution_count": null,
   "metadata": {},
   "outputs": [
    {
     "data": {
      "text/plain": [
       "(0.14139303906287626, 1.0011199518594887)"
      ]
     },
     "execution_count": 95,
     "metadata": {},
     "output_type": "execute_result"
    }
   ],
   "source": [
    "TwoSectorExample.compute_steady_state()"
   ]
  },
  {
   "cell_type": "code",
   "execution_count": null,
   "metadata": {},
   "outputs": [
    {
     "name": "stderr",
     "output_type": "stream",
     "text": [
      "c:\\Users\\adria\\anaconda3\\envs\\python390\\lib\\site-packages\\HARK\\interpolation.py:2187: RuntimeWarning: All-NaN slice encountered\n",
      "  y = self.compare(fx, axis=1)\n"
     ]
    }
   ],
   "source": [
    "CJACR, AJACR = TwoSectorExample.calc_jacobian(\"Rfree\", 300)"
   ]
  },
  {
   "cell_type": "code",
   "execution_count": null,
   "metadata": {},
   "outputs": [
    {
     "data": {
      "image/png": "[encoded data removed]",
      "text/plain": [
       "<Figure size 640x480 with 1 Axes>"
      ]
     },
     "metadata": {},
     "output_type": "display_data"
    },
    {
     "data": {
      "image/png": "[encoded data removed]",
      "text/plain": [
       "<Figure size 640x480 with 1 Axes>"
      ]
     },
     "metadata": {},
     "output_type": "display_data"
    }
   ],
   "source": [
    "plt.plot(CJACR[0])\n",
    "plt.plot(CJACR[10])\n",
    "plt.plot(CJACR[-1])\n",
    "plt.show()\n",
    "\n",
    "plt.plot(AJACR[0])\n",
    "plt.plot(AJACR[10])\n",
    "plt.plot(AJACR[-1])\n",
    "\n",
    "plt.show()"
   ]
  },
  {
   "cell_type": "code",
   "execution_count": null,
   "metadata": {},
   "outputs": [],
   "source": []
  },
  {
   "cell_type": "code",
   "execution_count": null,
   "metadata": {},
   "outputs": [
    {
     "ename": "NameError",
     "evalue": "name 'stop' is not defined",
     "output_type": "error",
     "traceback": [
      "\u001b[1;31m---------------------------------------------------------------------------\u001b[0m",
      "\u001b[1;31mNameError\u001b[0m                                 Traceback (most recent call last)",
      "Cell \u001b[1;32mIn[98], line 1\u001b[0m\n\u001b[1;32m----> 1\u001b[0m \u001b[43mstop\u001b[49m\n",
      "\u001b[1;31mNameError\u001b[0m: name 'stop' is not defined"
     ]
    }
   ],
   "source": [
    "stop"
   ]
  },
  {
   "cell_type": "code",
   "execution_count": null,
   "metadata": {},
   "outputs": [],
   "source": [
    "### Try new Type\n",
    "TwoSectorExampleHANK = TwoSectorMarkovConsumerType(**init_twosector)\n",
    "# TwoSectorExampleHANK = MarkovConsumerType(**init_twosector)\n",
    "TwoSectorExampleHANK.IncShkDstn = [\n",
    "    [\n",
    "        formal_income_dist_HANK,\n",
    "        informal_income_dist_HANK,\n",
    "    ]\n",
    "]\n",
    "\n",
    "# Time varying shape\n",
    "TwoSectorExampleHANK.assign_parameters(\n",
    "    Rfree=np.array(NSectors * [TwoSectorExampleHANK.Rfree])\n",
    ")\n",
    "\n",
    "TwoSectorExampleHANK.PermGroFac = [\n",
    "    np.array(NSectors * TwoSectorExampleHANK.PermGroFac)\n",
    "]\n",
    "TwoSectorExampleHANK.LivPrb = [TwoSectorExampleHANK.LivPrb * np.ones(NSectors)]\n",
    "\n",
    "TwoSectorExampleHANK.BoroCnstArt = np.array([-10.0, -1.0])\n",
    "\n",
    "TwoSectorExampleHANK.cycles = 0\n",
    "TwoSectorExampleHANK.vFuncBool = False "
   ]
  },
  {
   "cell_type": "code",
   "execution_count": null,
   "metadata": {},
   "outputs": [
    {
     "data": {
      "text/plain": [
       "[array([[1., 0.],\n",
       "        [0., 1.]])]"
      ]
     },
     "execution_count": 23,
     "metadata": {},
     "output_type": "execute_result"
    }
   ],
   "source": [
    "TwoSectorExampleHANK.MrkvArray"
   ]
  },
  {
   "cell_type": "code",
   "execution_count": null,
   "metadata": {},
   "outputs": [
    {
     "data": {
      "text/plain": [
       "array([-10.,  -1.])"
      ]
     },
     "execution_count": 24,
     "metadata": {},
     "output_type": "execute_result"
    }
   ],
   "source": [
    "TwoSectorExampleHANK.BoroCnstArt"
   ]
  },
  {
   "cell_type": "code",
   "execution_count": null,
   "metadata": {},
   "outputs": [
    {
     "data": {
      "text/plain": [
       "array([1.03, 1.03])"
      ]
     },
     "execution_count": 25,
     "metadata": {},
     "output_type": "execute_result"
    }
   ],
   "source": []
  },
  {
   "cell_type": "code",
   "execution_count": null,
   "metadata": {},
   "outputs": [],
   "source": [
    "TwoSectorExampleHANK.solve()"
   ]
  },
  {
   "cell_type": "code",
   "execution_count": null,
   "metadata": {},
   "outputs": [
    {
     "data": {
      "text/plain": [
       "<matplotlib.legend.Legend at 0x275bdc4d940>"
      ]
     },
     "execution_count": 27,
     "metadata": {},
     "output_type": "execute_result"
    },
    {
     "data": {
      "image/png": "[encoded data removed]",
      "text/plain": [
       "<Figure size 640x480 with 1 Axes>"
      ]
     },
     "metadata": {},
     "output_type": "display_data"
    }
   ],
   "source": [
    "plt.plot(mGrid, TwoSectorExample.solution[0].cFunc[0](mGrid), label = 'formal')\n",
    "plt.plot(mGrid, TwoSectorExample.solution[0].cFunc[1](mGrid), label = 'informal')\n",
    "plt.plot(mGrid, TwoSectorExampleHANK.solution[0].cFunc[0](mGrid), '--', label = 'formal')\n",
    "plt.plot(mGrid, TwoSectorExampleHANK.solution[0].cFunc[1](mGrid), '--', label = 'informal')\n",
    "plt.legend()"
   ]
  },
  {
   "cell_type": "markdown",
   "metadata": {},
   "source": [
    "### Two Borrowing Constraints don't make a difference\n",
    "- The reason is that even with a small probability risk to transition to the informal sector and becoming uneployed, the potential income is 0. Note that the agent could become unemployed all the time. If the agent would have debt prior to transitioning to the informal sector, the agent would need to repay it, but could not.\n"
   ]
  },
  {
   "cell_type": "code",
   "execution_count": null,
   "metadata": {},
   "outputs": [
    {
     "name": "stderr",
     "output_type": "stream",
     "text": [
      "C:\\Users\\adria\\AppData\\Local\\Temp\\ipykernel_17424\\1462389146.py:5: RuntimeWarning: divide by zero encountered in log\n",
      "  TwoSectorExampleHANK.aNrmInitMean = np.log(0.0)\n"
     ]
    },
    {
     "data": {
      "text/plain": [
       "{'mNrm': array([[ 1.        ,  1.        ,  1.        , ...,  1.        ,\n",
       "          1.        ,  1.        ],\n",
       "        [ 1.92301674,  2.97617851,  3.44885051, ...,  2.58744831,\n",
       "          1.73157521,  1.3507589 ],\n",
       "        [ 3.9203177 ,  8.77461525,  4.84863945, ...,  3.12433882,\n",
       "          2.6676122 ,  2.94620512],\n",
       "        ...,\n",
       "        [19.20003767, 12.53451634,  1.55441511, ..., 20.20403749,\n",
       "          5.34044527, 11.69069898],\n",
       "        [ 1.        , 10.16145085,  2.48395124, ..., 19.62364449,\n",
       "          8.56505768,  5.67852864],\n",
       "        [ 1.88378475, 10.18749133,  4.25120558, ..., 18.63191154,\n",
       "         12.71539869, 16.6293588 ]]),\n",
       " 'cNrm': array([[0.20867813, 0.20867813, 0.20867813, ..., 0.20867813, 0.20867813,\n",
       "         0.20867813],\n",
       "        [0.27807442, 0.3504237 , 0.38156073, ..., 0.32430985, 0.26428529,\n",
       "         0.23603638],\n",
       "        [0.4120234 , 0.70637794, 0.47059412, ..., 0.36027504, 0.32972015,\n",
       "         0.34843074],\n",
       "        ...,\n",
       "        [1.29580589, 0.92295572, 0.25129215, ..., 1.35122584, 0.50100595,\n",
       "         0.87477855],\n",
       "        [0.20867813, 0.78696297, 0.31721878, ..., 1.31918863, 0.69411631,\n",
       "         0.5217511 ],\n",
       "        [0.27526016, 0.78846695, 0.43305779, ..., 1.2644458 , 0.93328307,\n",
       "         1.15317117]])}"
      ]
     },
     "execution_count": 28,
     "metadata": {},
     "output_type": "execute_result"
    }
   ],
   "source": [
    "### Simulate\n",
    "TwoSectorExampleHANK.T_sim = 10\n",
    "TwoSectorExampleHANK.MrkvPrbsInit = [0.8, 0.2]\n",
    "TwoSectorExampleHANK.track_vars = [\"mNrm\", \"cNrm\"]\n",
    "TwoSectorExampleHANK.aNrmInitMean = np.log(0.0) \n",
    "TwoSectorExampleHANK.make_shock_history()  # This is optional\n",
    "TwoSectorExampleHANK.initialize_sim()\n",
    "TwoSectorExampleHANK.simulate()"
   ]
  },
  {
   "cell_type": "code",
   "execution_count": null,
   "metadata": {},
   "outputs": [
    {
     "data": {
      "text/plain": [
       "0.9115010872952471"
      ]
     },
     "execution_count": 29,
     "metadata": {},
     "output_type": "execute_result"
    }
   ],
   "source": [
    "np.mean(TwoSectorExampleHANK.history['cNrm'])"
   ]
  },
  {
   "cell_type": "code",
   "execution_count": null,
   "metadata": {},
   "outputs": [
    {
     "data": {
      "text/plain": [
       "13.20419745677602"
      ]
     },
     "execution_count": 30,
     "metadata": {},
     "output_type": "execute_result"
    }
   ],
   "source": [
    "np.mean(TwoSectorExampleHANK.history['mNrm'])"
   ]
  },
  {
   "cell_type": "code",
   "execution_count": null,
   "metadata": {},
   "outputs": [
    {
     "data": {
      "text/plain": [
       "array([1.03, 1.03])"
      ]
     },
     "execution_count": 31,
     "metadata": {},
     "output_type": "execute_result"
    }
   ],
   "source": [
    "TwoSectorExampleHANK.Rfree"
   ]
  },
  {
   "cell_type": "markdown",
   "metadata": {},
   "source": [
    "### Transitionmatrix test"
   ]
  },
  {
   "cell_type": "code",
   "execution_count": null,
   "metadata": {},
   "outputs": [],
   "source": [
    "TwoSectorExampleHANK.mCount = 100\n",
    "TwoSectorExampleHANK.mFac = 3\n",
    "TwoSectorExampleHANK.mMin = 0.001\n",
    "TwoSectorExampleHANK.mMax = 1000\n",
    "TwoSectorExampleHANK.neutral_measure = True"
   ]
  },
  {
   "cell_type": "code",
   "execution_count": null,
   "metadata": {},
   "outputs": [],
   "source": [
    "TwoSectorExampleHANK.define_distribution_grid()"
   ]
  },
  {
   "cell_type": "code",
   "execution_count": null,
   "metadata": {},
   "outputs": [
    {
     "data": {
      "text/plain": [
       "[0.8, 0.2]"
      ]
     },
     "execution_count": 34,
     "metadata": {},
     "output_type": "execute_result"
    }
   ],
   "source": [
    "TwoSectorExampleHANK.cycles\n",
    "TwoSectorExampleHANK.MrkvPrbsInit"
   ]
  },
  {
   "cell_type": "code",
   "execution_count": null,
   "metadata": {},
   "outputs": [],
   "source": [
    "TwoSectorExampleHANK.calc_transition_matrix_Markov()"
   ]
  },
  {
   "cell_type": "code",
   "execution_count": null,
   "metadata": {},
   "outputs": [],
   "source": [
    "TwoSectorExampleHANK.calc_ergodic_dist_Markov()"
   ]
  },
  {
   "cell_type": "code",
   "execution_count": null,
   "metadata": {},
   "outputs": [
    {
     "data": {
      "text/plain": [
       "(392.2496144457125, 19.72164758652894)"
      ]
     },
     "execution_count": 37,
     "metadata": {},
     "output_type": "execute_result"
    }
   ],
   "source": [
    "TwoSectorExampleHANK.compute_steady_state()"
   ]
  },
  {
   "cell_type": "code",
   "execution_count": null,
   "metadata": {},
   "outputs": [
    {
     "ename": "NameError",
     "evalue": "name 'stop' is not defined",
     "output_type": "error",
     "traceback": [
      "\u001b[1;31m---------------------------------------------------------------------------\u001b[0m",
      "\u001b[1;31mNameError\u001b[0m                                 Traceback (most recent call last)",
      "Cell \u001b[1;32mIn[38], line 1\u001b[0m\n\u001b[1;32m----> 1\u001b[0m \u001b[43mstop\u001b[49m\n",
      "\u001b[1;31mNameError\u001b[0m: name 'stop' is not defined"
     ]
    }
   ],
   "source": [
    "stop"
   ]
  },
  {
   "cell_type": "code",
   "execution_count": null,
   "metadata": {},
   "outputs": [
    {
     "ename": "AttributeError",
     "evalue": "'TwoSectorMarkovConsumerType' object has no attribute 'tran_matrix'",
     "output_type": "error",
     "traceback": [
      "\u001b[1;31m---------------------------------------------------------------------------\u001b[0m",
      "\u001b[1;31mAttributeError\u001b[0m                            Traceback (most recent call last)",
      "Cell \u001b[1;32mIn[40], line 1\u001b[0m\n\u001b[1;32m----> 1\u001b[0m tran_matrix \u001b[38;5;241m=\u001b[39m \u001b[43mTwoSectorExampleHANK\u001b[49m\u001b[38;5;241;43m.\u001b[39;49m\u001b[43mtran_matrix\u001b[49m\n",
      "\u001b[1;31mAttributeError\u001b[0m: 'TwoSectorMarkovConsumerType' object has no attribute 'tran_matrix'"
     ]
    }
   ],
   "source": [
    "tran_matrix = TwoSectorExampleHANK.tran_matrix"
   ]
  },
  {
   "cell_type": "code",
   "execution_count": null,
   "metadata": {},
   "outputs": [
    {
     "ename": "AttributeError",
     "evalue": "'TwoSectorMarkovConsumerType' object has no attribute 'tran_matrix'",
     "output_type": "error",
     "traceback": [
      "\u001b[1;31m---------------------------------------------------------------------------\u001b[0m",
      "\u001b[1;31mAttributeError\u001b[0m                            Traceback (most recent call last)",
      "Cell \u001b[1;32mIn[38], line 1\u001b[0m\n\u001b[1;32m----> 1\u001b[0m \u001b[43mTwoSectorExampleHANK\u001b[49m\u001b[38;5;241;43m.\u001b[39;49m\u001b[43mcalc_ergodic_dist\u001b[49m\u001b[43m(\u001b[49m\u001b[43m)\u001b[49m\n",
      "File \u001b[1;32mc:\\Users\\adria\\OneDrive - Johns Hopkins\\Github\\AMonninger\\REMARK_IMF_latest\\code\\python\\TwoSectorModel_HANK.py:499\u001b[0m, in \u001b[0;36mTwoSectorMarkovConsumerType.calc_ergodic_dist\u001b[1;34m(self, transition_matrix)\u001b[0m\n\u001b[0;32m    482\u001b[0m \u001b[38;5;250m\u001b[39m\u001b[38;5;124;03m\"\"\"\u001b[39;00m\n\u001b[0;32m    483\u001b[0m \u001b[38;5;124;03mCalculates the ergodic distribution across normalized market resources and\u001b[39;00m\n\u001b[0;32m    484\u001b[0m \u001b[38;5;124;03mpermanent income as the eigenvector associated with the eigenvalue 1.\u001b[39;00m\n\u001b[1;32m   (...)\u001b[0m\n\u001b[0;32m    495\u001b[0m \u001b[38;5;124;03mNone\u001b[39;00m\n\u001b[0;32m    496\u001b[0m \u001b[38;5;124;03m\"\"\"\u001b[39;00m\n\u001b[0;32m    498\u001b[0m \u001b[38;5;28;01mif\u001b[39;00m \u001b[38;5;129;01mnot\u001b[39;00m \u001b[38;5;28misinstance\u001b[39m(transition_matrix, \u001b[38;5;28mlist\u001b[39m):\n\u001b[1;32m--> 499\u001b[0m     transition_matrix \u001b[38;5;241m=\u001b[39m [\u001b[38;5;28;43mself\u001b[39;49m\u001b[38;5;241;43m.\u001b[39;49m\u001b[43mtran_matrix\u001b[49m]\n\u001b[0;32m    501\u001b[0m eigen, ergodic_distr \u001b[38;5;241m=\u001b[39m sp\u001b[38;5;241m.\u001b[39mlinalg\u001b[38;5;241m.\u001b[39meigs(\n\u001b[0;32m    502\u001b[0m     transition_matrix[\u001b[38;5;241m0\u001b[39m], v0\u001b[38;5;241m=\u001b[39mnp\u001b[38;5;241m.\u001b[39mones(\u001b[38;5;28mlen\u001b[39m(transition_matrix[\u001b[38;5;241m0\u001b[39m])), k\u001b[38;5;241m=\u001b[39m\u001b[38;5;241m1\u001b[39m, which\u001b[38;5;241m=\u001b[39m\u001b[38;5;124m\"\u001b[39m\u001b[38;5;124mLM\u001b[39m\u001b[38;5;124m\"\u001b[39m\n\u001b[0;32m    503\u001b[0m )  \u001b[38;5;66;03m# Solve for ergodic distribution\u001b[39;00m\n\u001b[0;32m    504\u001b[0m ergodic_distr \u001b[38;5;241m=\u001b[39m ergodic_distr\u001b[38;5;241m.\u001b[39mreal \u001b[38;5;241m/\u001b[39m np\u001b[38;5;241m.\u001b[39msum(ergodic_distr\u001b[38;5;241m.\u001b[39mreal)\n",
      "\u001b[1;31mAttributeError\u001b[0m: 'TwoSectorMarkovConsumerType' object has no attribute 'tran_matrix'"
     ]
    }
   ],
   "source": [
    "TwoSectorExampleHANK.calc_ergodic_dist()"
   ]
  },
  {
   "cell_type": "code",
   "execution_count": null,
   "metadata": {},
   "outputs": [],
   "source": [
    "def gen_tran_matrix_1D_Markov(\n",
    "    dist_mGrid, MrkvPrbs, bNext_Grid, shk_prbs, perm_shks, tran_shks, LivPrb, NewBornDist\n",
    "):\n",
    "    \"\"\"\n",
    "    Computes Transition Matrix across normalized market resources.\n",
    "    This function is built to non-stochastic simulate the IndShockConsumerType.\n",
    "    This function is used exclusively when Harmenberg Neutral Measure is applied and/or if permanent income is not a state variable\n",
    "    For more information, see https://econ-ark.org/materials/harmenberg-aggregation?launch\n",
    "\n",
    "    Parameters\n",
    "    ----------\n",
    "    dist_mGrid : np.array\n",
    "        Grid over normalized market resources\n",
    "\n",
    "    MrkvPrbs : np.array\n",
    "        Probabilities of transitioning between different states of the Markov process\n",
    "\n",
    "    bNext_Grid : Lif of np.array\n",
    "        Grid over bank balances\n",
    "\n",
    "    shk_prbs : np.array\n",
    "        Array of shock probabilities over combinations of permanent and transitory shocks\n",
    "\n",
    "    perm_shks : np.array\n",
    "        Array of shocks to permanent income. Shocks should follow Harmenberg neutral measure\n",
    "\n",
    "    tran_shks : np.array\n",
    "        Array of shocks to transitory\n",
    "\n",
    "    LivPrb : float\n",
    "        Probability of not dying\n",
    "\n",
    "    NewBornDist : np.array\n",
    "        array representing distribution of newborns across grid of normalized market resources and grid of permanent income.\n",
    "\n",
    "    Returns\n",
    "    -------\n",
    "    TranMatrix : np.array\n",
    "        Transition Matrix over normalized market resources grid.\n",
    "\n",
    "\n",
    "    \"\"\"\n",
    "\n",
    "    TranMatrix = np.zeros((len(MrkvPrbs) * len(dist_mGrid), len(MrkvPrbs) * len(dist_mGrid)))\n",
    "    TranMatrix_NoMrkv_List = []\n",
    "\n",
    "    for Mrkv in numba.prange(len(MrkvPrbs)): #For each state of the Markov process (formal and informal sector)\n",
    "        TranMatrix_NoMrkv_array = np.zeros((len(dist_mGrid), len(dist_mGrid)))\n",
    "        for i in numba.prange(len(dist_mGrid)):\n",
    "            mNext_ij = (\n",
    "                bNext_Grid[Mrkv][i] / perm_shks[Mrkv] + tran_shks[Mrkv]\n",
    "            )  # Compute next period's market resources given todays bank balances bnext[i]\n",
    "\n",
    "            TranMatrix_NoMrkv_array[:, i] += (\n",
    "                LivPrb[Mrkv] * jump_to_grid_1D(mNext_ij, shk_prbs[Mrkv], dist_mGrid)\n",
    "                + (1.0 - LivPrb[Mrkv]) * NewBornDist[Mrkv]) # Given state of the Markov Process\n",
    "\n",
    "        TranMatrix_NoMrkv_List.append(TranMatrix_NoMrkv_array)\n",
    "\n",
    "    # Fill the upper left corner of TranMatrix\n",
    "    TranMatrix[:100, :100] = TranMatrix_NoMrkv_List[0] * MrkvPrbs[0, 0]\n",
    "\n",
    "    # Fill the upper right corner of TranMatrix\n",
    "    TranMatrix[:100, 100:] = TranMatrix_NoMrkv_List[0] * MrkvPrbs[0, 1]\n",
    "\n",
    "    # Fill the lower left corner of TranMatrix\n",
    "    TranMatrix[100:, :100] = TranMatrix_NoMrkv_List[1] * MrkvPrbs[1, 0]\n",
    "\n",
    "    # Fill the lower right corner of TranMatrix\n",
    "    TranMatrix[100:, 100:] = TranMatrix_NoMrkv_List[1] * MrkvPrbs[1, 1]\n",
    "\n",
    "    return TranMatrix"
   ]
  },
  {
   "cell_type": "code",
   "execution_count": null,
   "metadata": {},
   "outputs": [],
   "source": [
    "def calc_transition_matrix_Markov(self, shk_dstn=None):\n",
    "    \"\"\"\n",
    "    Calculates how the distribution of agents across market resources\n",
    "    transitions from one period to the next. If finite horizon problem, then calculates\n",
    "    a list of transition matrices, consumption and asset policy grids for each period of the problem.\n",
    "    The transition matrix/matrices and consumption and asset policy grid(s) are stored as attributes of self.\n",
    "\n",
    "\n",
    "    Parameters\n",
    "    ----------\n",
    "        shk_dstn: list\n",
    "            list of income shock distributions. Each Income Shock Distribution should be a DiscreteDistribution Object (see Distribution.py)\n",
    "    Returns\n",
    "    -------\n",
    "    None\n",
    "\n",
    "    \"\"\"\n",
    "\n",
    "    if self.cycles == 0:  # Infinite Horizon Problem\n",
    "        if not hasattr(shk_dstn, \"pmv\"):\n",
    "            shk_dstn = self.IncShkDstn\n",
    "\n",
    "        dist_mGrid = self.dist_mGrid  # Grid of market resources\n",
    "        dist_pGrid = self.dist_pGrid  # Grid of permanent incomes\n",
    "\n",
    "        MrkvPrbs = self.MrkvArray  # Transition Matrix for Markov Process\n",
    "        MrkvPrbsInit = self.MrkvPrbsInit # Initial Markov State Probabilities\n",
    "\n",
    "        # Loop over Markov States\n",
    "        self.cPol_Grid = []  # List of consumption policy grids for each Markov state\n",
    "        self.aPol_Grid = []  # List of asset policy grids for each Markov state\n",
    "        bNext_Grid = []  # List of bank balance grids for each period in T_cycle\n",
    "\n",
    "        shk_prbs = []\n",
    "        tran_shks = []\n",
    "        perm_shks = []\n",
    "        LivPrb = []\n",
    "        for i in range(len(MrkvPrbs)):\n",
    "            Cnow = self.solution[0].cFunc[i](dist_mGrid)\n",
    "            self.cPol_Grid.append(Cnow)  # Add to list\n",
    "            aNext = dist_mGrid - Cnow  # Asset policy grid in period k\n",
    "            self.aPol_Grid.append(aNext)  # Add to list\n",
    "                    \n",
    "            if type(TwoSectorExampleHANK.Rfree) == list:\n",
    "                bNext = TwoSectorExampleHANK.Rfree[0][i] * aNext\n",
    "            else:\n",
    "                bNext = TwoSectorExampleHANK.Rfree[i] * aNext\n",
    "            bNext_Grid.append(bNext)\n",
    "\n",
    "            # Obtain shocks and shock probabilities from income distribution this period\n",
    "            shk_prbs.append(shk_dstn[0][i].pmv)   # Probability of shocks this period\n",
    "            # Transitory shocks this period\n",
    "            tran_shks.append(shk_dstn[0][i].atoms[1])\n",
    "            # Permanent shocks this period\n",
    "            perm_shks.append(shk_dstn[0][i].atoms[0])\n",
    "\n",
    "            # Update probability of staying alive this period\n",
    "            LivPrb.append(self.LivPrb[0][i])\n",
    "      \n",
    "        if len(dist_pGrid) == 1:\n",
    "            # New borns have this distribution (assumes start with no assets and permanent income=1)\n",
    "            NewBornDist_list = []  # To store modified NewBornDist arrays\n",
    "\n",
    "            # Iterate over each element in MrkvPrbsInit and modify NewBornDist\n",
    "            for Mrkv, prob in enumerate(MrkvPrbsInit):\n",
    "                NewBornDist_array = jump_to_grid_1D(\n",
    "                                    np.zeros_like(tran_shks[Mrkv]), # No shocks at the beginning. Therefore, does not matter which shocks I take\n",
    "                                    shk_prbs[Mrkv],\n",
    "                                    dist_mGrid,) * prob\n",
    "                NewBornDist_list.append(NewBornDist_array)\n",
    "\n",
    "            # Stack all modified arrays\n",
    "            NewBornDist = np.vstack(NewBornDist_list)\n",
    "\n",
    "            # Compute Transition Matrix given shocks and grids.\n",
    "            TranMatrix_M = gen_tran_matrix_1D_Markov(\n",
    "                dist_mGrid,\n",
    "                MrkvPrbs,\n",
    "                bNext_Grid,\n",
    "                shk_prbs,\n",
    "                perm_shks,\n",
    "                tran_shks,\n",
    "                LivPrb,\n",
    "                NewBornDist,\n",
    "            )\n",
    "            \n",
    "            self.tran_matrix.append(TranMatrix_M)   \n",
    "            \n",
    "                     \n"
   ]
  },
  {
   "cell_type": "code",
   "execution_count": null,
   "metadata": {},
   "outputs": [],
   "source": [
    "TwoSectorExampleHANK.mCount = 100\n",
    "TwoSectorExampleHANK.mFac = 3\n",
    "TwoSectorExampleHANK.mMin = 0.001\n",
    "TwoSectorExampleHANK.mMax = 1000"
   ]
  },
  {
   "cell_type": "code",
   "execution_count": null,
   "metadata": {},
   "outputs": [],
   "source": [
    "TwoSectorExampleHANK.define_distribution_grid()"
   ]
  },
  {
   "cell_type": "code",
   "execution_count": null,
   "metadata": {},
   "outputs": [],
   "source": [
    "dist_mGrid = TwoSectorExampleHANK.dist_mGrid\n",
    "MrkvPrbsInit = TwoSectorExampleHANK.MrkvPrbsInit\n",
    "MrkvPrbs = MrkvArray\n",
    "shk_dstn = TwoSectorExampleHANK.IncShkDstn"
   ]
  },
  {
   "cell_type": "code",
   "execution_count": null,
   "metadata": {},
   "outputs": [],
   "source": [
    "cPol_Grid = []\n",
    "aPol_Grid = []\n",
    "bNext_Grid = []"
   ]
  },
  {
   "cell_type": "code",
   "execution_count": null,
   "metadata": {},
   "outputs": [],
   "source": [
    "shk_prbs = []\n",
    "tran_shks = []\n",
    "perm_shks = []\n",
    "LivPrb = []\n",
    "for i in range(len(MrkvPrbs)):\n",
    "    Cnow = TwoSectorExampleHANK.solution[0].cFunc[i](dist_mGrid)\n",
    "    cPol_Grid.append(Cnow)  # Add to list\n",
    "    aNext = dist_mGrid - Cnow  # Asset policy grid in period k\n",
    "    aPol_Grid.append(aNext)  # Add to list\n",
    "            \n",
    "    if type(TwoSectorExampleHANK.Rfree) == list:\n",
    "        bNext = TwoSectorExampleHANK.Rfree[0][i] * aNext\n",
    "    else:\n",
    "        bNext = TwoSectorExampleHANK.Rfree[i] * aNext\n",
    "    bNext_Grid.append(bNext)\n",
    "    # Obtain shocks and shock probabilities from income distribution this period\n",
    "    shk_prbs.append(shk_dstn[0][i].pmv)   # Probability of shocks this period\n",
    "    # Transitory shocks this period\n",
    "    tran_shks.append(shk_dstn[0][i].atoms[1])\n",
    "    # Permanent shocks this period\n",
    "    perm_shks.append(shk_dstn[0][i].atoms[0])\n",
    "\n",
    "    # Update probability of staying alive this period\n",
    "    LivPrb.append(TwoSectorExampleHANK.LivPrb[0][i])\n"
   ]
  },
  {
   "cell_type": "code",
   "execution_count": null,
   "metadata": {},
   "outputs": [],
   "source": [
    "def jump_to_grid_1D(m_vals, probs, Dist_mGrid):\n",
    "    \"\"\"\n",
    "    Distributes values onto a predefined grid, maintaining the means.\n",
    "\n",
    "\n",
    "    Parameters\n",
    "    ----------\n",
    "    m_vals: np.array\n",
    "            Market resource values\n",
    "\n",
    "    probs: np.array\n",
    "            Shock probabilities associated with combinations of m_vals.\n",
    "            Can be thought of as the probability mass function  of (m_vals).\n",
    "\n",
    "    dist_mGrid : np.array\n",
    "            Grid over normalized market resources\n",
    "\n",
    "    Returns\n",
    "    -------\n",
    "    probGrid.flatten(): np.array\n",
    "             Probabilities of each gridpoint on the combined grid of market resources\n",
    "\n",
    "    \"\"\"\n",
    "\n",
    "    probGrid = np.zeros(len(Dist_mGrid))\n",
    "    mIndex = np.digitize(m_vals, Dist_mGrid) - 1\n",
    "    mIndex[m_vals <= Dist_mGrid[0]] = -1\n",
    "    mIndex[m_vals >= Dist_mGrid[-1]] = len(Dist_mGrid) - 1\n",
    "\n",
    "    for i in range(len(m_vals)):\n",
    "        if mIndex[i] == -1:\n",
    "            mlowerIndex = 0\n",
    "            mupperIndex = 0\n",
    "            mlowerWeight = 1.0\n",
    "            mupperWeight = 0.0\n",
    "        elif mIndex[i] == len(Dist_mGrid) - 1:\n",
    "            mlowerIndex = -1\n",
    "            mupperIndex = -1\n",
    "            mlowerWeight = 1.0\n",
    "            mupperWeight = 0.0\n",
    "        else:\n",
    "            mlowerIndex = mIndex[i]\n",
    "            mupperIndex = mIndex[i] + 1\n",
    "            mlowerWeight = (Dist_mGrid[mupperIndex] - m_vals[i]) / (\n",
    "                Dist_mGrid[mupperIndex] - Dist_mGrid[mlowerIndex]\n",
    "            )\n",
    "            mupperWeight = 1.0 - mlowerWeight\n",
    "\n",
    "        probGrid[mlowerIndex] += probs[i] * mlowerWeight\n",
    "        probGrid[mupperIndex] += probs[i] * mupperWeight\n",
    "\n",
    "    return probGrid.flatten()\n"
   ]
  },
  {
   "cell_type": "code",
   "execution_count": null,
   "metadata": {},
   "outputs": [
    {
     "data": {
      "text/plain": [
       "[array([0.        , 0.67957557, 0.79166261, 0.86286617, 0.92880902,\n",
       "        0.99985475, 1.09014463, 1.2786662 , 0.        , 0.67957557,\n",
       "        0.79166261, 0.86286617, 0.92880902, 0.99985475, 1.09014463,\n",
       "        1.2786662 , 0.        , 0.67957557, 0.79166261, 0.86286617,\n",
       "        0.92880902, 0.99985475, 1.09014463, 1.2786662 , 0.        ,\n",
       "        0.67957557, 0.79166261, 0.86286617, 0.92880902, 0.99985475,\n",
       "        1.09014463, 1.2786662 , 0.        , 0.67957557, 0.79166261,\n",
       "        0.86286617, 0.92880902, 0.99985475, 1.09014463, 1.2786662 ,\n",
       "        0.        , 0.67957557, 0.79166261, 0.86286617, 0.92880902,\n",
       "        0.99985475, 1.09014463, 1.2786662 , 0.        , 0.67957557,\n",
       "        0.79166261, 0.86286617, 0.92880902, 0.99985475, 1.09014463,\n",
       "        1.2786662 ]),\n",
       " array([0.        , 0.39851654, 0.46424659, 0.50600176, 0.54467196,\n",
       "        0.58633457, 0.63928234, 0.74983512, 0.        , 0.39851654,\n",
       "        0.46424659, 0.50600176, 0.54467196, 0.58633457, 0.63928234,\n",
       "        0.74983512, 0.        , 0.39851654, 0.46424659, 0.50600176,\n",
       "        0.54467196, 0.58633457, 0.63928234, 0.74983512, 0.        ,\n",
       "        0.39851654, 0.46424659, 0.50600176, 0.54467196, 0.58633457,\n",
       "        0.63928234, 0.74983512, 0.        , 0.39851654, 0.46424659,\n",
       "        0.50600176, 0.54467196, 0.58633457, 0.63928234, 0.74983512,\n",
       "        0.        , 0.39851654, 0.46424659, 0.50600176, 0.54467196,\n",
       "        0.58633457, 0.63928234, 0.74983512, 0.        , 0.39851654,\n",
       "        0.46424659, 0.50600176, 0.54467196, 0.58633457, 0.63928234,\n",
       "        0.74983512])]"
      ]
     },
     "execution_count": 40,
     "metadata": {},
     "output_type": "execute_result"
    }
   ],
   "source": [
    "tran_shks"
   ]
  },
  {
   "cell_type": "code",
   "execution_count": null,
   "metadata": {},
   "outputs": [
    {
     "ename": "NameError",
     "evalue": "name 'MrkvPrbsInit' is not defined",
     "output_type": "error",
     "traceback": [
      "\u001b[1;31m---------------------------------------------------------------------------\u001b[0m",
      "\u001b[1;31mNameError\u001b[0m                                 Traceback (most recent call last)",
      "Cell \u001b[1;32mIn[36], line 5\u001b[0m\n\u001b[0;32m      2\u001b[0m NewBornDist_list \u001b[38;5;241m=\u001b[39m []  \u001b[38;5;66;03m# To store modified NewBornDist arrays\u001b[39;00m\n\u001b[0;32m      4\u001b[0m \u001b[38;5;66;03m# Iterate over each element in MrkvPrbsInit and modify NewBornDist\u001b[39;00m\n\u001b[1;32m----> 5\u001b[0m \u001b[38;5;28;01mfor\u001b[39;00m Mrkv, prob \u001b[38;5;129;01min\u001b[39;00m \u001b[38;5;28menumerate\u001b[39m(\u001b[43mMrkvPrbsInit\u001b[49m):\n\u001b[0;32m      6\u001b[0m     NewBornDist_array \u001b[38;5;241m=\u001b[39m jump_to_grid_1D(\n\u001b[0;32m      7\u001b[0m                         np\u001b[38;5;241m.\u001b[39mzeros_like(tran_shks[Mrkv]), \u001b[38;5;66;03m# No shocks at the beginning. Therefore, does not matter which shocks I take\u001b[39;00m\n\u001b[0;32m      8\u001b[0m                         shk_prbs[Mrkv],\n\u001b[0;32m      9\u001b[0m                         dist_mGrid,) \u001b[38;5;241m*\u001b[39m prob\n\u001b[0;32m     10\u001b[0m     NewBornDist_list\u001b[38;5;241m.\u001b[39mappend(NewBornDist_array)\n",
      "\u001b[1;31mNameError\u001b[0m: name 'MrkvPrbsInit' is not defined"
     ]
    }
   ],
   "source": [
    "# New borns have this distribution (assumes start with no assets and permanent income=1)\n",
    "NewBornDist_list = []  # To store modified NewBornDist arrays\n",
    "\n",
    "# Iterate over each element in MrkvPrbsInit and modify NewBornDist\n",
    "for Mrkv, prob in enumerate(MrkvPrbsInit):\n",
    "    NewBornDist_array = jump_to_grid_1D(\n",
    "                        np.zeros_like(tran_shks[Mrkv]), # No shocks at the beginning. Therefore, does not matter which shocks I take\n",
    "                        shk_prbs[Mrkv],\n",
    "                        dist_mGrid,) * prob\n",
    "    NewBornDist_list.append(NewBornDist_array)\n",
    "\n",
    "# Stack all modified arrays\n",
    "NewBornDist = np.vstack(NewBornDist_list)"
   ]
  },
  {
   "cell_type": "code",
   "execution_count": null,
   "metadata": {},
   "outputs": [
    {
     "data": {
      "text/plain": [
       "array([[0.8, 0. , 0. , 0. , 0. , 0. , 0. , 0. , 0. , 0. , 0. , 0. , 0. ,\n",
       "        0. , 0. , 0. , 0. , 0. , 0. , 0. , 0. , 0. , 0. , 0. , 0. , 0. ,\n",
       "        0. , 0. , 0. , 0. , 0. , 0. , 0. , 0. , 0. , 0. , 0. , 0. , 0. ,\n",
       "        0. , 0. , 0. , 0. , 0. , 0. , 0. , 0. , 0. , 0. , 0. , 0. , 0. ,\n",
       "        0. , 0. , 0. , 0. , 0. , 0. , 0. , 0. , 0. , 0. , 0. , 0. , 0. ,\n",
       "        0. , 0. , 0. , 0. , 0. , 0. , 0. , 0. , 0. , 0. , 0. , 0. , 0. ,\n",
       "        0. , 0. , 0. , 0. , 0. , 0. , 0. , 0. , 0. , 0. , 0. , 0. , 0. ,\n",
       "        0. , 0. , 0. , 0. , 0. , 0. , 0. , 0. , 0. ],\n",
       "       [0.2, 0. , 0. , 0. , 0. , 0. , 0. , 0. , 0. , 0. , 0. , 0. , 0. ,\n",
       "        0. , 0. , 0. , 0. , 0. , 0. , 0. , 0. , 0. , 0. , 0. , 0. , 0. ,\n",
       "        0. , 0. , 0. , 0. , 0. , 0. , 0. , 0. , 0. , 0. , 0. , 0. , 0. ,\n",
       "        0. , 0. , 0. , 0. , 0. , 0. , 0. , 0. , 0. , 0. , 0. , 0. , 0. ,\n",
       "        0. , 0. , 0. , 0. , 0. , 0. , 0. , 0. , 0. , 0. , 0. , 0. , 0. ,\n",
       "        0. , 0. , 0. , 0. , 0. , 0. , 0. , 0. , 0. , 0. , 0. , 0. , 0. ,\n",
       "        0. , 0. , 0. , 0. , 0. , 0. , 0. , 0. , 0. , 0. , 0. , 0. , 0. ,\n",
       "        0. , 0. , 0. , 0. , 0. , 0. , 0. , 0. , 0. ]])"
      ]
     },
     "execution_count": 42,
     "metadata": {},
     "output_type": "execute_result"
    }
   ],
   "source": [
    "NewBornDist"
   ]
  },
  {
   "cell_type": "code",
   "execution_count": null,
   "metadata": {},
   "outputs": [
    {
     "data": {
      "text/plain": [
       "0.00029353015605122084"
      ]
     },
     "execution_count": 57,
     "metadata": {},
     "output_type": "execute_result"
    }
   ],
   "source": [
    "bNext[0]"
   ]
  },
  {
   "cell_type": "code",
   "execution_count": null,
   "metadata": {},
   "outputs": [
    {
     "data": {
      "text/plain": [
       "array([0.00714286, 0.01938776, 0.01938776, 0.01938776, 0.01938776,\n",
       "       0.01938776, 0.01938776, 0.01938776, 0.00714286, 0.01938776,\n",
       "       0.01938776, 0.01938776, 0.01938776, 0.01938776, 0.01938776,\n",
       "       0.01938776, 0.00714286, 0.01938776, 0.01938776, 0.01938776,\n",
       "       0.01938776, 0.01938776, 0.01938776, 0.01938776, 0.00714286,\n",
       "       0.01938776, 0.01938776, 0.01938776, 0.01938776, 0.01938776,\n",
       "       0.01938776, 0.01938776, 0.00714286, 0.01938776, 0.01938776,\n",
       "       0.01938776, 0.01938776, 0.01938776, 0.01938776, 0.01938776,\n",
       "       0.00714286, 0.01938776, 0.01938776, 0.01938776, 0.01938776,\n",
       "       0.01938776, 0.01938776, 0.01938776, 0.00714286, 0.01938776,\n",
       "       0.01938776, 0.01938776, 0.01938776, 0.01938776, 0.01938776,\n",
       "       0.01938776])"
      ]
     },
     "execution_count": 60,
     "metadata": {},
     "output_type": "execute_result"
    }
   ],
   "source": [
    "shk_prbs[0]"
   ]
  },
  {
   "cell_type": "code",
   "execution_count": null,
   "metadata": {},
   "outputs": [
    {
     "data": {
      "text/plain": [
       "[0.98, 0.98]"
      ]
     },
     "execution_count": 61,
     "metadata": {},
     "output_type": "execute_result"
    }
   ],
   "source": [
    "LivPrb"
   ]
  },
  {
   "cell_type": "code",
   "execution_count": null,
   "metadata": {},
   "outputs": [
    {
     "data": {
      "text/plain": [
       "(100,)"
      ]
     },
     "execution_count": 52,
     "metadata": {},
     "output_type": "execute_result"
    }
   ],
   "source": [
    "bNext_Grid[0].shape"
   ]
  },
  {
   "cell_type": "code",
   "execution_count": null,
   "metadata": {},
   "outputs": [
    {
     "data": {
      "text/plain": [
       "(100, 100)"
      ]
     },
     "execution_count": 46,
     "metadata": {},
     "output_type": "execute_result"
    }
   ],
   "source": [
    "TranMatrix_NoMrkv_array.shape"
   ]
  },
  {
   "cell_type": "code",
   "execution_count": null,
   "metadata": {},
   "outputs": [
    {
     "data": {
      "text/plain": [
       "(56,)"
      ]
     },
     "execution_count": 47,
     "metadata": {},
     "output_type": "execute_result"
    }
   ],
   "source": [
    "mNext_ij.shape"
   ]
  },
  {
   "cell_type": "code",
   "execution_count": null,
   "metadata": {},
   "outputs": [
    {
     "data": {
      "text/plain": [
       "(56,)"
      ]
     },
     "execution_count": 49,
     "metadata": {},
     "output_type": "execute_result"
    }
   ],
   "source": [
    "shk_prbs[0].shape"
   ]
  },
  {
   "cell_type": "code",
   "execution_count": null,
   "metadata": {},
   "outputs": [
    {
     "data": {
      "text/plain": [
       "(100,)"
      ]
     },
     "execution_count": 50,
     "metadata": {},
     "output_type": "execute_result"
    }
   ],
   "source": [
    "dist_mGrid.shape"
   ]
  },
  {
   "cell_type": "code",
   "execution_count": null,
   "metadata": {},
   "outputs": [],
   "source": [
    "TranMatrix = np.zeros((len(MrkvPrbs) * len(dist_mGrid), len(MrkvPrbs) * len(dist_mGrid)))\n",
    "TranMatrix_NoMrkv_List = []\n",
    "\n",
    "for Mrkv in numba.prange(len(MrkvPrbs)): #For each state of the Markov process (formal and informal sector)\n",
    "    TranMatrix_NoMrkv_array = np.zeros((len(dist_mGrid), len(dist_mGrid)))\n",
    "    for i in numba.prange(len(dist_mGrid)):\n",
    "        mNext_ij = (\n",
    "            bNext_Grid[Mrkv][i] / perm_shks[Mrkv] + tran_shks[Mrkv]\n",
    "        )  # Compute next period's market resources given todays bank balances bnext[i]\n",
    "\n",
    "        TranMatrix_NoMrkv_array[:, i] += (\n",
    "            LivPrb[Mrkv] * jump_to_grid_1D(mNext_ij, shk_prbs[Mrkv], dist_mGrid)\n",
    "            + (1.0 - LivPrb[Mrkv]) * NewBornDist[Mrkv]) # Given state of the Markov Process\n",
    "\n",
    "    TranMatrix_NoMrkv_List.append(TranMatrix_NoMrkv_array)\n",
    "\n",
    "# Fill the upper left corner of TranMatrix\n",
    "TranMatrix[:100, :100] = TranMatrix_NoMrkv_List[0] * MrkvPrbs[0, 0]\n",
    "\n",
    "# Fill the upper right corner of TranMatrix\n",
    "TranMatrix[:100, 100:] = TranMatrix_NoMrkv_List[0] * MrkvPrbs[0, 1]\n",
    "\n",
    "# Fill the lower left corner of TranMatrix\n",
    "TranMatrix[100:, :100] = TranMatrix_NoMrkv_List[1] * MrkvPrbs[1, 0]\n",
    "\n",
    "# Fill the lower right corner of TranMatrix\n",
    "TranMatrix[100:, 100:] = TranMatrix_NoMrkv_List[1] * MrkvPrbs[1, 1]"
   ]
  },
  {
   "cell_type": "code",
   "execution_count": null,
   "metadata": {},
   "outputs": [],
   "source": []
  },
  {
   "cell_type": "code",
   "execution_count": null,
   "metadata": {},
   "outputs": [
    {
     "ename": "IndexError",
     "evalue": "invalid index to scalar variable.",
     "output_type": "error",
     "traceback": [
      "\u001b[1;31m---------------------------------------------------------------------------\u001b[0m",
      "\u001b[1;31mIndexError\u001b[0m                                Traceback (most recent call last)",
      "Cell \u001b[1;32mIn[48], line 2\u001b[0m\n\u001b[0;32m      1\u001b[0m \u001b[38;5;66;03m# Compute Transition Matrix given shocks and grids.\u001b[39;00m\n\u001b[1;32m----> 2\u001b[0m TranMatrix_M \u001b[38;5;241m=\u001b[39m \u001b[43mgen_tran_matrix_1D_Markov\u001b[49m\u001b[43m(\u001b[49m\n\u001b[0;32m      3\u001b[0m \u001b[43m    \u001b[49m\u001b[43mdist_mGrid\u001b[49m\u001b[43m,\u001b[49m\n\u001b[0;32m      4\u001b[0m \u001b[43m    \u001b[49m\u001b[43mMrkvPrbs\u001b[49m\u001b[43m,\u001b[49m\n\u001b[0;32m      5\u001b[0m \u001b[43m    \u001b[49m\u001b[43mbNext\u001b[49m\u001b[43m,\u001b[49m\n\u001b[0;32m      6\u001b[0m \u001b[43m    \u001b[49m\u001b[43mshk_prbs\u001b[49m\u001b[43m,\u001b[49m\n\u001b[0;32m      7\u001b[0m \u001b[43m    \u001b[49m\u001b[43mperm_shks\u001b[49m\u001b[43m,\u001b[49m\n\u001b[0;32m      8\u001b[0m \u001b[43m    \u001b[49m\u001b[43mtran_shks\u001b[49m\u001b[43m,\u001b[49m\n\u001b[0;32m      9\u001b[0m \u001b[43m    \u001b[49m\u001b[43mLivPrb\u001b[49m\u001b[43m,\u001b[49m\n\u001b[0;32m     10\u001b[0m \u001b[43m    \u001b[49m\u001b[43mNewBornDist\u001b[49m\u001b[43m,\u001b[49m\n\u001b[0;32m     11\u001b[0m \u001b[43m)\u001b[49m\n",
      "Cell \u001b[1;32mIn[31], line 49\u001b[0m, in \u001b[0;36mgen_tran_matrix_1D_Markov\u001b[1;34m(dist_mGrid, MrkvPrbs, bNext, shk_prbs, perm_shks, tran_shks, LivPrb, NewBornDist)\u001b[0m\n\u001b[0;32m     46\u001b[0m \u001b[38;5;28;01mfor\u001b[39;00m Mrkv \u001b[38;5;129;01min\u001b[39;00m numba\u001b[38;5;241m.\u001b[39mprange(\u001b[38;5;28mlen\u001b[39m(MrkvPrbs)): \u001b[38;5;66;03m#For each state of the Markov process (formal and informal sector)\u001b[39;00m\n\u001b[0;32m     47\u001b[0m     \u001b[38;5;28;01mfor\u001b[39;00m i \u001b[38;5;129;01min\u001b[39;00m numba\u001b[38;5;241m.\u001b[39mprange(\u001b[38;5;28mlen\u001b[39m(dist_mGrid)):\n\u001b[0;32m     48\u001b[0m         mNext_ij \u001b[38;5;241m=\u001b[39m (\n\u001b[1;32m---> 49\u001b[0m             \u001b[43mbNext\u001b[49m\u001b[43m[\u001b[49m\u001b[43mMrkv\u001b[49m\u001b[43m]\u001b[49m\u001b[43m[\u001b[49m\u001b[43mi\u001b[49m\u001b[43m]\u001b[49m \u001b[38;5;241m/\u001b[39m perm_shks[Mrkv] \u001b[38;5;241m+\u001b[39m tran_shks[Mrkv]\n\u001b[0;32m     50\u001b[0m         )  \u001b[38;5;66;03m# Compute next period's market resources given todays bank balances bnext[i]\u001b[39;00m\n\u001b[0;32m     52\u001b[0m         TranMatrix_aux \u001b[38;5;241m+\u001b[39m\u001b[38;5;241m=\u001b[39m (\n\u001b[0;32m     53\u001b[0m             LivPrb \u001b[38;5;241m*\u001b[39m jump_to_grid_1D(mNext_ij, shk_prbs, dist_mGrid)\n\u001b[0;32m     54\u001b[0m             \u001b[38;5;241m+\u001b[39m (\u001b[38;5;241m1.0\u001b[39m \u001b[38;5;241m-\u001b[39m LivPrb) \u001b[38;5;241m*\u001b[39m NewBornDist) \u001b[38;5;66;03m# Given state of the Markov Process\u001b[39;00m\n\u001b[0;32m     55\u001b[0m     TranMatrix_states\u001b[38;5;241m.\u001b[39mappend(TranMatrix_aux)\n",
      "\u001b[1;31mIndexError\u001b[0m: invalid index to scalar variable."
     ]
    }
   ],
   "source": [
    "# Compute Transition Matrix given shocks and grids.\n",
    "TranMatrix_M = gen_tran_matrix_1D_Markov(\n",
    "    dist_mGrid,\n",
    "    MrkvPrbs,\n",
    "    bNext,\n",
    "    shk_prbs,\n",
    "    perm_shks,\n",
    "    tran_shks,\n",
    "    LivPrb,\n",
    "    NewBornDist,\n",
    ")"
   ]
  },
  {
   "cell_type": "code",
   "execution_count": null,
   "metadata": {},
   "outputs": [],
   "source": []
  },
  {
   "cell_type": "code",
   "execution_count": null,
   "metadata": {},
   "outputs": [],
   "source": []
  },
  {
   "cell_type": "code",
   "execution_count": null,
   "metadata": {},
   "outputs": [],
   "source": []
  },
  {
   "cell_type": "code",
   "execution_count": null,
   "metadata": {},
   "outputs": [],
   "source": [
    "TwoSectorExampleHANK.MrkvPrbs"
   ]
  },
  {
   "cell_type": "code",
   "execution_count": null,
   "metadata": {},
   "outputs": [
    {
     "ename": "AttributeError",
     "evalue": "'TwoSectorMarkovConsumerType' object has no attribute 'MrkvPrbs'",
     "output_type": "error",
     "traceback": [
      "\u001b[1;31m---------------------------------------------------------------------------\u001b[0m",
      "\u001b[1;31mAttributeError\u001b[0m                            Traceback (most recent call last)",
      "Cell \u001b[1;32mIn[41], line 1\u001b[0m\n\u001b[1;32m----> 1\u001b[0m \u001b[43mTwoSectorExampleHANK\u001b[49m\u001b[38;5;241;43m.\u001b[39;49m\u001b[43mcalc_transition_matrix_Markov\u001b[49m\u001b[43m(\u001b[49m\u001b[43m)\u001b[49m\n",
      "File \u001b[1;32mc:\\Users\\adria\\OneDrive - Johns Hopkins\\Github\\AMonninger\\REMARK_IMF_latest\\code\\python\\TwoSectorModel_HANK.py:413\u001b[0m, in \u001b[0;36mTwoSectorMarkovConsumerType.calc_transition_matrix_Markov\u001b[1;34m(self, shk_dstn)\u001b[0m\n\u001b[0;32m    410\u001b[0m dist_mGrid \u001b[38;5;241m=\u001b[39m \u001b[38;5;28mself\u001b[39m\u001b[38;5;241m.\u001b[39mdist_mGrid  \u001b[38;5;66;03m# Grid of market resources\u001b[39;00m\n\u001b[0;32m    411\u001b[0m dist_pGrid \u001b[38;5;241m=\u001b[39m \u001b[38;5;28mself\u001b[39m\u001b[38;5;241m.\u001b[39mdist_pGrid  \u001b[38;5;66;03m# Grid of permanent incomes\u001b[39;00m\n\u001b[1;32m--> 413\u001b[0m MrkvPrbs \u001b[38;5;241m=\u001b[39m \u001b[38;5;28;43mself\u001b[39;49m\u001b[38;5;241;43m.\u001b[39;49m\u001b[43mMrkvPrbs\u001b[49m  \u001b[38;5;66;03m# Initial Markov State Probabilities\u001b[39;00m\n\u001b[0;32m    415\u001b[0m \u001b[38;5;66;03m# Loop over Markov States\u001b[39;00m\n\u001b[0;32m    416\u001b[0m \u001b[38;5;28mself\u001b[39m\u001b[38;5;241m.\u001b[39mcPol_Grid \u001b[38;5;241m=\u001b[39m []  \u001b[38;5;66;03m# List of consumption policy grids for each period in T_cycle\u001b[39;00m\n",
      "\u001b[1;31mAttributeError\u001b[0m: 'TwoSectorMarkovConsumerType' object has no attribute 'MrkvPrbs'"
     ]
    }
   ],
   "source": [
    "TwoSectorExampleHANK.calc_transition_matrix_Markov()"
   ]
  }
 ],
 "metadata": {
  "kernelspec": {
   "display_name": "python390",
   "language": "python",
   "name": "python3"
  },
  "language_info": {
   "codemirror_mode": {
    "name": "ipython",
    "version": 3
   },
   "file_extension": ".py",
   "mimetype": "text/x-python",
   "name": "python",
   "nbconvert_exporter": "python",
   "pygments_lexer": "ipython3",
   "version": "3.9.0"
  }
 },
 "nbformat": 4,
 "nbformat_minor": 2
}
