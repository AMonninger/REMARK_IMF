{
 "cells": [
  {
   "cell_type": "markdown",
   "metadata": {},
   "source": [
    "# Experiment 1: HANK with different borrowing constraints\n",
    "How much agents can smooth their consumption after a shock occurs depends on how much they are allowed to borrow.\n",
    "\n",
    "In this notebook, we differentiate between a HANK model with\n",
    "- One household type which cannot borrow\n",
    "- One household type which can borrow\n",
    "- Two household types where one can borrow and one cannot\n",
    "\n",
    "### Assume same discount factor"
   ]
  },
  {
   "cell_type": "code",
   "execution_count": 40,
   "metadata": {},
   "outputs": [],
   "source": [
    "from ConsIndShockModel_HANK_Borrowing import IndShockConsumerType \n",
    "import sequence_jacobian as sj  # SSJ will allow us to define blocks, models, compute IRFs, etc\n",
    "from sequence_jacobian.classes import JacobianDict, SteadyStateDict\n",
    "from sequence_jacobian import het, simple, create_model              # functions\n",
    "import matplotlib.pyplot as plt\n",
    "import numpy as np\n",
    "import time\n",
    "\n",
    "from scipy import optimize"
   ]
  },
  {
   "cell_type": "markdown",
   "metadata": {},
   "source": [
    "### Test: With Borrowing Constraint?!"
   ]
  },
  {
   "cell_type": "code",
   "execution_count": 41,
   "metadata": {},
   "outputs": [],
   "source": [
    "r_ss = 1.03 - 1\n",
    "Z_ss = 0.7925"
   ]
  },
  {
   "cell_type": "code",
   "execution_count": 42,
   "metadata": {},
   "outputs": [],
   "source": [
    "HANK_Borrowing_Dict = {\n",
    "    # Parameters shared with the perfect foresight model\n",
    "    \"Rfree\": 1.0 + r_ss,                    # Interest factor on assets\n",
    "    \"LivPrb\" : [.99375],                   # Survival probability\n",
    "\n",
    "    # Parameters that specify the income distribution over the lifecycle\n",
    "    \"PermShkStd\" : [.06],                  # Standard deviation of log permanent shocks to income\n",
    "    \"PermShkCount\" : 5,                    # Number of points in discrete approximation to permanent income shocks\n",
    "    \"TranShkStd\" : [0.2],                  # Standard deviation of log transitory shocks to income\n",
    "    \"TranShkCount\" : 5,    \n",
    "    \n",
    "    # HANK params\n",
    "    \"taxrate\" : [0.0], # set to 0.0 because we are going to assume that labor here is actually after tax income\n",
    "    \"labor\": [Z_ss],\n",
    "    \"wage\": [1.0],    \n",
    "    \n",
    "    # Number of points in discrete approximation to transitory income shocks\n",
    "    \"UnempPrb\" : 0.05,                      # Probability of unemployment while working\n",
    "    \"IncUnemp\" :  0.0,                     # Unemployment benefits replacement rate\n",
    "  \n",
    "    # Parameters for constructing the \"assets above minimum\" grid\n",
    "    \"aXtraMax\" : 500,                      # Maximum end-of-period \"assets above minimum\" value\n",
    "    \"aXtraCount\" : 100,                     # Number of points in the base grid of \"assets above minimum\"\n",
    "    \"BoroCnstArt\": 0.0,                   # Allowing for borrowing (Will use natural borrowing constraint)\n",
    "    \n",
    "    # Transition Matrix simulation parameters\n",
    "    \"mCount\": 200,\n",
    "    \"mMax\": 500,\n",
    "    \"mMin\": 1e-5,\n",
    "    \"mFac\": 3,\n",
    "\n",
    "    # Hank model bool\n",
    "    \"HANK\":True,     \n",
    "}\n",
    "\n",
    "# to add taxes, labor, and wage. This ensures that we can shock each variable.\n",
    "def function(taxrate, labor, wage):\n",
    "    \n",
    "    z = (1- taxrate)*labor*wage\n",
    "    return z\n",
    "\n",
    "HANK_Borrowing_Dict['TranShkMean_Func'] = [function]"
   ]
  },
  {
   "cell_type": "code",
   "execution_count": 43,
   "metadata": {},
   "outputs": [],
   "source": [
    "Agent_GE_Borrowing = IndShockConsumerType(**HANK_Borrowing_Dict)"
   ]
  },
  {
   "cell_type": "code",
   "execution_count": 44,
   "metadata": {},
   "outputs": [],
   "source": [
    "Agent_GE_Borrowing.solve()"
   ]
  },
  {
   "cell_type": "code",
   "execution_count": 45,
   "metadata": {},
   "outputs": [],
   "source": [
    "### Steady State\n",
    "HANK_Borrowing_Dict['mMin'] = Agent_GE_Borrowing.solution[0].mNrmMin\n",
    "Agent_GE_Borrowing.mMin = HANK_Borrowing_Dict['mMin'] + 0.001\n",
    "\n",
    "Agent_GE_Borrowing.define_distribution_grid()\n",
    "\n",
    "dist_mGrid = Agent_GE_Borrowing.dist_mGrid\n",
    "\n"
   ]
  },
  {
   "cell_type": "code",
   "execution_count": 46,
   "metadata": {},
   "outputs": [],
   "source": [
    "Agent_GE_Borrowing.calc_transition_matrix()"
   ]
  },
  {
   "cell_type": "code",
   "execution_count": 47,
   "metadata": {},
   "outputs": [
    {
     "data": {
      "text/plain": [
       "[array([[0.0491329 , 0.00171449, 0.        , ..., 0.        , 0.        ,\n",
       "         0.        ],\n",
       "        [0.0005546 , 0.04737206, 0.00176084, ..., 0.        , 0.        ,\n",
       "         0.        ],\n",
       "        [0.        , 0.00060096, 0.04727659, ..., 0.        , 0.        ,\n",
       "         0.        ],\n",
       "        ...,\n",
       "        [0.        , 0.        , 0.        , ..., 0.        , 0.        ,\n",
       "         0.        ],\n",
       "        [0.        , 0.        , 0.        , ..., 0.        , 0.        ,\n",
       "         0.        ],\n",
       "        [0.        , 0.        , 0.        , ..., 0.        , 0.        ,\n",
       "         0.        ]])]"
      ]
     },
     "execution_count": 47,
     "metadata": {},
     "output_type": "execute_result"
    }
   ],
   "source": [
    "Agent_GE_Borrowing.tran_matrix"
   ]
  },
  {
   "cell_type": "code",
   "execution_count": 48,
   "metadata": {},
   "outputs": [],
   "source": [
    "from HARK.utilities import (\n",
    "    construct_assets_grid,\n",
    "    gen_tran_matrix_1D,\n",
    "    gen_tran_matrix_2D,\n",
    "    jump_to_grid_1D,\n",
    ")"
   ]
  },
  {
   "cell_type": "code",
   "execution_count": 49,
   "metadata": {},
   "outputs": [],
   "source": [
    "dist_mGrid = Agent_GE_Borrowing.dist_mGrid  # Grid of market resources\n",
    "dist_pGrid = Agent_GE_Borrowing.dist_pGrid  # Grid of permanent incomes\n",
    "# assets next period\n",
    "aNext = dist_mGrid - Agent_GE_Borrowing.solution[0].cFunc(dist_mGrid)\n",
    "\n",
    "Agent_GE_Borrowing.aPol_Grid = aNext  # Steady State Asset Policy Grid\n",
    "# Steady State Consumption Policy Grid\n",
    "Agent_GE_Borrowing.cPol_Grid = Agent_GE_Borrowing.solution[0].cFunc(dist_mGrid)\n",
    "\n",
    "# Obtain shock values and shock probabilities from income distribution\n",
    "# Bank Balances next period (Interest rate * assets)\n",
    "bNext = Agent_GE_Borrowing.Rfree * aNext"
   ]
  },
  {
   "cell_type": "code",
   "execution_count": 50,
   "metadata": {},
   "outputs": [],
   "source": [
    "### To calculate tranistion matrix\n",
    "shk_dstn = Agent_GE_Borrowing.IncShkDstn     \n",
    "\n",
    "shk_prbs = shk_dstn[0].pmv  # Probability of shocks\n",
    "tran_shks = shk_dstn[0].atoms[1]  # Transitory shocks\n",
    "perm_shks = shk_dstn[0].atoms[0]  # Permanent shocks\n",
    "LivPrb = Agent_GE_Borrowing.LivPrb[0]  # Update probability of staying alive\n",
    "\n",
    "\n",
    "NewBornDist = jump_to_grid_1D(\n",
    "    np.zeros_like(tran_shks),\n",
    "    shk_prbs,\n",
    "    dist_mGrid,)\n",
    "\n",
    "\n",
    "# Compute Transition Matrix given shocks and grids.\n",
    "tran_matrix = gen_tran_matrix_1D(\n",
    "    dist_mGrid,\n",
    "    bNext,\n",
    "    shk_prbs,\n",
    "    perm_shks,\n",
    "    tran_shks,\n",
    "    LivPrb,\n",
    "    NewBornDist,\n",
    ")"
   ]
  },
  {
   "cell_type": "code",
   "execution_count": 51,
   "metadata": {},
   "outputs": [
    {
     "data": {
      "text/plain": [
       "array([1., 0., 0., 0., 0., 0., 0., 0., 0., 0., 0., 0., 0., 0., 0., 0., 0.,\n",
       "       0., 0., 0., 0., 0., 0., 0., 0., 0., 0., 0., 0., 0., 0., 0., 0., 0.,\n",
       "       0., 0., 0., 0., 0., 0., 0., 0., 0., 0., 0., 0., 0., 0., 0., 0., 0.,\n",
       "       0., 0., 0., 0., 0., 0., 0., 0., 0., 0., 0., 0., 0., 0., 0., 0., 0.,\n",
       "       0., 0., 0., 0., 0., 0., 0., 0., 0., 0., 0., 0., 0., 0., 0., 0., 0.,\n",
       "       0., 0., 0., 0., 0., 0., 0., 0., 0., 0., 0., 0., 0., 0., 0., 0., 0.,\n",
       "       0., 0., 0., 0., 0., 0., 0., 0., 0., 0., 0., 0., 0., 0., 0., 0., 0.,\n",
       "       0., 0., 0., 0., 0., 0., 0., 0., 0., 0., 0., 0., 0., 0., 0., 0., 0.,\n",
       "       0., 0., 0., 0., 0., 0., 0., 0., 0., 0., 0., 0., 0., 0., 0., 0., 0.,\n",
       "       0., 0., 0., 0., 0., 0., 0., 0., 0., 0., 0., 0., 0., 0., 0., 0., 0.,\n",
       "       0., 0., 0., 0., 0., 0., 0., 0., 0., 0., 0., 0., 0., 0., 0., 0., 0.,\n",
       "       0., 0., 0., 0., 0., 0., 0., 0., 0., 0., 0., 0., 0.])"
      ]
     },
     "execution_count": 51,
     "metadata": {},
     "output_type": "execute_result"
    }
   ],
   "source": [
    "NewBornDist"
   ]
  },
  {
   "cell_type": "code",
   "execution_count": 52,
   "metadata": {},
   "outputs": [
    {
     "data": {
      "text/plain": [
       "0.00199999999999989"
      ]
     },
     "execution_count": 52,
     "metadata": {},
     "output_type": "execute_result"
    }
   ],
   "source": [
    "dist_mGrid[0]"
   ]
  },
  {
   "cell_type": "code",
   "execution_count": 53,
   "metadata": {},
   "outputs": [
    {
     "data": {
      "text/plain": [
       "0.005000000000000002"
      ]
     },
     "execution_count": 53,
     "metadata": {},
     "output_type": "execute_result"
    }
   ],
   "source": [
    "np.mean(NewBornDist)"
   ]
  },
  {
   "cell_type": "code",
   "execution_count": 54,
   "metadata": {},
   "outputs": [
    {
     "data": {
      "text/plain": [
       "0.004999999999999999"
      ]
     },
     "execution_count": 54,
     "metadata": {},
     "output_type": "execute_result"
    }
   ],
   "source": [
    "np.mean(tran_matrix)"
   ]
  },
  {
   "cell_type": "code",
   "execution_count": 55,
   "metadata": {},
   "outputs": [],
   "source": [
    "# Agent_GE_Borrowing.vec_erg_dstn"
   ]
  },
  {
   "cell_type": "code",
   "execution_count": 56,
   "metadata": {},
   "outputs": [],
   "source": [
    "Agent_GE_Borrowing.T_sim = 1000\n",
    "Agent_GE_Borrowing.AgentCount = 10000\n",
    "Agent_GE_Borrowing.track_vars = ['mNrm', 'cNrm', 'aNrm', 'pLvl', 'aLvl']"
   ]
  },
  {
   "cell_type": "code",
   "execution_count": 57,
   "metadata": {},
   "outputs": [],
   "source": [
    "Agent_GE_Borrowing.initialize_sim()"
   ]
  },
  {
   "cell_type": "code",
   "execution_count": 58,
   "metadata": {},
   "outputs": [
    {
     "data": {
      "text/plain": [
       "{'mNrm': array([[1.37574077, 2.10541542, 1.46702615, ..., 1.69060126, 1.16511383,\n",
       "         2.8109848 ],\n",
       "        [1.25893363, 1.67520429, 1.15312474, ..., 1.26651779, 1.18327565,\n",
       "         1.82628537],\n",
       "        [1.09767445, 1.25948255, 1.3559932 , ..., 1.08250325, 1.38134527,\n",
       "         1.50375513],\n",
       "        ...,\n",
       "        [0.84687346, 0.25082479, 1.33458101, ..., 0.86581012, 1.08029907,\n",
       "         1.39447457],\n",
       "        [1.10583605, 0.04272293, 0.35161905, ..., 0.94813876, 0.87868012,\n",
       "         1.20540239],\n",
       "        [1.1769476 , 0.62904471, 0.89039225, ..., 1.03947684, 1.10316075,\n",
       "         1.07530614]]),\n",
       " 'cNrm': array([[1.00411516, 1.41648041, 1.05831871, ..., 1.18721586, 0.87406425,\n",
       "         1.7920382 ],\n",
       "        [0.93294197, 1.17848916, 0.86644113, ..., 0.93760072, 0.88561222,\n",
       "         1.26332394],\n",
       "        [0.83075996, 0.93327916, 0.99217595, ..., 0.82093406, 1.007481  ,\n",
       "         1.07989417],\n",
       "        ...,\n",
       "        [0.66118803, 0.20532471, 0.97923032, ..., 0.67444802, 0.81950649,\n",
       "         1.01530142],\n",
       "        [0.83604596, 0.03514359, 0.28647818, ..., 0.7313829 , 0.68345996,\n",
       "         0.89954931],\n",
       "        [0.88158861, 0.50229429, 0.69166113, ..., 0.79263825, 0.83431325,\n",
       "         0.81627273]]),\n",
       " 'aNrm': array([[0.37162561, 0.68893501, 0.40870743, ..., 0.5033854 , 0.29104958,\n",
       "         1.0189466 ],\n",
       "        [0.32599166, 0.49671513, 0.2866836 , ..., 0.32891708, 0.29766343,\n",
       "         0.56296144],\n",
       "        [0.2669145 , 0.3262034 , 0.36381725, ..., 0.26156919, 0.37386427,\n",
       "         0.42386096],\n",
       "        ...,\n",
       "        [0.18568543, 0.04550009, 0.35535068, ..., 0.1913621 , 0.26079259,\n",
       "         0.37917315],\n",
       "        [0.26979009, 0.00757934, 0.06514088, ..., 0.21675586, 0.19522016,\n",
       "         0.30585309],\n",
       "        [0.29535899, 0.12675042, 0.19873113, ..., 0.2468386 , 0.2688475 ,\n",
       "         0.25903342]]),\n",
       " 'pLvl': array([[1.04093109, 1.04093109, 0.97656612, ..., 1.09695394, 1.09695394,\n",
       "         1.00822213],\n",
       "        [1.14185346, 0.96528321, 0.98459558, ..., 1.07124806, 1.20330795,\n",
       "         1.04948976],\n",
       "        [1.05887122, 0.94266288, 1.080056  , ..., 1.04614456, 1.25256065,\n",
       "         1.02489614],\n",
       "        ...,\n",
       "        [1.68334351, 1.24136747, 2.03809927, ..., 1.53179967, 0.95225149,\n",
       "         1.77162787],\n",
       "        [1.64389624, 1.36172294, 2.12152089, ..., 1.42047877, 0.99122818,\n",
       "         1.78619442],\n",
       "        [1.7111827 , 1.26276207, 1.96734301, ..., 1.43215813, 1.03180022,\n",
       "         1.65638582]]),\n",
       " 'aLvl': array([[0.38683665, 0.71713387, 0.39912983, ..., 0.5521906 , 0.31926798,\n",
       "         1.02732451],\n",
       "        [0.3722347 , 0.47947078, 0.28226741, ..., 0.35235178, 0.35818077,\n",
       "         0.59082226],\n",
       "        [0.28262808, 0.30749983, 0.392943  , ..., 0.27363918, 0.46828768,\n",
       "         0.43441346],\n",
       "        ...,\n",
       "        [0.31257236, 0.05648233, 0.72423997, ..., 0.29312841, 0.24834013,\n",
       "         0.67175372],\n",
       "        [0.44350692, 0.01032096, 0.13819773, ..., 0.3078971 , 0.19350773,\n",
       "         0.54631308],\n",
       "        [0.5054132 , 0.16005562, 0.39097229, ..., 0.3535119 , 0.27739691,\n",
       "         0.42905928]])}"
      ]
     },
     "execution_count": 58,
     "metadata": {},
     "output_type": "execute_result"
    }
   ],
   "source": [
    "Agent_GE_Borrowing.simulate()"
   ]
  },
  {
   "cell_type": "code",
   "execution_count": 59,
   "metadata": {},
   "outputs": [
    {
     "data": {
      "text/plain": [
       "36.77313490274725"
      ]
     },
     "execution_count": 59,
     "metadata": {},
     "output_type": "execute_result"
    }
   ],
   "source": [
    "np.mean(Agent_GE_Borrowing.state_now[\"aLvl\"])"
   ]
  },
  {
   "cell_type": "code",
   "execution_count": 60,
   "metadata": {},
   "outputs": [
    {
     "name": "stderr",
     "output_type": "stream",
     "text": [
      "GPFRaw                 = 0.984539 \n",
      "GPFNrm                 = 0.987723 \n",
      "GPFAggLivPrb           = 0.978385 \n",
      "Thorn = APF            = 0.994384 \n",
      "PermGroFacAdj          = 1.006745 \n",
      "uInvEpShkuInv          = 0.996777 \n",
      "VAF                    = 0.950925 \n",
      "WRPF                   = 0.215199 \n",
      "DiscFacGPFNrmMax       = 0.984014 \n",
      "DiscFacGPFAggLivPrbMax = 0.996617 \n"
     ]
    },
    {
     "data": {
      "text/plain": [
       "(1.027088634991903, 0.8117671641222298)"
      ]
     },
     "execution_count": 60,
     "metadata": {},
     "output_type": "execute_result"
    }
   ],
   "source": [
    "Agent_GE_Borrowing.compute_steady_state()"
   ]
  },
  {
   "cell_type": "code",
   "execution_count": null,
   "metadata": {},
   "outputs": [],
   "source": []
  },
  {
   "cell_type": "markdown",
   "metadata": {},
   "source": [
    "### Test: No Borrowing Constraint end"
   ]
  },
  {
   "cell_type": "code",
   "execution_count": 61,
   "metadata": {},
   "outputs": [
    {
     "ename": "NameError",
     "evalue": "name 'stop' is not defined",
     "output_type": "error",
     "traceback": [
      "\u001b[1;31m---------------------------------------------------------------------------\u001b[0m",
      "\u001b[1;31mNameError\u001b[0m                                 Traceback (most recent call last)",
      "Cell \u001b[1;32mIn[61], line 1\u001b[0m\n\u001b[1;32m----> 1\u001b[0m \u001b[43mstop\u001b[49m\n",
      "\u001b[1;31mNameError\u001b[0m: name 'stop' is not defined"
     ]
    }
   ],
   "source": [
    "stop"
   ]
  },
  {
   "cell_type": "code",
   "execution_count": null,
   "metadata": {},
   "outputs": [],
   "source": [
    "def show_irfs(irfs_list, variables, labels=[\" \"], ylabel=r\"Percentage points (dev. from ss)\", T_plot=50, figsize=(18, 6)):\n",
    "    if len(irfs_list) != len(labels):\n",
    "        labels = [\" \"] * len(irfs_list)\n",
    "    n_var = len(variables)\n",
    "    fig, ax = plt.subplots(1, n_var, figsize=figsize, sharex=True)\n",
    "    for i in range(n_var):\n",
    "        # plot all irfs\n",
    "        for j, irf in enumerate(irfs_list):\n",
    "            ax[i].plot(100 * irf[variables[i]][:50], label=labels[j])\n",
    "        ax[i].set_title(variables[i])\n",
    "        ax[i].set_xlabel(r\"$t$\")\n",
    "        if i==0:\n",
    "            ax[i].set_ylabel(ylabel)\n",
    "        ax[i].legend()\n",
    "    plt.show()"
   ]
  },
  {
   "cell_type": "code",
   "execution_count": null,
   "metadata": {},
   "outputs": [
    {
     "name": "stdout",
     "output_type": "stream",
     "text": [
      "T_ss: 0.20750000000000002\n",
      "Z_ss: 0.7925\n",
      "C_ss: 0.8\n"
     ]
    }
   ],
   "source": [
    "# Defining steady state values of the economy\n",
    "def fiscal_ss(B, r, G): \n",
    "    T = (1 + r) * B + G - B    \n",
    "    return T\n",
    "\n",
    "r_ss = 1.03 - 1\n",
    "G_ss = .2\n",
    "B_ss = 0.25 # this is lower than the tutorial by Straub et al. because need Higher MPC\n",
    "Y_ss = 1.0\n",
    "\n",
    "T_ss = fiscal_ss(B_ss,r_ss,G_ss)\n",
    "print('T_ss: ' +str(T_ss))\n",
    "\n",
    "Z_ss = Y_ss - T_ss\n",
    "C_ss = Y_ss - G_ss\n",
    "\n",
    "print('Z_ss: ' +str(Z_ss))\n",
    "print('C_ss: ' +str(Y_ss - G_ss))\n",
    "\n",
    "T = 300 # Dimention of TxT Jacobian matrix"
   ]
  },
  {
   "cell_type": "code",
   "execution_count": null,
   "metadata": {},
   "outputs": [],
   "source": [
    "HANK_Dict = {\n",
    "    # Parameters shared with the perfect foresight model\n",
    "    \"Rfree\": 1.0 + r_ss,                    # Interest factor on assets\n",
    "    \"LivPrb\" : [.99375],                   # Survival probability\n",
    "\n",
    "    # Parameters that specify the income distribution over the lifecycle\n",
    "    \"PermShkStd\" : [.06],                  # Standard deviation of log permanent shocks to income\n",
    "    \"PermShkCount\" : 5,                    # Number of points in discrete approximation to permanent income shocks\n",
    "    \"TranShkStd\" : [0.2],                  # Standard deviation of log transitory shocks to income\n",
    "    \"TranShkCount\" : 5,    \n",
    "    \n",
    "    # HANK params\n",
    "    \"taxrate\" : [0.0], # set to 0.0 because we are going to assume that labor here is actually after tax income\n",
    "    \"labor\": [Z_ss],\n",
    "    \"wage\": [1.0],    \n",
    "    \n",
    "    # Number of points in discrete approximation to transitory income shocks\n",
    "    \"UnempPrb\" : 0.0,                      # Probability of unemployment while working\n",
    "    \"IncUnemp\" :  0.0,                     # Unemployment benefits replacement rate\n",
    "  \n",
    "    # Parameters for constructing the \"assets above minimum\" grid\n",
    "    \"aXtraMax\" : 500,                      # Maximum end-of-period \"assets above minimum\" value\n",
    "    \"aXtraCount\" : 100,                     # Number of points in the base grid of \"assets above minimum\"\n",
    "    \"BoroCnstArt\": 0.0,                   # Allowing for borrowing (Will use natural borrowing constraint)\n",
    "    \n",
    "    # Transition Matrix simulation parameters\n",
    "    \"mCount\": 200,\n",
    "    \"mMax\": 500,\n",
    "    \"mMin\": 1e-5,\n",
    "    \"mFac\": 3,\n",
    "\n",
    "    # Hank model bool\n",
    "    \"HANK\":True,     \n",
    "}"
   ]
  },
  {
   "cell_type": "code",
   "execution_count": null,
   "metadata": {},
   "outputs": [],
   "source": [
    "# to add taxes, labor, and wage. This ensures that we can shock each variable.\n",
    "def function(taxrate, labor, wage):\n",
    "    \n",
    "    z = (1- taxrate)*labor*wage\n",
    "    return z\n",
    "\n",
    "HANK_Dict['TranShkMean_Func'] = [function]"
   ]
  },
  {
   "cell_type": "code",
   "execution_count": null,
   "metadata": {},
   "outputs": [],
   "source": [
    "### Target Steady State Asset\n",
    "def ss_func(beta):\n",
    "    HANK_Dict['DiscFac'] = beta\n",
    "    Agent_func = IndShockConsumerType(**HANK_Dict, verbose = False)\n",
    "    A_ss = Agent_func.compute_steady_state()[0]\n",
    "    return A_ss\n",
    "    \n",
    "\n",
    "def ss_dif(beta):    \n",
    "    return ss_func(beta) - Asset_target \n",
    "\n",
    "Asset_target = B_ss\n",
    "DiscFac = optimize.brentq(ss_dif,.75,.99)"
   ]
  },
  {
   "cell_type": "code",
   "execution_count": null,
   "metadata": {},
   "outputs": [
    {
     "data": {
      "text/plain": [
       "0.0"
      ]
     },
     "execution_count": 7,
     "metadata": {},
     "output_type": "execute_result"
    }
   ],
   "source": [
    "np.max([-1.0, 0.0])"
   ]
  },
  {
   "cell_type": "code",
   "execution_count": null,
   "metadata": {},
   "outputs": [],
   "source": [
    "# Create a new agent\n",
    "HANK_Dict['DiscFac'] = DiscFac\n",
    "Agent_GE = IndShockConsumerType(**HANK_Dict, verbose = False)"
   ]
  },
  {
   "cell_type": "code",
   "execution_count": null,
   "metadata": {},
   "outputs": [
    {
     "name": "stdout",
     "output_type": "stream",
     "text": [
      "Our general equilibrium agent has a discount rate of: 0.97. Where the steady state MPC is 0.27 and Bond Holdings are 0.25\n"
     ]
    }
   ],
   "source": [
    "A_ss, C_ss = Agent_GE.compute_steady_state()\n",
    "MPC = Agent_GE.calc_jacobian('labor',T)[0][0][0]\n",
    "print('Our general equilibrium agent has a discount rate of: ' + \"%.2f\" % Agent_GE.DiscFac +'. Where the steady state MPC is ' + \"%.2f\" % MPC + ' and Bond Holdings are ' + \"%.2f\" % A_ss)"
   ]
  },
  {
   "cell_type": "code",
   "execution_count": null,
   "metadata": {},
   "outputs": [
    {
     "name": "stdout",
     "output_type": "stream",
     "text": [
      "Seconds to calculate Jacobian 20.966347217559814\n"
     ]
    }
   ],
   "source": [
    "start = time.time()\n",
    "\n",
    "CJACR, AJACR = Agent_GE.calc_jacobian('Rfree',T)\n",
    "CJACZ, AJACZ = Agent_GE.calc_jacobian('labor', T)\n",
    "\n",
    "print('Seconds to calculate Jacobian', time.time() - start)"
   ]
  },
  {
   "cell_type": "markdown",
   "metadata": {},
   "source": [
    "### Allow for borrowing"
   ]
  },
  {
   "cell_type": "code",
   "execution_count": null,
   "metadata": {},
   "outputs": [],
   "source": [
    "HANK_Borrowing_Dict = {\n",
    "    # Parameters shared with the perfect foresight model\n",
    "    \"Rfree\": 1.0 + r_ss,                    # Interest factor on assets\n",
    "    \"LivPrb\" : [.99375],                   # Survival probability\n",
    "\n",
    "    # Parameters that specify the income distribution over the lifecycle\n",
    "    \"PermShkStd\" : [.06],                  # Standard deviation of log permanent shocks to income\n",
    "    \"PermShkCount\" : 5,                    # Number of points in discrete approximation to permanent income shocks\n",
    "    \"TranShkStd\" : [0.2],                  # Standard deviation of log transitory shocks to income\n",
    "    \"TranShkCount\" : 5,    \n",
    "    \n",
    "    # HANK params\n",
    "    \"taxrate\" : [0.0], # set to 0.0 because we are going to assume that labor here is actually after tax income\n",
    "    \"labor\": [Z_ss],\n",
    "    \"wage\": [1.0],    \n",
    "    \n",
    "    # Number of points in discrete approximation to transitory income shocks\n",
    "    \"UnempPrb\" : 0.0,                      # Probability of unemployment while working\n",
    "    \"IncUnemp\" :  0.0,                     # Unemployment benefits replacement rate\n",
    "  \n",
    "    # Parameters for constructing the \"assets above minimum\" grid\n",
    "    \"aXtraMax\" : 500,                      # Maximum end-of-period \"assets above minimum\" value\n",
    "    \"aXtraCount\" : 100,                     # Number of points in the base grid of \"assets above minimum\"\n",
    "    \"BoroCnstArt\": -10.0,                   # Allowing for borrowing (Will use natural borrowing constraint)\n",
    "    \n",
    "    # Transition Matrix simulation parameters\n",
    "    \"mCount\": 200,\n",
    "    \"mMax\": 500,\n",
    "    \"mMin\": 1e-5,\n",
    "    \"mFac\": 3,\n",
    "\n",
    "    # Hank model bool\n",
    "    \"HANK\":True,     \n",
    "}\n",
    "\n",
    "HANK_Borrowing_Dict['TranShkMean_Func'] = [function]"
   ]
  },
  {
   "cell_type": "code",
   "execution_count": null,
   "metadata": {},
   "outputs": [],
   "source": [
    "# ### Target Steady State Asset\n",
    "# def ss_func(beta):\n",
    "#     HANK_Borrowing_Dict['DiscFac'] = beta\n",
    "#     Agent_func = IndShockConsumerType(**HANK_Borrowing_Dict, verbose = False)\n",
    "#     Agent_func.solve()\n",
    "#     HANK_Borrowing_Dict['mMin'] = Agent_func.solution[0].mNrmMin\n",
    "#     Agent_func = IndShockConsumerType(**HANK_Borrowing_Dict, verbose = False)\n",
    "#     A_ss = Agent_func.compute_steady_state()[0]\n",
    "#     return A_ss\n",
    "    \n",
    "\n",
    "# def ss_dif(beta):    \n",
    "#     return ss_func(beta) - Asset_target \n",
    "\n",
    "# Asset_target = B_ss\n",
    "# DiscFac = optimize.brentq(ss_dif,.75,.99)"
   ]
  },
  {
   "cell_type": "code",
   "execution_count": null,
   "metadata": {},
   "outputs": [],
   "source": [
    "# Create a new agent\n",
    "HANK_Borrowing_Dict['DiscFac'] = HANK_Dict['DiscFac']\n",
    "Agent_GE_Borrowing = IndShockConsumerType(**HANK_Borrowing_Dict, verbose = False)"
   ]
  },
  {
   "cell_type": "code",
   "execution_count": null,
   "metadata": {},
   "outputs": [],
   "source": [
    "Agent_GE_Borrowing.solve()"
   ]
  },
  {
   "cell_type": "code",
   "execution_count": null,
   "metadata": {},
   "outputs": [
    {
     "data": {
      "text/plain": [
       "-0.5308224130116708"
      ]
     },
     "execution_count": 37,
     "metadata": {},
     "output_type": "execute_result"
    }
   ],
   "source": [
    "Agent_GE_Borrowing.solution[0].mNrmMin\n"
   ]
  },
  {
   "cell_type": "code",
   "execution_count": null,
   "metadata": {},
   "outputs": [],
   "source": [
    "HANK_Borrowing_Dict['mMin'] = Agent_GE_Borrowing.solution[0].mNrmMin\n",
    "Agent_GE_Borrowing.mMin = HANK_Borrowing_Dict['mMin'] + 0.001\n",
    "\n",
    "Agent_GE_Borrowing.define_distribution_grid()\n",
    "\n",
    "dist_mGrid = Agent_GE_Borrowing.dist_mGrid\n",
    "\n",
    "Agent_GE_Borrowing.compute_steady_state()"
   ]
  },
  {
   "cell_type": "code",
   "execution_count": null,
   "metadata": {},
   "outputs": [],
   "source": [
    "Agent_GE_Borrowing.define_distribution_grid()"
   ]
  },
  {
   "cell_type": "code",
   "execution_count": null,
   "metadata": {},
   "outputs": [],
   "source": [
    "dist_mGrid = Agent_GE_Borrowing.dist_mGrid"
   ]
  },
  {
   "cell_type": "code",
   "execution_count": null,
   "metadata": {},
   "outputs": [
    {
     "data": {
      "text/plain": [
       "-0.5298224130116708"
      ]
     },
     "execution_count": 41,
     "metadata": {},
     "output_type": "execute_result"
    }
   ],
   "source": [
    "dist_mGrid[0]"
   ]
  },
  {
   "cell_type": "code",
   "execution_count": null,
   "metadata": {},
   "outputs": [
    {
     "data": {
      "text/plain": [
       "[<matplotlib.lines.Line2D at 0x294bb26dc10>]"
      ]
     },
     "execution_count": 42,
     "metadata": {},
     "output_type": "execute_result"
    },
    {
     "data": {
      "image/png": "[encoded data removed]",
      "text/plain": [
       "<Figure size 640x480 with 1 Axes>"
      ]
     },
     "metadata": {},
     "output_type": "display_data"
    }
   ],
   "source": [
    "plt.plot(dist_mGrid, Agent_GE_Borrowing.solution[0].cFunc(dist_mGrid))"
   ]
  },
  {
   "cell_type": "code",
   "execution_count": null,
   "metadata": {},
   "outputs": [
    {
     "data": {
      "text/plain": [
       "array([8.38035921e-04, 5.46377284e-03, 1.00838898e-02, 1.47814597e-02,\n",
       "       1.95582235e-02, 2.44159713e-02, 2.93565440e-02, 3.43818351e-02,\n",
       "       3.94937925e-02, 4.46944204e-02, 4.99857808e-02, 5.53699963e-02,\n",
       "       6.06295590e-02, 6.58773936e-02, 7.12189621e-02, 7.66565090e-02,\n",
       "       8.21923463e-02, 8.78288558e-02, 9.35684917e-02, 9.92546944e-02,\n",
       "       1.04840768e-01, 1.10530942e-01, 1.16327818e-01, 1.22234076e-01,\n",
       "       1.28252482e-01, 1.34089684e-01, 1.40017681e-01, 1.46060402e-01,\n",
       "       1.52220823e-01, 1.58402977e-01, 1.64541714e-01, 1.70802374e-01,\n",
       "       1.77188198e-01, 1.83614295e-01, 1.90037635e-01, 1.96591981e-01,\n",
       "       2.03280906e-01, 2.09954708e-01, 2.16732728e-01, 2.23652794e-01,\n",
       "       2.30635341e-01, 2.37687034e-01, 2.44889615e-01, 2.52186178e-01,\n",
       "       2.59559221e-01, 2.67093405e-01, 2.74727982e-01, 2.82469804e-01,\n",
       "       2.90384517e-01, 2.98392325e-01, 3.06551674e-01, 3.14888590e-01,\n",
       "       3.23321423e-01, 3.31949643e-01, 3.40729127e-01, 3.49669393e-01,\n",
       "       3.58816808e-01, 3.68098835e-01, 3.77604251e-01, 3.87286266e-01,\n",
       "       3.97176512e-01, 4.07285373e-01, 4.17593270e-01, 4.28155037e-01,\n",
       "       4.38915037e-01, 4.49948691e-01, 4.61207944e-01, 4.72747255e-01,\n",
       "       4.84543970e-01, 4.96629314e-01, 5.09001333e-01, 5.21675956e-01,\n",
       "       5.34665000e-01, 5.47975416e-01, 5.61627310e-01, 5.75623733e-01,\n",
       "       5.89988705e-01, 6.04725511e-01, 6.19858574e-01, 6.35394810e-01,\n",
       "       6.51356214e-01, 6.67756163e-01, 6.84611927e-01, 7.01945729e-01,\n",
       "       7.19768254e-01, 7.38112610e-01, 7.56981381e-01, 7.76420335e-01,\n",
       "       7.96422729e-01, 8.17044863e-01, 8.38280756e-01, 8.60183738e-01,\n",
       "       8.82763003e-01, 9.06058319e-01, 9.30098430e-01, 9.54909264e-01,\n",
       "       9.80540067e-01, 1.00700277e+00, 1.03436095e+00, 1.06263380e+00,\n",
       "       1.09187645e+00, 1.12212985e+00, 1.15343412e+00, 1.18585401e+00,\n",
       "       1.21941839e+00, 1.25420414e+00, 1.29025808e+00, 1.32764258e+00,\n",
       "       1.36643252e+00, 1.40667650e+00, 1.44846852e+00, 1.49187449e+00,\n",
       "       1.53697791e+00, 1.58387517e+00, 1.63263921e+00, 1.68338755e+00,\n",
       "       1.73621648e+00, 1.79123427e+00, 1.84856977e+00, 1.90833378e+00,\n",
       "       1.97067230e+00, 2.03572755e+00, 2.10364189e+00, 2.17459190e+00,\n",
       "       2.24874186e+00, 2.32627994e+00, 2.40741201e+00, 2.49233648e+00,\n",
       "       2.58129415e+00, 2.67452734e+00, 2.77228940e+00, 2.87487371e+00,\n",
       "       2.98257435e+00, 3.09571687e+00, 3.21465756e+00, 3.33976069e+00,\n",
       "       3.47144063e+00, 3.61013534e+00, 3.75630507e+00, 3.91047169e+00,\n",
       "       4.07318021e+00, 4.24502295e+00, 4.42665290e+00, 4.61876004e+00,\n",
       "       4.82210655e+00, 5.03751952e+00, 5.26588129e+00, 5.50817564e+00,\n",
       "       5.76545938e+00, 6.03887994e+00, 6.32970595e+00, 6.63930604e+00,\n",
       "       6.96918388e+00, 7.32098991e+00, 7.69651669e+00, 8.09774789e+00,\n",
       "       8.52685361e+00, 8.98621076e+00, 9.47845348e+00, 1.00064681e+01,\n",
       "       1.05734435e+01, 1.11829079e+01, 1.18387482e+01, 1.25452837e+01,\n",
       "       1.33072958e+01, 1.41300860e+01, 1.50195627e+01, 1.59822881e+01,\n",
       "       1.70255848e+01, 1.81576291e+01, 1.93875485e+01, 2.07255803e+01,\n",
       "       2.21831907e+01, 2.37732588e+01, 2.55102776e+01, 2.74105635e+01,\n",
       "       2.94925423e+01, 3.17770345e+01, 3.42876155e+01, 3.70510348e+01,\n",
       "       4.00976782e+01, 4.34621493e+01, 4.71839099e+01, 5.13080545e+01,\n",
       "       5.58862219e+01, 6.09776465e+01, 6.66504351e+01, 7.29830413e+01,\n",
       "       8.00660384e+01, 8.80042223e+01, 9.69191028e+01, 1.06951909e+02,\n",
       "       1.18267155e+02, 1.31056944e+02, 1.45546142e+02, 1.61998618e+02,\n",
       "       1.80724807e+02, 2.02090871e+02, 2.26529868e+02, 2.54555368e+02])"
      ]
     },
     "execution_count": 43,
     "metadata": {},
     "output_type": "execute_result"
    }
   ],
   "source": [
    "Agent_GE_Borrowing.solution[0].cFunc(dist_mGrid)"
   ]
  },
  {
   "cell_type": "code",
   "execution_count": null,
   "metadata": {},
   "outputs": [
    {
     "data": {
      "text/plain": [
       "(-1.8753115247339749, 0.883525390680572)"
      ]
     },
     "execution_count": 44,
     "metadata": {},
     "output_type": "execute_result"
    }
   ],
   "source": [
    "Agent_GE_Borrowing.compute_steady_state()"
   ]
  },
  {
   "cell_type": "code",
   "execution_count": null,
   "metadata": {},
   "outputs": [
    {
     "data": {
      "text/plain": [
       "0.965554524540225"
      ]
     },
     "execution_count": 45,
     "metadata": {},
     "output_type": "execute_result"
    }
   ],
   "source": [
    "Agent_GE_Borrowing.DiscFac"
   ]
  },
  {
   "cell_type": "code",
   "execution_count": null,
   "metadata": {},
   "outputs": [
    {
     "data": {
      "text/plain": [
       "0.965554524540225"
      ]
     },
     "execution_count": 46,
     "metadata": {},
     "output_type": "execute_result"
    }
   ],
   "source": [
    "Agent_GE.compute_steady_state()\n",
    "Agent_GE.DiscFac"
   ]
  },
  {
   "cell_type": "code",
   "execution_count": null,
   "metadata": {},
   "outputs": [
    {
     "data": {
      "text/plain": [
       "[<matplotlib.lines.Line2D at 0x294bb19eeb0>]"
      ]
     },
     "execution_count": 47,
     "metadata": {},
     "output_type": "execute_result"
    },
    {
     "data": {
      "image/png": "[encoded data removed]",
      "text/plain": [
       "<Figure size 640x480 with 1 Axes>"
      ]
     },
     "metadata": {},
     "output_type": "display_data"
    }
   ],
   "source": [
    "plt.plot(dist_mGrid, Agent_GE.solution[0].cFunc(dist_mGrid))"
   ]
  },
  {
   "cell_type": "code",
   "execution_count": null,
   "metadata": {},
   "outputs": [
    {
     "data": {
      "text/plain": [
       "array([           nan,            nan,            nan,            nan,\n",
       "                  nan,            nan,            nan,            nan,\n",
       "                  nan,            nan,            nan,            nan,\n",
       "                  nan,            nan,            nan,            nan,\n",
       "                  nan,            nan,            nan,            nan,\n",
       "                  nan,            nan,            nan,            nan,\n",
       "                  nan,            nan,            nan,            nan,\n",
       "                  nan,            nan,            nan,            nan,\n",
       "                  nan,            nan,            nan,            nan,\n",
       "                  nan,            nan,            nan,            nan,\n",
       "                  nan,            nan,            nan,            nan,\n",
       "                  nan,            nan,            nan,            nan,\n",
       "                  nan,            nan,            nan,            nan,\n",
       "                  nan,            nan,            nan,            nan,\n",
       "       1.09059260e-02, 2.75419675e-02, 4.45783864e-02, 6.20280034e-02,\n",
       "       7.99041482e-02, 9.82206834e-02, 1.16992030e-01, 1.36233193e-01,\n",
       "       1.55959791e-01, 1.76188084e-01, 1.96935008e-01, 2.18218205e-01,\n",
       "       2.40056057e-01, 2.62467726e-01, 2.85473194e-01, 3.09093297e-01,\n",
       "       3.33349779e-01, 3.58265330e-01, 3.83863637e-01, 4.10169440e-01,\n",
       "       4.37208580e-01, 4.65008064e-01, 4.93596121e-01, 5.23002271e-01,\n",
       "       5.53257395e-01, 5.84393806e-01, 6.16445330e-01, 6.49447386e-01,\n",
       "       6.83437080e-01, 7.18453296e-01, 7.34784514e-01, 7.48652506e-01,\n",
       "       7.62253042e-01, 7.75752251e-01, 7.89170950e-01, 7.99924126e-01,\n",
       "       8.09847015e-01, 8.19311055e-01, 8.28492140e-01, 8.37504960e-01,\n",
       "       8.46096829e-01, 8.54310360e-01, 8.62339367e-01, 8.70243351e-01,\n",
       "       8.78049301e-01, 8.85774548e-01, 8.93381890e-01, 9.00913774e-01,\n",
       "       9.08432181e-01, 9.15954281e-01, 9.23495736e-01, 9.31046582e-01,\n",
       "       9.38592210e-01, 9.46205003e-01, 9.53898352e-01, 9.61685657e-01,\n",
       "       9.69502919e-01, 9.77429475e-01, 9.85490455e-01, 9.93699098e-01,\n",
       "       1.00197546e+00, 1.01042073e+00, 1.01905583e+00, 1.02785323e+00,\n",
       "       1.03679985e+00, 1.04598123e+00, 1.05540369e+00, 1.06498083e+00,\n",
       "       1.07484281e+00, 1.08501020e+00, 1.09535934e+00, 1.10605040e+00,\n",
       "       1.11709736e+00, 1.12838308e+00, 1.14007986e+00, 1.15217090e+00,\n",
       "       1.16459244e+00, 1.17750712e+00, 1.19083778e+00, 1.20463299e+00,\n",
       "       1.21902144e+00, 1.23382877e+00, 1.24928867e+00, 1.26536430e+00,\n",
       "       1.28204302e+00, 1.29953012e+00, 1.31761973e+00, 1.33659820e+00,\n",
       "       1.35640221e+00, 1.37708468e+00, 1.39884421e+00, 1.42148281e+00,\n",
       "       1.44539506e+00, 1.47036991e+00, 1.49671667e+00, 1.52442786e+00,\n",
       "       1.55359169e+00, 1.58446468e+00, 1.61690238e+00, 1.65143810e+00,\n",
       "       1.68770607e+00, 1.72639957e+00, 1.76727103e+00, 1.81084734e+00,\n",
       "       1.85712670e+00, 1.90646436e+00, 1.95912841e+00, 2.01529569e+00,\n",
       "       2.07553323e+00, 2.13983443e+00, 2.20910172e+00, 2.28314356e+00,\n",
       "       2.36323980e+00, 2.44902038e+00, 2.54210671e+00, 2.64220356e+00,\n",
       "       2.75105072e+00, 2.86863346e+00, 2.99676619e+00, 3.13580286e+00,\n",
       "       3.28768961e+00, 3.45322482e+00, 3.63456673e+00, 3.83305846e+00,\n",
       "       4.05118083e+00, 4.29095624e+00, 4.55534048e+00, 4.84721751e+00,\n",
       "       5.17022944e+00, 5.52837147e+00, 5.92626673e+00, 6.36936749e+00,\n",
       "       6.86369171e+00, 7.41663287e+00, 8.03618966e+00, 8.73238185e+00,\n",
       "       9.51602731e+00, 1.04007514e+01, 1.14014095e+01, 1.25366453e+01,\n",
       "       1.38271656e+01, 1.52986835e+01, 1.69805777e+01, 1.89086080e+01])"
      ]
     },
     "execution_count": 48,
     "metadata": {},
     "output_type": "execute_result"
    }
   ],
   "source": [
    "Agent_GE.solution[0].cFunc(dist_mGrid)"
   ]
  },
  {
   "cell_type": "code",
   "execution_count": null,
   "metadata": {},
   "outputs": [],
   "source": [
    "Agent_GE_Borrowing.calc_transition_matrix()\n"
   ]
  },
  {
   "cell_type": "code",
   "execution_count": null,
   "metadata": {},
   "outputs": [
    {
     "data": {
      "text/plain": [
       "0.7883240772564832"
      ]
     },
     "execution_count": 50,
     "metadata": {},
     "output_type": "execute_result"
    }
   ],
   "source": [
    "np.max(Agent_GE_Borrowing.tran_matrix)"
   ]
  },
  {
   "cell_type": "code",
   "execution_count": null,
   "metadata": {},
   "outputs": [
    {
     "data": {
      "text/plain": [
       "array([[0.00625   , 0.00625   , 0.00625   , ..., 0.00625   , 0.00625   ,\n",
       "        0.00625   ],\n",
       "       [0.        , 0.        , 0.        , ..., 0.        , 0.        ,\n",
       "        0.        ],\n",
       "       [0.        , 0.        , 0.        , ..., 0.        , 0.        ,\n",
       "        0.        ],\n",
       "       ...,\n",
       "       [0.        , 0.        , 0.        , ..., 0.5715376 , 0.2531125 ,\n",
       "        0.        ],\n",
       "       [0.        , 0.        , 0.        , ..., 0.16297033, 0.58070286,\n",
       "        0.24718082],\n",
       "       [0.        , 0.        , 0.        , ..., 0.        , 0.15993464,\n",
       "        0.74656918]])"
      ]
     },
     "execution_count": 51,
     "metadata": {},
     "output_type": "execute_result"
    }
   ],
   "source": [
    "Agent_GE.tran_matrix"
   ]
  },
  {
   "cell_type": "code",
   "execution_count": null,
   "metadata": {},
   "outputs": [],
   "source": [
    "## 'cheating' using SS values from the model without borrowing\n",
    "A_ss, C_ss = Agent_GE.compute_steady_state()"
   ]
  },
  {
   "cell_type": "code",
   "execution_count": null,
   "metadata": {},
   "outputs": [],
   "source": [
    "Agent_GE_Borrowing.A_ss = A_ss\n",
    "Agent_GE_Borrowing.C_ss = C_ss"
   ]
  },
  {
   "cell_type": "code",
   "execution_count": null,
   "metadata": {},
   "outputs": [
    {
     "data": {
      "text/plain": [
       "(array([[ 1.58478114e+03, -8.79274800e+03, -5.61857699e+03, ...,\n",
       "         -1.01603699e+02, -1.01603699e+02, -1.01603699e+02],\n",
       "        [ 1.46480383e+03,  4.74064177e+02, -8.52516893e+03, ...,\n",
       "         -1.01940884e+02, -1.01940884e+02, -1.01940884e+02],\n",
       "        [ 1.39025153e+03,  3.38211766e+02,  6.21680850e+02, ...,\n",
       "         -1.03322107e+02, -1.03322107e+02, -1.03322107e+02],\n",
       "        ...,\n",
       "        [ 1.31711396e+03, -9.09494702e-13, -4.09272616e-12, ...,\n",
       "          6.76468422e+02, -8.40198757e+03, -5.35050693e+03],\n",
       "        [ 1.31711396e+03, -9.09494702e-13, -4.09272616e-12, ...,\n",
       "          4.35466837e+02,  6.76468422e+02, -8.40198757e+03],\n",
       "        [ 1.31711396e+03, -9.09494702e-13, -4.09272616e-12, ...,\n",
       "          2.58689787e+02,  4.35466837e+02,  6.76468422e+02]]),\n",
       " array([[-1.77551287e+04,  1.40809721e+04,  1.09068011e+04, ...,\n",
       "          5.38982783e+03,  5.38982783e+03,  5.38982783e+03],\n",
       "        [-1.94612236e+04,  6.82681425e+03,  1.78643153e+04, ...,\n",
       "          5.38287252e+03,  5.38287252e+03,  5.38287252e+03],\n",
       "        [-2.05125319e+04,  4.82516826e+03,  8.90429901e+03, ...,\n",
       "          5.36230033e+03,  5.36230033e+03,  5.36230033e+03],\n",
       "        ...,\n",
       "        [-2.15397513e+04, -1.81898940e-12,  0.00000000e+00, ...,\n",
       "          9.67177742e+03,  1.95903383e+04,  1.46676562e+04],\n",
       "        [-2.15397513e+04, -1.81898940e-12,  0.00000000e+00, ...,\n",
       "          6.19022525e+03,  9.67177742e+03,  1.95903383e+04],\n",
       "        [-2.15397513e+04, -1.81898940e-12,  0.00000000e+00, ...,\n",
       "          3.66056189e+03,  6.19022525e+03,  9.67177742e+03]]))"
      ]
     },
     "execution_count": 55,
     "metadata": {},
     "output_type": "execute_result"
    }
   ],
   "source": [
    "Agent_GE_Borrowing.calc_jacobian('labor',T)"
   ]
  },
  {
   "cell_type": "code",
   "execution_count": null,
   "metadata": {},
   "outputs": [
    {
     "ename": "NameError",
     "evalue": "name 'stop' is not defined",
     "output_type": "error",
     "traceback": [
      "\u001b[1;31m---------------------------------------------------------------------------\u001b[0m",
      "\u001b[1;31mNameError\u001b[0m                                 Traceback (most recent call last)",
      "Cell \u001b[1;32mIn[27], line 1\u001b[0m\n\u001b[1;32m----> 1\u001b[0m \u001b[43mstop\u001b[49m\n",
      "\u001b[1;31mNameError\u001b[0m: name 'stop' is not defined"
     ]
    }
   ],
   "source": [
    "stop"
   ]
  },
  {
   "cell_type": "code",
   "execution_count": null,
   "metadata": {},
   "outputs": [
    {
     "name": "stdout",
     "output_type": "stream",
     "text": [
      "Our general equilibrium agent has a discount rate of: 0.97. Where the steady state MPC is 267.67 and Bond Holdings are -1.94\n"
     ]
    }
   ],
   "source": [
    "A_ss, C_ss = Agent_GE_Borrowing.compute_steady_state()\n",
    "MPC = Agent_GE_Borrowing.calc_jacobian('labor',T)[0][0][0]\n",
    "print('Our general equilibrium agent has a discount rate of: ' + \"%.2f\" % Agent_GE_Borrowing.DiscFac +'. Where the steady state MPC is ' + \"%.2f\" % MPC + ' and Bond Holdings are ' + \"%.2f\" % A_ss)"
   ]
  },
  {
   "cell_type": "code",
   "execution_count": null,
   "metadata": {},
   "outputs": [
    {
     "name": "stdout",
     "output_type": "stream",
     "text": [
      "Seconds to calculate Jacobian 8.51484203338623\n"
     ]
    }
   ],
   "source": [
    "start = time.time()\n",
    "\n",
    "CJACR_Borrowing, AJACR_Borrowing = Agent_GE_Borrowing.calc_jacobian('Rfree',T)\n",
    "CJACZ_Borrowing, AJACZ_Borrowing = Agent_GE_Borrowing.calc_jacobian('labor', T)\n",
    "\n",
    "print('Seconds to calculate Jacobian', time.time() - start)"
   ]
  },
  {
   "cell_type": "code",
   "execution_count": null,
   "metadata": {},
   "outputs": [
    {
     "data": {
      "image/png": "[encoded data removed]",
      "text/plain": [
       "<Figure size 1200x800 with 4 Axes>"
      ]
     },
     "metadata": {},
     "output_type": "display_data"
    }
   ],
   "source": [
    "fig, axs = plt.subplots(2, 2, figsize=(12, 8))\n",
    "\n",
    "# Consumption Response to Interest rate shock\n",
    "axs[0, 0].plot(CJACR.T[0])\n",
    "axs[0, 0].plot(CJACR.T[20])\n",
    "axs[0, 0].plot(CJACR.T[150])\n",
    "axs[0, 0].plot(CJACR.T[-1])\n",
    "axs[0, 0].plot(CJACR_Borrowing.T[0], '--')\n",
    "axs[0, 0].plot(CJACR_Borrowing.T[20], '--')\n",
    "axs[0, 0].plot(CJACR_Borrowing.T[150], '--')\n",
    "axs[0, 0].plot(CJACR_Borrowing.T[-1], '--')\n",
    "axs[0, 0].set_title(\"Consumption Response to Interest rate shock\")\n",
    "\n",
    "# Asset Response to Interest rate shock\n",
    "axs[0, 1].plot(AJACR.T[0])\n",
    "axs[0, 1].plot(AJACR.T[20])\n",
    "axs[0, 1].plot(AJACR.T[150])\n",
    "axs[0, 1].plot(AJACR.T[-1])\n",
    "axs[0, 1].plot(AJACR_Borrowing.T[0], '--')\n",
    "axs[0, 1].plot(AJACR_Borrowing.T[20], '--')\n",
    "axs[0, 1].plot(AJACR_Borrowing.T[150], '--')\n",
    "axs[0, 1].plot(AJACR_Borrowing.T[-1], '--')\n",
    "axs[0, 1].set_title(\"Asset Response to Interest rate shock\")\n",
    "\n",
    "# Consumption Response to Labor shock\n",
    "axs[1, 0].plot(CJACZ.T[0])\n",
    "axs[1, 0].plot(CJACZ.T[20])\n",
    "axs[1, 0].plot(CJACZ.T[150])\n",
    "axs[1, 0].plot(CJACZ.T[-1])\n",
    "axs[1, 0].plot(CJACZ_Borrowing.T[0], '--')\n",
    "axs[1, 0].plot(CJACZ_Borrowing.T[20], '--')\n",
    "axs[1, 0].plot(CJACZ_Borrowing.T[150], '--')\n",
    "axs[1, 0].plot(CJACZ_Borrowing.T[-1], '--')\n",
    "axs[1, 0].set_title(\"Consumption Response to Labor shock\")\n",
    "\n",
    "# Asset Response to Labor\n",
    "axs[1, 1].plot(AJACZ.T[0])\n",
    "axs[1, 1].plot(AJACZ.T[20])\n",
    "axs[1, 1].plot(AJACZ.T[150])\n",
    "axs[1, 1].plot(AJACZ.T[-1])\n",
    "axs[1, 1].plot(AJACZ_Borrowing.T[0], '--')\n",
    "axs[1, 1].plot(AJACZ_Borrowing.T[20], '--')\n",
    "axs[1, 1].plot(AJACZ_Borrowing.T[150], '--')\n",
    "axs[1, 1].plot(AJACZ_Borrowing.T[-1], '--')\n",
    "axs[1, 1].set_title(\"Asset Response to Labor\")\n",
    "\n",
    "plt.show()"
   ]
  }
 ],
 "metadata": {
  "kernelspec": {
   "display_name": "python390",
   "language": "python",
   "name": "python3"
  },
  "language_info": {
   "codemirror_mode": {
    "name": "ipython",
    "version": 3
   },
   "file_extension": ".py",
   "mimetype": "text/x-python",
   "name": "python",
   "nbconvert_exporter": "python",
   "pygments_lexer": "ipython3",
   "version": "3.9.0"
  }
 },
 "nbformat": 4,
 "nbformat_minor": 2
}
