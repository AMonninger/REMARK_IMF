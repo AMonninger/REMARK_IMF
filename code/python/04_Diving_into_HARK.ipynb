{
 "cells": [
  {
   "cell_type": "markdown",
   "metadata": {},
   "source": [
    "# Diving into HARK\n",
    "So far, we have seen how to use HARK and solve a basic consumer with a consumption-savings problem. We also saw, how we can exploit the Sequence Space Jacobian package to add the New Keynesian part of a HANK model.\n",
    "\n",
    "Today, we want to dive more into HARK. We learn how the `Market`-Class works to solve for a Krusell Smith Model and highlight two different `AgentTypes` which can enrich the economic analysis.\n",
    "\n",
    "Note: We will look at some Demonstrations using Econ ARK (DemARK) and Repliactions (REMARK). The former need to be cloned from Github\n",
    "```\n",
    "git clone https://Github.com/econ-ark/DemARK\n",
    "```\n",
    "\n",
    "The latter has it's own python files and dependencies. Have a look at the requirements and readme file to make sure it runs smoothly."
   ]
  },
  {
   "cell_type": "markdown",
   "metadata": {},
   "source": [
    "## General Equilibrium models\n",
    "1. [Krusell Smith](https://github.com/econ-ark/KrusellSmith/blob/master/Code/Python/KrusellSmith.ipynb)\n",
    "2. [OLG model](https://github.com/econ-ark/DemARK/blob/master/notebooks/DiamondOLG.ipynb)"
   ]
  },
  {
   "cell_type": "markdown",
   "metadata": {},
   "source": [
    "## Agent Types\n",
    "1. [Portfolio Choice Models](https://github.com/econ-ark/HARK/blob/master/examples/ConsPortfolioModel/example_ConsPortfolioModel.ipynb)\n",
    "\n",
    "We can solve for two asset types (risky and safe) with three different assumptions of rebalancing:\n",
    "- Frictionless\n",
    "- Discrete portfolio choice\n",
    "- Calvo adjustment\n",
    "\n",
    "2. Durable Consumer Type\n",
    "\n",
    "In my JMP I solve for a consumer with non-durable and durable expenditure. For this, I replicated two papers where I implement and compare their solution method.\n",
    "- [Nested EGM](https://github.com/AMonninger/DurableConsumerType_REMARK/blob/main/code/python/DurableModel_Nested_EGM_Replication.ipynb)\n",
    "- [Root-Finding and FUES](https://github.com/AMonninger/DurableConsumerType_REMARK/blob/main/code/python/DurableModel_FUES_vs_Nested_EGM.ipynb)\n"
   ]
  },
  {
   "cell_type": "markdown",
   "metadata": {},
   "source": [
    "## Tools\n",
    "Very often you already have a code-base but encounter a problem such as a discrete choice which requires specific tools to circumvent. At Econ-ARK, we offer some useful algorithms and step-by-step example notebooks on how to use them:\n",
    "\n",
    "- [DCEGM-Upper-Envelope](https://github.com/econ-ark/DemARK/blob/master/notebooks/DCEGM-Upper-Envelope.ipynb): To solve problems with non-convex value functions due to discrete choices\n",
    "- [DecayInterp](https://github.com/econ-ark/HARK/tree/master/examples/Interpolation/DecayInterp.ipynb): Interpolation with decay which can be used if there exist an analytical limit\n",
    "- [Harmenberg-Aggregation](https://github.com/econ-ark/DemARK/blob/master/notebooks/Harmenberg-Aggregation.ipynb): Aggregating distributions with a permanent-income-weighting"
   ]
  }
 ],
 "metadata": {
  "language_info": {
   "name": "python"
  }
 },
 "nbformat": 4,
 "nbformat_minor": 2
}
