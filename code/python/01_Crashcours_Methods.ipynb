{
 "cells": [
  {
   "cell_type": "markdown",
   "metadata": {},
   "source": [
    "# Crashcourse Methods\n",
    "When solving structural models numerically, we need to teach the computer how to perform certain calculations. Many techniques have been proven to be very useful and are incorporated in toolboxes such as [econ-ark](https://econ-ark.org/), [quantecon](https://quantecon.org/), or [ssj](https://github.com/shade-econ/sequence-jacobian). Using these toolboxes might seem as a blackbox at first, meaning having an understanding of how the techniques work is crucial to assess results and adapt or debug code.\n",
    "\n",
    "To de-mystify the blackbox of such toolboxes, I want to highlight 4 important concepts:\n",
    "- Backward iteration\n",
    "- Calculating expectations\n",
    "- Endogeneous Gridpoint Method (EGM)\n",
    "- Constructing Functions\n",
    "\n",
    "For more detailed information on how we do things in HARK, have a look at our [notebooks](https://econ-ark.org/materials/) or look at a great description of solving [dyamic stochastic problems](https://github.com/llorracc/SolvingMicroDSOPs)."
   ]
  },
  {
   "cell_type": "markdown",
   "metadata": {},
   "source": [
    "## Part 1: Mathematical background\n",
    "\n",
    "Let us start by stating a standard consumption-saving problem.\n",
    "\n",
    "A consumer wants to solve the following problem:\n",
    "\\begin{align*}\n",
    "v_t(m_t) &= \\max_{c_t} {~} u(c_t) + \\beta (1-D_{t+1})  \\mathbb{E}_{t} \\left[ (\\Gamma_{t+1}\\psi_{t+1})^{1-\\rho} v_{t+1}(m_{t+1}) \\right], \\\\\n",
    "a_t &= m_t - c_t, \\\\\n",
    "a_t &\\geq \\text{$\\underline{a}$}, \\\\\n",
    "m_{t+1} &= R/(\\Gamma_{t+1} \\psi_{t+1}) a_t + \\theta_{t+1}, \\\\\n",
    "(\\psi_{t+1},\\theta_{t+1}) &\\sim F_{t+1}, \\\\\n",
    "\\mathbb{E}[\\psi]&=\\mathbb{E}[\\theta] = 1, \\\\\n",
    "u(c) &= \\frac{c^{1-\\rho}}{1-\\rho}.\n",
    "\\end{align*}\n",
    "\n",
    "That is, the agent maximizes lifetime utility $v_t(m_t)$ where $m_t$ is the state variable 'beginning-of-period market resources' which consists of last-periods assets (savings) including the earned return and labor income. Note that labor income in HARK consists of a permanent ($\\psi$) and a transitory ($\\theta$) shock and NOT a persistent component. We do this to normalize all variables by permanent income and save one state variable. Additionally, we allow for a permanent growth factor of income $\\Gamma$. Lastly, the agent discounts the future with a discount factor $\\beta$ and has a probability of dying $D$.\n",
    "\n",
    "The agent chooses then how much to consume $c_t$ and how much to save $a_t$. These are the polchoice variables."
   ]
  },
  {
   "cell_type": "markdown",
   "metadata": {},
   "source": [
    "### Taking First order Conditions\n",
    "\n",
    "First, we rewrite the problem by substituting $m_{t+1}$ with the transition equation. Now, the second term of the reformulated maximand represents \"end of period value of assets\" $\\mathfrak{v}_t(a_t)$ (\"Gothic v\"):\n",
    "\n",
    "\\begin{align*}\n",
    "v_t(m_t) &= \\max_{c_t} {~} u(c_t) + \\underbrace{\\beta (1-D_{t+1})  \\mathbb{E}_{t} \\left[ (\\Gamma_{t+1}\\psi_{t+1})^{1-\\rho} v_{t+1}(R/(\\Gamma_{t+1} \\psi_{t+1}) a_t + \\theta_{t+1}) \\right]}_{\\equiv \\mathfrak{v}_t(a_t)}.\n",
    "\\end{align*}\n",
    "\n",
    "The first order condition with respect to $c_t$ is thus simply:\n",
    "\n",
    "\\begin{align*}\n",
    "u^{\\prime}(c_t) - \\mathfrak{v}'_t(a_t) = 0 \\Longrightarrow c_t^{-\\rho} = \\mathfrak{v}'_t(a_t) \\Longrightarrow c_t = \\mathfrak{v}'_t(a_t)^{-1/\\rho},\n",
    "\\end{align*}\n",
    "\n",
    "and the marginal value of end-of-period assets can be computed as:\n",
    "\n",
    "\\begin{align*}\n",
    "\\mathfrak{v}'_t(a_t) = \\beta (1-D_{t+1})  \\mathbb{E}_{t} \\left[ R (\\Gamma_{t+1}\\psi_{t+1})^{-\\rho} v'_{t+1}(R/(\\Gamma_{t+1} \\psi_{t+1}) a_t + \\theta_{t+1}) \\right].\n",
    "\\end{align*}\n"
   ]
  },
  {
   "cell_type": "markdown",
   "metadata": {},
   "source": [
    "## Part 2: Solving the problem numerically\n",
    "\n"
   ]
  },
  {
   "cell_type": "markdown",
   "metadata": {},
   "source": [
    "### A) Backward iteration and final period\n",
    "The Euler equation shows that the optimal decision today depends on the optimal decision tomorrow. Luckily, we know that after the final or terminal period, the agent dies and hence the value is 0 beyond death.\n",
    "\n",
    "When $\\mathfrak{v}'_t(a_t) = 0$, the agent wants to consume as much as possible today. Due to the budget constraint, we know that the maximum is the beginning-of-period marginal resources. Therefore $c = m$ and we can construct the value function of the terminal period with that restriction.\n",
    "\n",
    "Now, we can use this solution for the preiod before and we can calculate all periods by going backward in time."
   ]
  },
  {
   "cell_type": "markdown",
   "metadata": {},
   "source": [
    "### B) Calculating expectations\n",
    "For all periods before the terminal period, we have to calculate expectations, eg. given the end of period assets, what is the beginning-of-next-period market resources and it's implied point on the value function.\n",
    "\n",
    "Remember that $m_{t+1} = R/(\\Gamma_{t+1} \\psi_{t+1}) a_t + \\theta_{t+1}$ where $\\psi$ and $\\theta$ are a realisation of a continuous distribution. Meaning, given $a_t$, there are infinitely many realisations of $m_{t+1}$ all being realized with a different probability. To solve this problem, we would need to take the integral:\n",
    "\n",
    "\\begin{align*}\n",
    "    \\mathfrak{v}'_t(a_t) = \\int \\int \\mathfrak{v}'_t(R/(\\Gamma_{t+1} \\psi) a_t + \\theta) dF\\psi dF\\theta\n",
    "\\end{align*}\n",
    "\n",
    "As taking integrals is computational intensive, we discretize the income distribution with n equiprobable shockpoints and transofrming the cdf with a step-wise function. This is called the quadrature method of integration."
   ]
  },
  {
   "cell_type": "markdown",
   "metadata": {},
   "source": [
    "![Discretization](../../figures/discreteApprox.png)"
   ]
  },
  {
   "cell_type": "markdown",
   "metadata": {},
   "source": [
    "Now, the problem translates to:\n",
    "\n",
    "\\begin{align*}\n",
    "    \\mathfrak{v}'_t(a_t) = \\sum_i \\sum_j P(i)*P(j) \\mathfrak{v}'_t(R/(\\Gamma_{t+1} \\psi_{i}) a_t + \\theta_{j})\n",
    "\\end{align*}\n",
    "\n",
    "In non-technical terms: For each point of the a-Grid, we calculate one possible realisation of income to get to the next period market resources and evaluate next period's marginal value function at this point. We do this for all discretized shock points (49) and take their weighted sum.\n",
    "This caluclation, a computer can solve easily."
   ]
  },
  {
   "cell_type": "markdown",
   "metadata": {},
   "source": [
    "### C) EGM\n",
    "\n",
    "One way to solve for the optimal consumption choice given the state variable $m_t$ is to pick a $c_t$, calculate $a_t$ and evaluate the euler equation. If the equation does not hold, pick a different $c_t$ until convergence.\n",
    "\n",
    "A much simpler approach is given by EGM for which we use the Euler equation directly. The FOC is:\n",
    "\\begin{align*}\n",
    "u^{\\prime}(c_t) = \\mathfrak{v}'_t(a_t)\n",
    "\\end{align*}\n",
    "We could take the inverse of $u^{\\prime}(c_t)$ to get $c_t$. With CRRA utility, we have\n",
    "\\begin{align*}\n",
    "    u^{\\prime}(c_t) = (c_t)^{-\\rho}\n",
    "\\end{align*}\n",
    "And therefore can rewrite the Euler equation:\n",
    "\\begin{align*}\n",
    "u^{\\prime}(c_t) &= \\mathfrak{v}'_t(a_t)\\\\\n",
    " (c_t)^{-\\rho} &= \\mathfrak{v}'_t(a_t)\\\\\n",
    "c_t &= (\\mathfrak{v}'_t(a_t))^{-1/ \\rho}\n",
    "\\end{align*}\n",
    "\n",
    "In practice, we fix end of period assets, construct $\\mathfrak{v}'_t(a_t)$ and calculate the optimal $c_t$ given $a_t$ using EGM. Now, we can use the budget constraint to back out beginning-of-period market resources ($m_t = c_t + a_t$) and construct a policy function $c_t(m_t$)"
   ]
  },
  {
   "cell_type": "markdown",
   "metadata": {},
   "source": [
    "### D) Constructing Functions\n",
    "We need to construct policy functions $c_t(m_t)$, value functions $v_t(m_t)$ and marginal value function $v'_t(m_t)$. The problem is that these functions are non-linear and approximating them can be tricky. In practice we use piece-wise linear approximations. That is, we calculate the value of a function for many points and assume the function is linear between them.\n",
    "\n",
    "1. Policy functions:\n",
    "The trick here is to choose a grid which has more points at the parts which are more non-linear. This tends to be where the end-of-period assets are small. Therefore, we use an multi-exponential grid for $a$.\n",
    "\n",
    "2. Value and marginal value functions:\n",
    "These functions are even more non-linear than policy functions. The trick we use here is to use the functional form of the CRRA utility function.\n",
    "- For the marginal value function, we take the FOC of the consumption function $v'_t(m_t) = (c_t(m_t))^{- \\rho}$.\n",
    "- For the value Function, we evaluate the inverse of the function which is much more linear ($v^{-1/\\rho}$). After interpolating this function, we construct the true function by taking the inverse again. \n",
    "\n",
    "3. Adding a limit function:\n",
    "Another great tip is to use limit functions. We specify our policy functions on an in-sample grid, but often want to evaluate it on an out-of sample grid. Think of simulations when we have very wealthy households. Piece-wise linear approximation assumes linearity between grid-points, it also assumes linearity after the last grid point. As a result, the approximation can become very bad the further we want to evaluate the function from the last grid point. Very often, we know the limit functions! For instance, the example above converges to the perfect foresight solution. If an agent becomes infinitely rich, the proportion of income on market resources becomes a very small. Therefore, the uncertainty of income does not play a role."
   ]
  },
  {
   "cell_type": "markdown",
   "metadata": {},
   "source": [
    "### Summary:\n",
    "To solve this consumption savings model we do the following:\n",
    "1. Construct a grid of end-of-period assets ($a_t$)\n",
    "2. Solve the terminal period using the budget constraint\n",
    "3. Construct functions of policies $c_t(m_t)$ and (marginal) value function $v_t(m_t)$, $v'_t(m_t)$\n",
    "\n",
    "4. Calculate $\\mathfrak{v}'_t(a_t)$ by taking the expectations from $a_t$ to $m_{t+1}$ and evaluate next periods marginal value function\n",
    "5. Use EGM to get optimal $c_t$ and back out $m_t$ with the budget constraint\n",
    "6. Construct functions of policies $c_t(m_t)$ and (marginal) value function $v_t(m_t)$, $v'_t(m_t)$\n",
    "7. Repeat steps 4-6 until first period or until convergence ($|v'_t(m_t)$ - $v'_{t+1}(m_{t+1})|$ < criterion)"
   ]
  }
 ],
 "metadata": {
  "language_info": {
   "name": "python"
  }
 },
 "nbformat": 4,
 "nbformat_minor": 2
}
